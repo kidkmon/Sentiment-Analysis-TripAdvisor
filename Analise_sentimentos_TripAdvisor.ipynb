{
  "nbformat": 4,
  "nbformat_minor": 0,
  "metadata": {
    "colab": {
      "name": "Analise-sentimentos-TripAdvisor.ipynb",
      "provenance": [],
      "collapsed_sections": [],
      "toc_visible": true,
      "include_colab_link": true
    },
    "kernelspec": {
      "display_name": "Python 3",
      "name": "python3"
    }
  },
  "cells": [
    {
      "cell_type": "markdown",
      "metadata": {
        "id": "view-in-github",
        "colab_type": "text"
      },
      "source": [
        "<a href=\"https://colab.research.google.com/github/kidkmon/Sentiment-Analysis-TripAdvisor/blob/main/Analise_sentimentos_TripAdvisor.ipynb\" target=\"_parent\"><img src=\"https://colab.research.google.com/assets/colab-badge.svg\" alt=\"Open In Colab\"/></a>"
      ]
    },
    {
      "cell_type": "markdown",
      "metadata": {
        "id": "HW1QrJad-LVe"
      },
      "source": [
        "# Configurações"
      ]
    },
    {
      "cell_type": "code",
      "metadata": {
        "id": "zjJOS9uHPyp4"
      },
      "source": [
        "from google.colab import drive # monta ambiente para salvar dados gerados no notebook\n",
        "\n",
        "import pandas as pd # biblioteca para processamento dos dados\n",
        "from pandas import json_normalize # realiza a normalização de campos do tipo json no dataframe\n",
        "import numpy as np # biblioteca de algebra linear\n",
        "\n",
        "import urllib.request # biblioteca que trabalha com requisições HTTP\n",
        "import json # biblioteca para processamento de dados do tipo JSON\n",
        "\n",
        "import seaborn as sns # biblioteca de plotagem de gráficos\n",
        "import matplotlib.dates as mdates\n",
        "import matplotlib.pyplot as plt # biblioteca para plotagem de gráficos\n",
        "%matplotlib inline\n",
        "\n",
        "from textblob import TextBlob # biblioteca para processamento de dados textuais\n",
        "from sklearn.metrics import classification_report # biblioteca para calcular as principais métricas de classificação."
      ],
      "execution_count": 1,
      "outputs": []
    },
    {
      "cell_type": "code",
      "metadata": {
        "id": "Vdg2bV-XdV3o",
        "colab": {
          "base_uri": "https://localhost:8080/",
          "height": 527
        },
        "outputId": "7c885fac-a69f-4fd5-82f9-ee5318951b89"
      },
      "source": [
        "from google.colab import drive\n",
        "drive.mount('/content/drive')"
      ],
      "execution_count": null,
      "outputs": [
        {
          "output_type": "error",
          "ename": "KeyboardInterrupt",
          "evalue": "ignored",
          "traceback": [
            "\u001b[0;31m---------------------------------------------------------------------------\u001b[0m",
            "\u001b[0;31mKeyboardInterrupt\u001b[0m                         Traceback (most recent call last)",
            "\u001b[0;32m/usr/local/lib/python3.6/dist-packages/ipykernel/kernelbase.py\u001b[0m in \u001b[0;36m_input_request\u001b[0;34m(self, prompt, ident, parent, password)\u001b[0m\n\u001b[1;32m    728\u001b[0m             \u001b[0;32mtry\u001b[0m\u001b[0;34m:\u001b[0m\u001b[0;34m\u001b[0m\u001b[0;34m\u001b[0m\u001b[0m\n\u001b[0;32m--> 729\u001b[0;31m                 \u001b[0mident\u001b[0m\u001b[0;34m,\u001b[0m \u001b[0mreply\u001b[0m \u001b[0;34m=\u001b[0m \u001b[0mself\u001b[0m\u001b[0;34m.\u001b[0m\u001b[0msession\u001b[0m\u001b[0;34m.\u001b[0m\u001b[0mrecv\u001b[0m\u001b[0;34m(\u001b[0m\u001b[0mself\u001b[0m\u001b[0;34m.\u001b[0m\u001b[0mstdin_socket\u001b[0m\u001b[0;34m,\u001b[0m \u001b[0;36m0\u001b[0m\u001b[0;34m)\u001b[0m\u001b[0;34m\u001b[0m\u001b[0;34m\u001b[0m\u001b[0m\n\u001b[0m\u001b[1;32m    730\u001b[0m             \u001b[0;32mexcept\u001b[0m \u001b[0mException\u001b[0m\u001b[0;34m:\u001b[0m\u001b[0;34m\u001b[0m\u001b[0;34m\u001b[0m\u001b[0m\n",
            "\u001b[0;32m/usr/local/lib/python3.6/dist-packages/jupyter_client/session.py\u001b[0m in \u001b[0;36mrecv\u001b[0;34m(self, socket, mode, content, copy)\u001b[0m\n\u001b[1;32m    802\u001b[0m         \u001b[0;32mtry\u001b[0m\u001b[0;34m:\u001b[0m\u001b[0;34m\u001b[0m\u001b[0;34m\u001b[0m\u001b[0m\n\u001b[0;32m--> 803\u001b[0;31m             \u001b[0mmsg_list\u001b[0m \u001b[0;34m=\u001b[0m \u001b[0msocket\u001b[0m\u001b[0;34m.\u001b[0m\u001b[0mrecv_multipart\u001b[0m\u001b[0;34m(\u001b[0m\u001b[0mmode\u001b[0m\u001b[0;34m,\u001b[0m \u001b[0mcopy\u001b[0m\u001b[0;34m=\u001b[0m\u001b[0mcopy\u001b[0m\u001b[0;34m)\u001b[0m\u001b[0;34m\u001b[0m\u001b[0;34m\u001b[0m\u001b[0m\n\u001b[0m\u001b[1;32m    804\u001b[0m         \u001b[0;32mexcept\u001b[0m \u001b[0mzmq\u001b[0m\u001b[0;34m.\u001b[0m\u001b[0mZMQError\u001b[0m \u001b[0;32mas\u001b[0m \u001b[0me\u001b[0m\u001b[0;34m:\u001b[0m\u001b[0;34m\u001b[0m\u001b[0;34m\u001b[0m\u001b[0m\n",
            "\u001b[0;32m/usr/local/lib/python3.6/dist-packages/zmq/sugar/socket.py\u001b[0m in \u001b[0;36mrecv_multipart\u001b[0;34m(self, flags, copy, track)\u001b[0m\n\u001b[1;32m    565\u001b[0m         \"\"\"\n\u001b[0;32m--> 566\u001b[0;31m         \u001b[0mparts\u001b[0m \u001b[0;34m=\u001b[0m \u001b[0;34m[\u001b[0m\u001b[0mself\u001b[0m\u001b[0;34m.\u001b[0m\u001b[0mrecv\u001b[0m\u001b[0;34m(\u001b[0m\u001b[0mflags\u001b[0m\u001b[0;34m,\u001b[0m \u001b[0mcopy\u001b[0m\u001b[0;34m=\u001b[0m\u001b[0mcopy\u001b[0m\u001b[0;34m,\u001b[0m \u001b[0mtrack\u001b[0m\u001b[0;34m=\u001b[0m\u001b[0mtrack\u001b[0m\u001b[0;34m)\u001b[0m\u001b[0;34m]\u001b[0m\u001b[0;34m\u001b[0m\u001b[0;34m\u001b[0m\u001b[0m\n\u001b[0m\u001b[1;32m    567\u001b[0m         \u001b[0;31m# have first part already, only loop while more to receive\u001b[0m\u001b[0;34m\u001b[0m\u001b[0;34m\u001b[0m\u001b[0;34m\u001b[0m\u001b[0m\n",
            "\u001b[0;32mzmq/backend/cython/socket.pyx\u001b[0m in \u001b[0;36mzmq.backend.cython.socket.Socket.recv\u001b[0;34m()\u001b[0m\n",
            "\u001b[0;32mzmq/backend/cython/socket.pyx\u001b[0m in \u001b[0;36mzmq.backend.cython.socket.Socket.recv\u001b[0;34m()\u001b[0m\n",
            "\u001b[0;32mzmq/backend/cython/socket.pyx\u001b[0m in \u001b[0;36mzmq.backend.cython.socket._recv_copy\u001b[0;34m()\u001b[0m\n",
            "\u001b[0;32m/usr/local/lib/python3.6/dist-packages/zmq/backend/cython/checkrc.pxd\u001b[0m in \u001b[0;36mzmq.backend.cython.checkrc._check_rc\u001b[0;34m()\u001b[0m\n",
            "\u001b[0;31mKeyboardInterrupt\u001b[0m: ",
            "\nDuring handling of the above exception, another exception occurred:\n",
            "\u001b[0;31mKeyboardInterrupt\u001b[0m                         Traceback (most recent call last)",
            "\u001b[0;32m<ipython-input-2-d5df0069828e>\u001b[0m in \u001b[0;36m<module>\u001b[0;34m()\u001b[0m\n\u001b[1;32m      1\u001b[0m \u001b[0;32mfrom\u001b[0m \u001b[0mgoogle\u001b[0m\u001b[0;34m.\u001b[0m\u001b[0mcolab\u001b[0m \u001b[0;32mimport\u001b[0m \u001b[0mdrive\u001b[0m\u001b[0;34m\u001b[0m\u001b[0;34m\u001b[0m\u001b[0m\n\u001b[0;32m----> 2\u001b[0;31m \u001b[0mdrive\u001b[0m\u001b[0;34m.\u001b[0m\u001b[0mmount\u001b[0m\u001b[0;34m(\u001b[0m\u001b[0;34m'/content/drive'\u001b[0m\u001b[0;34m)\u001b[0m\u001b[0;34m\u001b[0m\u001b[0;34m\u001b[0m\u001b[0m\n\u001b[0m",
            "\u001b[0;32m/usr/local/lib/python3.6/dist-packages/google/colab/drive.py\u001b[0m in \u001b[0;36mmount\u001b[0;34m(mountpoint, force_remount, timeout_ms, use_metadata_server)\u001b[0m\n\u001b[1;32m    249\u001b[0m       \u001b[0;32mwith\u001b[0m \u001b[0m_output\u001b[0m\u001b[0;34m.\u001b[0m\u001b[0muse_tags\u001b[0m\u001b[0;34m(\u001b[0m\u001b[0;34m'dfs-auth-dance'\u001b[0m\u001b[0;34m)\u001b[0m\u001b[0;34m:\u001b[0m\u001b[0;34m\u001b[0m\u001b[0;34m\u001b[0m\u001b[0m\n\u001b[1;32m    250\u001b[0m         \u001b[0;32mwith\u001b[0m \u001b[0mopen\u001b[0m\u001b[0;34m(\u001b[0m\u001b[0mfifo\u001b[0m\u001b[0;34m,\u001b[0m \u001b[0;34m'w'\u001b[0m\u001b[0;34m)\u001b[0m \u001b[0;32mas\u001b[0m \u001b[0mfifo_file\u001b[0m\u001b[0;34m:\u001b[0m\u001b[0;34m\u001b[0m\u001b[0;34m\u001b[0m\u001b[0m\n\u001b[0;32m--> 251\u001b[0;31m           \u001b[0mfifo_file\u001b[0m\u001b[0;34m.\u001b[0m\u001b[0mwrite\u001b[0m\u001b[0;34m(\u001b[0m\u001b[0mget_code\u001b[0m\u001b[0;34m(\u001b[0m\u001b[0mauth_prompt\u001b[0m\u001b[0;34m)\u001b[0m \u001b[0;34m+\u001b[0m \u001b[0;34m'\\n'\u001b[0m\u001b[0;34m)\u001b[0m\u001b[0;34m\u001b[0m\u001b[0;34m\u001b[0m\u001b[0m\n\u001b[0m\u001b[1;32m    252\u001b[0m       \u001b[0mwrote_to_fifo\u001b[0m \u001b[0;34m=\u001b[0m \u001b[0;32mTrue\u001b[0m\u001b[0;34m\u001b[0m\u001b[0;34m\u001b[0m\u001b[0m\n\u001b[1;32m    253\u001b[0m     \u001b[0;32melif\u001b[0m \u001b[0mcase\u001b[0m \u001b[0;34m==\u001b[0m \u001b[0;36m5\u001b[0m\u001b[0;34m:\u001b[0m\u001b[0;34m\u001b[0m\u001b[0;34m\u001b[0m\u001b[0m\n",
            "\u001b[0;32m/usr/local/lib/python3.6/dist-packages/ipykernel/kernelbase.py\u001b[0m in \u001b[0;36mraw_input\u001b[0;34m(self, prompt)\u001b[0m\n\u001b[1;32m    702\u001b[0m             \u001b[0mself\u001b[0m\u001b[0;34m.\u001b[0m\u001b[0m_parent_ident\u001b[0m\u001b[0;34m,\u001b[0m\u001b[0;34m\u001b[0m\u001b[0;34m\u001b[0m\u001b[0m\n\u001b[1;32m    703\u001b[0m             \u001b[0mself\u001b[0m\u001b[0;34m.\u001b[0m\u001b[0m_parent_header\u001b[0m\u001b[0;34m,\u001b[0m\u001b[0;34m\u001b[0m\u001b[0;34m\u001b[0m\u001b[0m\n\u001b[0;32m--> 704\u001b[0;31m             \u001b[0mpassword\u001b[0m\u001b[0;34m=\u001b[0m\u001b[0;32mFalse\u001b[0m\u001b[0;34m,\u001b[0m\u001b[0;34m\u001b[0m\u001b[0;34m\u001b[0m\u001b[0m\n\u001b[0m\u001b[1;32m    705\u001b[0m         )\n\u001b[1;32m    706\u001b[0m \u001b[0;34m\u001b[0m\u001b[0m\n",
            "\u001b[0;32m/usr/local/lib/python3.6/dist-packages/ipykernel/kernelbase.py\u001b[0m in \u001b[0;36m_input_request\u001b[0;34m(self, prompt, ident, parent, password)\u001b[0m\n\u001b[1;32m    732\u001b[0m             \u001b[0;32mexcept\u001b[0m \u001b[0mKeyboardInterrupt\u001b[0m\u001b[0;34m:\u001b[0m\u001b[0;34m\u001b[0m\u001b[0;34m\u001b[0m\u001b[0m\n\u001b[1;32m    733\u001b[0m                 \u001b[0;31m# re-raise KeyboardInterrupt, to truncate traceback\u001b[0m\u001b[0;34m\u001b[0m\u001b[0;34m\u001b[0m\u001b[0;34m\u001b[0m\u001b[0m\n\u001b[0;32m--> 734\u001b[0;31m                 \u001b[0;32mraise\u001b[0m \u001b[0mKeyboardInterrupt\u001b[0m\u001b[0;34m\u001b[0m\u001b[0;34m\u001b[0m\u001b[0m\n\u001b[0m\u001b[1;32m    735\u001b[0m             \u001b[0;32melse\u001b[0m\u001b[0;34m:\u001b[0m\u001b[0;34m\u001b[0m\u001b[0;34m\u001b[0m\u001b[0m\n\u001b[1;32m    736\u001b[0m                 \u001b[0;32mbreak\u001b[0m\u001b[0;34m\u001b[0m\u001b[0;34m\u001b[0m\u001b[0m\n",
            "\u001b[0;31mKeyboardInterrupt\u001b[0m: "
          ]
        }
      ]
    },
    {
      "cell_type": "code",
      "metadata": {
        "id": "LJ1FnVjUcvLw",
        "colab": {
          "base_uri": "https://localhost:8080/"
        },
        "outputId": "c21af74b-6f63-4646-ac70-292d75092bec"
      },
      "source": [
        "#Instalação de pacotes\n",
        "\n",
        "!python -m textblob.download_corpora\n",
        "!pip install --upgrade geopandas"
      ],
      "execution_count": 2,
      "outputs": [
        {
          "output_type": "stream",
          "text": [
            "[nltk_data] Downloading package brown to /root/nltk_data...\n",
            "[nltk_data]   Unzipping corpora/brown.zip.\n",
            "[nltk_data] Downloading package punkt to /root/nltk_data...\n",
            "[nltk_data]   Unzipping tokenizers/punkt.zip.\n",
            "[nltk_data] Downloading package wordnet to /root/nltk_data...\n",
            "[nltk_data]   Unzipping corpora/wordnet.zip.\n",
            "[nltk_data] Downloading package averaged_perceptron_tagger to\n",
            "[nltk_data]     /root/nltk_data...\n",
            "[nltk_data]   Unzipping taggers/averaged_perceptron_tagger.zip.\n",
            "[nltk_data] Downloading package conll2000 to /root/nltk_data...\n",
            "[nltk_data]   Unzipping corpora/conll2000.zip.\n",
            "[nltk_data] Downloading package movie_reviews to /root/nltk_data...\n",
            "[nltk_data]   Unzipping corpora/movie_reviews.zip.\n",
            "Finished.\n",
            "Collecting geopandas\n",
            "\u001b[?25l  Downloading https://files.pythonhosted.org/packages/f7/a4/e66aafbefcbb717813bf3a355c8c4fc3ed04ea1dd7feb2920f2f4f868921/geopandas-0.8.1-py2.py3-none-any.whl (962kB)\n",
            "\u001b[K     |████████████████████████████████| 972kB 12.4MB/s \n",
            "\u001b[?25hCollecting fiona\n",
            "\u001b[?25l  Downloading https://files.pythonhosted.org/packages/37/94/4910fd55246c1d963727b03885ead6ef1cd3748a465f7b0239ab25dfc9a3/Fiona-1.8.18-cp36-cp36m-manylinux1_x86_64.whl (14.8MB)\n",
            "\u001b[K     |████████████████████████████████| 14.8MB 347kB/s \n",
            "\u001b[?25hRequirement already satisfied, skipping upgrade: pandas>=0.23.0 in /usr/local/lib/python3.6/dist-packages (from geopandas) (1.1.4)\n",
            "Collecting pyproj>=2.2.0\n",
            "\u001b[?25l  Downloading https://files.pythonhosted.org/packages/e4/ab/280e80a67cfc109d15428c0ec56391fc03a65857b7727cf4e6e6f99a4204/pyproj-3.0.0.post1-cp36-cp36m-manylinux2010_x86_64.whl (6.4MB)\n",
            "\u001b[K     |████████████████████████████████| 6.5MB 51.9MB/s \n",
            "\u001b[?25hRequirement already satisfied, skipping upgrade: shapely in /usr/local/lib/python3.6/dist-packages (from geopandas) (1.7.1)\n",
            "Requirement already satisfied, skipping upgrade: certifi in /usr/local/lib/python3.6/dist-packages (from fiona->geopandas) (2020.11.8)\n",
            "Requirement already satisfied, skipping upgrade: six>=1.7 in /usr/local/lib/python3.6/dist-packages (from fiona->geopandas) (1.15.0)\n",
            "Requirement already satisfied, skipping upgrade: attrs>=17 in /usr/local/lib/python3.6/dist-packages (from fiona->geopandas) (20.3.0)\n",
            "Requirement already satisfied, skipping upgrade: click<8,>=4.0 in /usr/local/lib/python3.6/dist-packages (from fiona->geopandas) (7.1.2)\n",
            "Collecting cligj>=0.5\n",
            "  Downloading https://files.pythonhosted.org/packages/42/1e/947eadf10d6804bf276eb8a038bd5307996dceaaa41cfd21b7a15ec62f5d/cligj-0.7.1-py3-none-any.whl\n",
            "Collecting munch\n",
            "  Downloading https://files.pythonhosted.org/packages/cc/ab/85d8da5c9a45e072301beb37ad7f833cd344e04c817d97e0cc75681d248f/munch-2.5.0-py2.py3-none-any.whl\n",
            "Collecting click-plugins>=1.0\n",
            "  Downloading https://files.pythonhosted.org/packages/e9/da/824b92d9942f4e472702488857914bdd50f73021efea15b4cad9aca8ecef/click_plugins-1.1.1-py2.py3-none-any.whl\n",
            "Requirement already satisfied, skipping upgrade: pytz>=2017.2 in /usr/local/lib/python3.6/dist-packages (from pandas>=0.23.0->geopandas) (2018.9)\n",
            "Requirement already satisfied, skipping upgrade: python-dateutil>=2.7.3 in /usr/local/lib/python3.6/dist-packages (from pandas>=0.23.0->geopandas) (2.8.1)\n",
            "Requirement already satisfied, skipping upgrade: numpy>=1.15.4 in /usr/local/lib/python3.6/dist-packages (from pandas>=0.23.0->geopandas) (1.18.5)\n",
            "Installing collected packages: cligj, munch, click-plugins, fiona, pyproj, geopandas\n",
            "Successfully installed click-plugins-1.1.1 cligj-0.7.1 fiona-1.8.18 geopandas-0.8.1 munch-2.5.0 pyproj-3.0.0.post1\n"
          ],
          "name": "stdout"
        }
      ]
    },
    {
      "cell_type": "code",
      "metadata": {
        "id": "jlwf6ZZf_81R",
        "outputId": "f5139ebd-8c97-4aff-ec3b-cfb8bf29f926",
        "colab": {
          "base_uri": "https://localhost:8080/"
        }
      },
      "source": [
        "# Versão das bibliotecas utilizadas\n",
        "!python --version\n",
        "print(\"Pandas\", pd.__version__)\n",
        "print(\"Numpy\", np.__version__)"
      ],
      "execution_count": 3,
      "outputs": [
        {
          "output_type": "stream",
          "text": [
            "Python 3.6.9\n",
            "Pandas 1.1.4\n",
            "Numpy 1.18.5\n"
          ],
          "name": "stdout"
        }
      ]
    },
    {
      "cell_type": "markdown",
      "metadata": {
        "id": "sbq3pvX_Rv9e"
      },
      "source": [
        "# Processamento de dados"
      ]
    },
    {
      "cell_type": "code",
      "metadata": {
        "id": "9HHmBOam-2TE"
      },
      "source": [
        "def load_data(url, encoding=\"utf-8\"):\n",
        "  dat_file = urllib.request.urlopen(url)\n",
        "\n",
        "  json_format_file = [json.loads(line) for line in dat_file]\n",
        "\n",
        "  df = pd.DataFrame(json_format_file)\n",
        "  \n",
        "  return df"
      ],
      "execution_count": 29,
      "outputs": []
    },
    {
      "cell_type": "code",
      "metadata": {
        "id": "03cN_LQA-IZw",
        "colab": {
          "base_uri": "https://localhost:8080/",
          "height": 476
        },
        "outputId": "ff43611c-a6c5-4848-ff5f-4e68c881f2d4"
      },
      "source": [
        "df = load_data(url=\"http://tiagodemelo.info/datasets/dataset-v2.dat\")\n",
        "df.head()"
      ],
      "execution_count": 82,
      "outputs": [
        {
          "output_type": "execute_result",
          "data": {
            "text/html": [
              "<div>\n",
              "<style scoped>\n",
              "    .dataframe tbody tr th:only-of-type {\n",
              "        vertical-align: middle;\n",
              "    }\n",
              "\n",
              "    .dataframe tbody tr th {\n",
              "        vertical-align: top;\n",
              "    }\n",
              "\n",
              "    .dataframe thead th {\n",
              "        text-align: right;\n",
              "    }\n",
              "</style>\n",
              "<table border=\"1\" class=\"dataframe\">\n",
              "  <thead>\n",
              "    <tr style=\"text-align: right;\">\n",
              "      <th></th>\n",
              "      <th>title</th>\n",
              "      <th>reviewId</th>\n",
              "      <th>restaurantId</th>\n",
              "      <th>author</th>\n",
              "      <th>reviewBody</th>\n",
              "      <th>language</th>\n",
              "      <th>mobileDevice</th>\n",
              "      <th>userLocation</th>\n",
              "      <th>publicationDate</th>\n",
              "      <th>visitDate</th>\n",
              "      <th>ratingValue</th>\n",
              "      <th>itemReviewed</th>\n",
              "    </tr>\n",
              "  </thead>\n",
              "  <tbody>\n",
              "    <tr>\n",
              "      <th>0</th>\n",
              "      <td>Jantar</td>\n",
              "      <td>692856288</td>\n",
              "      <td>2344932</td>\n",
              "      <td>larinhavercosa222</td>\n",
              "      <td>Comida maravilhosa, lugar do verdadeiro chicle...</td>\n",
              "      <td>pt</td>\n",
              "      <td>True</td>\n",
              "      <td>São Carlos, SP</td>\n",
              "      <td>26/07/2019</td>\n",
              "      <td>07/2019</td>\n",
              "      <td>5</td>\n",
              "      <td>{'name': 'Imperador dos Camarões', 'address': ...</td>\n",
              "    </tr>\n",
              "    <tr>\n",
              "      <th>1</th>\n",
              "      <td>Uma boa experiência.</td>\n",
              "      <td>229208487</td>\n",
              "      <td>3720906</td>\n",
              "      <td>Pano P</td>\n",
              "      <td>Comida boa, drinks legais e um ambiente bem ac...</td>\n",
              "      <td>pt</td>\n",
              "      <td>True</td>\n",
              "      <td>Manaus, AM</td>\n",
              "      <td>16/09/2014</td>\n",
              "      <td>None</td>\n",
              "      <td>4</td>\n",
              "      <td>{'name': 'Guacamole Natal', 'address': {'stree...</td>\n",
              "    </tr>\n",
              "    <tr>\n",
              "      <th>2</th>\n",
              "      <td>Otimo self service</td>\n",
              "      <td>679002332</td>\n",
              "      <td>2248105</td>\n",
              "      <td>Magma100</td>\n",
              "      <td>Excelente pra ir com a família! Ótima Comida, ...</td>\n",
              "      <td>pt</td>\n",
              "      <td>True</td>\n",
              "      <td>Goiânia, GO</td>\n",
              "      <td>04/06/2019</td>\n",
              "      <td>07/2018</td>\n",
              "      <td>4</td>\n",
              "      <td>{'name': 'Chica Pitanga', 'address': {'streetA...</td>\n",
              "    </tr>\n",
              "    <tr>\n",
              "      <th>3</th>\n",
              "      <td>O sorvete mais tradicional do estado</td>\n",
              "      <td>355671519</td>\n",
              "      <td>8168302</td>\n",
              "      <td>Yurie M</td>\n",
              "      <td>Tomo sorvete na Visabor faz mais de 30 anos. S...</td>\n",
              "      <td>pt</td>\n",
              "      <td>False</td>\n",
              "      <td>Aracaju, SE</td>\n",
              "      <td>15/03/2016</td>\n",
              "      <td>01/2016</td>\n",
              "      <td>5</td>\n",
              "      <td>{'name': 'Sorvetes Vi Sabor', 'address': {'str...</td>\n",
              "    </tr>\n",
              "    <tr>\n",
              "      <th>4</th>\n",
              "      <td>Melhor hamburger!</td>\n",
              "      <td>268741921</td>\n",
              "      <td>5395141</td>\n",
              "      <td>Debora_C85</td>\n",
              "      <td>O melhor hamburger que já comi! Excelente aten...</td>\n",
              "      <td>pt</td>\n",
              "      <td>False</td>\n",
              "      <td>Rio de Janeiro, RJ</td>\n",
              "      <td>28/04/2015</td>\n",
              "      <td>04/2015</td>\n",
              "      <td>5</td>\n",
              "      <td>{'name': 'Z Deli Sandwich Shop', 'address': {'...</td>\n",
              "    </tr>\n",
              "  </tbody>\n",
              "</table>\n",
              "</div>"
            ],
            "text/plain": [
              "                                  title  ...                                       itemReviewed\n",
              "0                               Jantar   ...  {'name': 'Imperador dos Camarões', 'address': ...\n",
              "1                  Uma boa experiência.  ...  {'name': 'Guacamole Natal', 'address': {'stree...\n",
              "2                    Otimo self service  ...  {'name': 'Chica Pitanga', 'address': {'streetA...\n",
              "3  O sorvete mais tradicional do estado  ...  {'name': 'Sorvetes Vi Sabor', 'address': {'str...\n",
              "4                     Melhor hamburger!  ...  {'name': 'Z Deli Sandwich Shop', 'address': {'...\n",
              "\n",
              "[5 rows x 12 columns]"
            ]
          },
          "metadata": {
            "tags": []
          },
          "execution_count": 82
        }
      ]
    },
    {
      "cell_type": "code",
      "metadata": {
        "id": "Hjz2zgsibw6h",
        "outputId": "19df8bf8-3a13-498e-adf7-ad5704122b8a",
        "colab": {
          "base_uri": "https://localhost:8080/",
          "height": 442
        }
      },
      "source": [
        "df.tail()"
      ],
      "execution_count": 34,
      "outputs": [
        {
          "output_type": "execute_result",
          "data": {
            "text/html": [
              "<div>\n",
              "<style scoped>\n",
              "    .dataframe tbody tr th:only-of-type {\n",
              "        vertical-align: middle;\n",
              "    }\n",
              "\n",
              "    .dataframe tbody tr th {\n",
              "        vertical-align: top;\n",
              "    }\n",
              "\n",
              "    .dataframe thead th {\n",
              "        text-align: right;\n",
              "    }\n",
              "</style>\n",
              "<table border=\"1\" class=\"dataframe\">\n",
              "  <thead>\n",
              "    <tr style=\"text-align: right;\">\n",
              "      <th></th>\n",
              "      <th>title</th>\n",
              "      <th>reviewId</th>\n",
              "      <th>restaurantId</th>\n",
              "      <th>author</th>\n",
              "      <th>reviewBody</th>\n",
              "      <th>language</th>\n",
              "      <th>mobileDevice</th>\n",
              "      <th>userLocation</th>\n",
              "      <th>publicationDate</th>\n",
              "      <th>visitDate</th>\n",
              "      <th>ratingValue</th>\n",
              "      <th>itemReviewed</th>\n",
              "    </tr>\n",
              "  </thead>\n",
              "  <tbody>\n",
              "    <tr>\n",
              "      <th>99995</th>\n",
              "      <td>Nova opção no Paseo!!!</td>\n",
              "      <td>672210394</td>\n",
              "      <td>17424548</td>\n",
              "      <td>Fabiano B</td>\n",
              "      <td>Ainda não inaugurado oficialmente, está atende...</td>\n",
              "      <td>pt</td>\n",
              "      <td>True</td>\n",
              "      <td>Porto Alegre, RS</td>\n",
              "      <td>07/05/2019</td>\n",
              "      <td>05/2019</td>\n",
              "      <td>5</td>\n",
              "      <td>{'name': 'Boteco Maestro', 'address': {'street...</td>\n",
              "    </tr>\n",
              "    <tr>\n",
              "      <th>99996</th>\n",
              "      <td>Bom</td>\n",
              "      <td>380904400</td>\n",
              "      <td>2440184</td>\n",
              "      <td>Chris L</td>\n",
              "      <td>Bom atendimento, lugar bonito, comida muito go...</td>\n",
              "      <td>pt</td>\n",
              "      <td>True</td>\n",
              "      <td>Cork, Irlanda</td>\n",
              "      <td>08/06/2016</td>\n",
              "      <td>01/2016</td>\n",
              "      <td>4</td>\n",
              "      <td>{'name': 'Casa do Marquês', 'address': {'stree...</td>\n",
              "    </tr>\n",
              "    <tr>\n",
              "      <th>99997</th>\n",
              "      <td>Bom bar</td>\n",
              "      <td>186111858</td>\n",
              "      <td>2392996</td>\n",
              "      <td>Guilherme P</td>\n",
              "      <td>O Rio Scenarium é uma das baladas mais famosas...</td>\n",
              "      <td>pt</td>\n",
              "      <td>False</td>\n",
              "      <td>São Paulo, SP</td>\n",
              "      <td>27/11/2013</td>\n",
              "      <td>11/2013</td>\n",
              "      <td>4</td>\n",
              "      <td>{'name': 'Rio Scenarium', 'address': {'streetA...</td>\n",
              "    </tr>\n",
              "    <tr>\n",
              "      <th>99998</th>\n",
              "      <td>Me senti enganada...</td>\n",
              "      <td>152745909</td>\n",
              "      <td>1062290</td>\n",
              "      <td>LisianeCohem</td>\n",
              "      <td>Fui por indicação e com boa expectativa!\\n116,...</td>\n",
              "      <td>pt</td>\n",
              "      <td>True</td>\n",
              "      <td>Porto Alegre, RS</td>\n",
              "      <td>21/02/2013</td>\n",
              "      <td>None</td>\n",
              "      <td>2</td>\n",
              "      <td>{'name': 'Celeiro', 'address': {'streetAddress...</td>\n",
              "    </tr>\n",
              "    <tr>\n",
              "      <th>99999</th>\n",
              "      <td>Restaurante excelente</td>\n",
              "      <td>649755498</td>\n",
              "      <td>12433911</td>\n",
              "      <td>brunotulio</td>\n",
              "      <td>Experiência fantástica com comida deliciosa e ...</td>\n",
              "      <td>pt</td>\n",
              "      <td>True</td>\n",
              "      <td>Manaus, AM</td>\n",
              "      <td>02/02/2019</td>\n",
              "      <td>02/2019</td>\n",
              "      <td>5</td>\n",
              "      <td>{'name': 'Coco Bambu Manaus', 'address': {'str...</td>\n",
              "    </tr>\n",
              "  </tbody>\n",
              "</table>\n",
              "</div>"
            ],
            "text/plain": [
              "                        title  ...                                       itemReviewed\n",
              "99995  Nova opção no Paseo!!!  ...  {'name': 'Boteco Maestro', 'address': {'street...\n",
              "99996                     Bom  ...  {'name': 'Casa do Marquês', 'address': {'stree...\n",
              "99997                 Bom bar  ...  {'name': 'Rio Scenarium', 'address': {'streetA...\n",
              "99998    Me senti enganada...  ...  {'name': 'Celeiro', 'address': {'streetAddress...\n",
              "99999   Restaurante excelente  ...  {'name': 'Coco Bambu Manaus', 'address': {'str...\n",
              "\n",
              "[5 rows x 12 columns]"
            ]
          },
          "metadata": {
            "tags": []
          },
          "execution_count": 34
        }
      ]
    },
    {
      "cell_type": "code",
      "metadata": {
        "id": "wsrSQ8Ilt_js",
        "outputId": "e9c385c6-65b0-44ca-8e9e-e6a9a023d756",
        "colab": {
          "base_uri": "https://localhost:8080/"
        }
      },
      "source": [
        "user_location = df.groupby([\"userLocation\"]).size().reset_index()\n",
        "  \n",
        "user_location[\"userLocation\"].head(20)"
      ],
      "execution_count": 133,
      "outputs": [
        {
          "output_type": "execute_result",
          "data": {
            "text/plain": [
              "0                       Curtiba\n",
              "1                             .\n",
              "2                            44\n",
              "3                  @los angeles\n",
              "4                    ACAILANDIA\n",
              "5                       ARACAJU\n",
              "6                      AREIA PB\n",
              "7                       ATIBAIA\n",
              "8              Aachen, Alemanha\n",
              "9             Aarhus, Dinamarca\n",
              "10                Abadiânia, GO\n",
              "11               Abaetetuba, PA\n",
              "12          Abel Figueiredo, PA\n",
              "13        Aberdeen, Reino Unido\n",
              "14                 Abrantes, BA\n",
              "15      Abrantes, Bahia, Brazil\n",
              "16             Abreu e Lima, PE\n",
              "17    Abu Dabi, Emirados Árabes\n",
              "18                   Acaraú, CE\n",
              "19                    Acari, RN\n",
              "Name: userLocation, dtype: object"
            ]
          },
          "metadata": {
            "tags": []
          },
          "execution_count": 133
        }
      ]
    },
    {
      "cell_type": "code",
      "metadata": {
        "id": "SaBnpL1YbQnx",
        "outputId": "110e8a4a-5291-47eb-f316-f92e2bf0ac9b",
        "colab": {
          "base_uri": "https://localhost:8080/"
        }
      },
      "source": [
        "user_location = df.groupby([\"userLocation\"]).size().reset_index()\n",
        "special_case = user_location[\"userLocation\"].str.isalpha()\n",
        "\n",
        "location = user_location.sort_values(by=[\"userLocation\"])\n",
        "\n",
        "user_location[\"userLocation\"]"
      ],
      "execution_count": 102,
      "outputs": [
        {
          "output_type": "execute_result",
          "data": {
            "text/plain": [
              "0                      Curtiba\n",
              "1                            .\n",
              "2                           44\n",
              "3                 @los angeles\n",
              "4                   ACAILANDIA\n",
              "                 ...          \n",
              "4109    Águas de São Pedro, SP\n",
              "4110                Ângulo, PR\n",
              "4111            Åland, Finland\n",
              "4112           Évora, Portugal\n",
              "4113          Óbidos, Portugal\n",
              "Name: userLocation, Length: 4114, dtype: object"
            ]
          },
          "metadata": {
            "tags": []
          },
          "execution_count": 102
        }
      ]
    },
    {
      "cell_type": "markdown",
      "metadata": {
        "id": "OzKpHsiwnq8g"
      },
      "source": [
        "## Limpeza dos dados"
      ]
    },
    {
      "cell_type": "code",
      "metadata": {
        "id": "1-S2fFHiORC4",
        "colab": {
          "base_uri": "https://localhost:8080/"
        },
        "outputId": "b8d51f33-0bb9-48b9-96d7-204373f46ad7"
      },
      "source": [
        "df.info()"
      ],
      "execution_count": 6,
      "outputs": [
        {
          "output_type": "stream",
          "text": [
            "<class 'pandas.core.frame.DataFrame'>\n",
            "RangeIndex: 100000 entries, 0 to 99999\n",
            "Data columns (total 12 columns):\n",
            " #   Column           Non-Null Count   Dtype \n",
            "---  ------           --------------   ----- \n",
            " 0   title            100000 non-null  object\n",
            " 1   reviewId         100000 non-null  object\n",
            " 2   restaurantId     99999 non-null   object\n",
            " 3   author           99999 non-null   object\n",
            " 4   reviewBody       99999 non-null   object\n",
            " 5   language         100000 non-null  object\n",
            " 6   mobileDevice     100000 non-null  object\n",
            " 7   userLocation     100000 non-null  object\n",
            " 8   publicationDate  100000 non-null  object\n",
            " 9   visitDate        100000 non-null  object\n",
            " 10  ratingValue      100000 non-null  object\n",
            " 11  itemReviewed     100000 non-null  object\n",
            "dtypes: object(12)\n",
            "memory usage: 9.2+ MB\n"
          ],
          "name": "stdout"
        }
      ]
    },
    {
      "cell_type": "markdown",
      "metadata": {
        "id": "hTc5vzvtoChi"
      },
      "source": [
        "A partir das informações iniciais pode-se concluir que há dados faltantes na base de dados. Os campos que não possuem dados completos são: **restaurantId**, **author** e **reviewBody**.\n"
      ]
    },
    {
      "cell_type": "markdown",
      "metadata": {
        "id": "O2Q28xKro27W"
      },
      "source": [
        "## Remoção de colunas no dataset\n",
        "\n",
        "Algumas colunas não irão exercer impacto durante a análise de dados, logo, optou-se por removê-las. Estas são: **reviewId**, **restaurantId**, **author** e **visitDate**."
      ]
    },
    {
      "cell_type": "code",
      "metadata": {
        "id": "xljkfAVBn_LM"
      },
      "source": [
        "columns = [\"reviewId\", \"restaurantId\", \"author\", \"visitDate\"]\n",
        "\n",
        "df.drop(columns=columns, inplace=True)"
      ],
      "execution_count": 7,
      "outputs": []
    },
    {
      "cell_type": "markdown",
      "metadata": {
        "id": "ndwV6jsqrFvy"
      },
      "source": [
        "Com a remoção de 3 colunas no conjunto de dados, nota-se que o **reviewBody** possui informações faltantes. Visto que esse campo é um dos mais importantes para a conclusão da análise de dados, optou-se por remover essa informação da base. "
      ]
    },
    {
      "cell_type": "code",
      "metadata": {
        "id": "ECoTD64rqrwM"
      },
      "source": [
        "df.dropna(inplace=True)"
      ],
      "execution_count": 8,
      "outputs": []
    },
    {
      "cell_type": "code",
      "metadata": {
        "colab": {
          "base_uri": "https://localhost:8080/"
        },
        "id": "qrbjpD5MuzOv",
        "outputId": "997ae331-5e0a-4fce-9a94-c8142791de53"
      },
      "source": [
        "df.info()"
      ],
      "execution_count": 9,
      "outputs": [
        {
          "output_type": "stream",
          "text": [
            "<class 'pandas.core.frame.DataFrame'>\n",
            "Int64Index: 99999 entries, 0 to 99999\n",
            "Data columns (total 8 columns):\n",
            " #   Column           Non-Null Count  Dtype \n",
            "---  ------           --------------  ----- \n",
            " 0   title            99999 non-null  object\n",
            " 1   reviewBody       99999 non-null  object\n",
            " 2   language         99999 non-null  object\n",
            " 3   mobileDevice     99999 non-null  object\n",
            " 4   userLocation     99999 non-null  object\n",
            " 5   publicationDate  99999 non-null  object\n",
            " 6   ratingValue      99999 non-null  object\n",
            " 7   itemReviewed     99999 non-null  object\n",
            "dtypes: object(8)\n",
            "memory usage: 6.9+ MB\n"
          ],
          "name": "stdout"
        }
      ]
    },
    {
      "cell_type": "markdown",
      "metadata": {
        "id": "dV9ED7P3vf6G"
      },
      "source": [
        "Agora todo o conjunto de dados possui 99.999 dados sobre revisões de restaurantes e 8 colunas."
      ]
    },
    {
      "cell_type": "markdown",
      "metadata": {
        "id": "uFFUBq2XwXF2"
      },
      "source": [
        "## Criação de novas colunas para a análise\n"
      ]
    },
    {
      "cell_type": "markdown",
      "metadata": {
        "id": "rT1Oefjaw77i"
      },
      "source": [
        "As informações das colunas **userLocation** e **itemReviewed** podem ser distribuídas em outras, facilitando, assim, a criação de novas visualizações de dados. \n",
        "\n",
        "A **userLocation** pode ser dividida em dados sobre a cidade e uma outra referente ao estado em que o usuário fez a revisão. "
      ]
    },
    {
      "cell_type": "code",
      "metadata": {
        "id": "rEGgBddow0Tm",
        "colab": {
          "base_uri": "https://localhost:8080/"
        },
        "outputId": "3c8ba0e4-6cb8-4db7-bac9-251cb7354c84"
      },
      "source": [
        "df[\"userLocation\"]"
      ],
      "execution_count": 10,
      "outputs": [
        {
          "output_type": "execute_result",
          "data": {
            "text/plain": [
              "0            São Carlos, SP\n",
              "1                Manaus, AM\n",
              "2               Goiânia, GO\n",
              "3               Aracaju, SE\n",
              "4        Rio de Janeiro, RJ\n",
              "                ...        \n",
              "99995      Porto Alegre, RS\n",
              "99996         Cork, Irlanda\n",
              "99997         São Paulo, SP\n",
              "99998      Porto Alegre, RS\n",
              "99999            Manaus, AM\n",
              "Name: userLocation, Length: 99999, dtype: object"
            ]
          },
          "metadata": {
            "tags": []
          },
          "execution_count": 10
        }
      ]
    },
    {
      "cell_type": "code",
      "metadata": {
        "id": "Dry2sS9l2SeQ"
      },
      "source": [
        "location = df[\"userLocation\"].str.split(\",\", n = 1, expand = True) \n",
        "\n",
        "df[\"userCity\"] = location[0]\n",
        "df[\"userState\"] = location[1]\n",
        "\n",
        "df.drop(columns=[\"userLocation\"], inplace=True)"
      ],
      "execution_count": 72,
      "outputs": []
    },
    {
      "cell_type": "markdown",
      "metadata": {
        "id": "PcbT_Tp8Ud3d"
      },
      "source": [
        "Tratamento nas colunas referentes à localização do usuário. Quando não houver valores, será adicionado o termo \"Outro\". "
      ]
    },
    {
      "cell_type": "code",
      "metadata": {
        "id": "CDAy_6g1UT9Z",
        "outputId": "e85fcbcf-c1ab-4eea-a307-0538dbb5a385",
        "colab": {
          "base_uri": "https://localhost:8080/"
        }
      },
      "source": [
        "df[\"userCity\"].fillna(\"Outro\")\n",
        "df[\"userState\"].fillna(\"Outro\")"
      ],
      "execution_count": 74,
      "outputs": [
        {
          "output_type": "execute_result",
          "data": {
            "text/plain": [
              "0              SP\n",
              "1              AM\n",
              "2              GO\n",
              "3              SE\n",
              "4              RJ\n",
              "           ...   \n",
              "99995          RS\n",
              "99996     Irlanda\n",
              "99997          SP\n",
              "99998          RS\n",
              "99999          AM\n",
              "Name: userState, Length: 100000, dtype: object"
            ]
          },
          "metadata": {
            "tags": []
          },
          "execution_count": 74
        }
      ]
    },
    {
      "cell_type": "code",
      "metadata": {
        "id": "Rn34iBKUy03k",
        "outputId": "496384a0-8ec4-464e-8735-73f2eba0d2af",
        "colab": {
          "base_uri": "https://localhost:8080/",
          "height": 419
        }
      },
      "source": [
        "user_location = df.groupby([\"userCity\"]).size().reset_index()\n",
        "\n",
        "user_location[0:200]"
      ],
      "execution_count": 80,
      "outputs": [
        {
          "output_type": "execute_result",
          "data": {
            "text/html": [
              "<div>\n",
              "<style scoped>\n",
              "    .dataframe tbody tr th:only-of-type {\n",
              "        vertical-align: middle;\n",
              "    }\n",
              "\n",
              "    .dataframe tbody tr th {\n",
              "        vertical-align: top;\n",
              "    }\n",
              "\n",
              "    .dataframe thead th {\n",
              "        text-align: right;\n",
              "    }\n",
              "</style>\n",
              "<table border=\"1\" class=\"dataframe\">\n",
              "  <thead>\n",
              "    <tr style=\"text-align: right;\">\n",
              "      <th></th>\n",
              "      <th>userCity</th>\n",
              "      <th>0</th>\n",
              "    </tr>\n",
              "  </thead>\n",
              "  <tbody>\n",
              "    <tr>\n",
              "      <th>0</th>\n",
              "      <td>Curtiba</td>\n",
              "      <td>1</td>\n",
              "    </tr>\n",
              "    <tr>\n",
              "      <th>1</th>\n",
              "      <td>.</td>\n",
              "      <td>1</td>\n",
              "    </tr>\n",
              "    <tr>\n",
              "      <th>2</th>\n",
              "      <td>44</td>\n",
              "      <td>1</td>\n",
              "    </tr>\n",
              "    <tr>\n",
              "      <th>3</th>\n",
              "      <td>@los angeles</td>\n",
              "      <td>1</td>\n",
              "    </tr>\n",
              "    <tr>\n",
              "      <th>4</th>\n",
              "      <td>ACAILANDIA</td>\n",
              "      <td>1</td>\n",
              "    </tr>\n",
              "    <tr>\n",
              "      <th>...</th>\n",
              "      <td>...</td>\n",
              "      <td>...</td>\n",
              "    </tr>\n",
              "    <tr>\n",
              "      <th>195</th>\n",
              "      <td>Aylesbury</td>\n",
              "      <td>1</td>\n",
              "    </tr>\n",
              "    <tr>\n",
              "      <th>196</th>\n",
              "      <td>Açailândia</td>\n",
              "      <td>5</td>\n",
              "    </tr>\n",
              "    <tr>\n",
              "      <th>197</th>\n",
              "      <td>Açu</td>\n",
              "      <td>4</td>\n",
              "    </tr>\n",
              "    <tr>\n",
              "      <th>198</th>\n",
              "      <td>B</td>\n",
              "      <td>1</td>\n",
              "    </tr>\n",
              "    <tr>\n",
              "      <th>199</th>\n",
              "      <td>BELEM</td>\n",
              "      <td>2</td>\n",
              "    </tr>\n",
              "  </tbody>\n",
              "</table>\n",
              "<p>200 rows × 2 columns</p>\n",
              "</div>"
            ],
            "text/plain": [
              "         userCity  0\n",
              "0         Curtiba  1\n",
              "1               .  1\n",
              "2              44  1\n",
              "3    @los angeles  1\n",
              "4      ACAILANDIA  1\n",
              "..            ... ..\n",
              "195     Aylesbury  1\n",
              "196    Açailândia  5\n",
              "197           Açu  4\n",
              "198             B  1\n",
              "199         BELEM  2\n",
              "\n",
              "[200 rows x 2 columns]"
            ]
          },
          "metadata": {
            "tags": []
          },
          "execution_count": 80
        }
      ]
    },
    {
      "cell_type": "code",
      "metadata": {
        "id": "AO9Sj5TtzRhR"
      },
      "source": [
        "user_location[\"\"]"
      ],
      "execution_count": null,
      "outputs": []
    },
    {
      "cell_type": "code",
      "metadata": {
        "id": "h7v4yUaMxY8p",
        "colab": {
          "base_uri": "https://localhost:8080/"
        },
        "outputId": "0d28e12c-da4a-4c74-cdc9-fc56b97cde4c"
      },
      "source": [
        "df[\"itemReviewed\"]"
      ],
      "execution_count": 12,
      "outputs": [
        {
          "output_type": "execute_result",
          "data": {
            "text/plain": [
              "0        {'name': 'Imperador dos Camarões', 'address': ...\n",
              "1        {'name': 'Guacamole Natal', 'address': {'stree...\n",
              "2        {'name': 'Chica Pitanga', 'address': {'streetA...\n",
              "3        {'name': 'Sorvetes Vi Sabor', 'address': {'str...\n",
              "4        {'name': 'Z Deli Sandwich Shop', 'address': {'...\n",
              "                               ...                        \n",
              "99995    {'name': 'Boteco Maestro', 'address': {'street...\n",
              "99996    {'name': 'Casa do Marquês', 'address': {'stree...\n",
              "99997    {'name': 'Rio Scenarium', 'address': {'streetA...\n",
              "99998    {'name': 'Celeiro', 'address': {'streetAddress...\n",
              "99999    {'name': 'Coco Bambu Manaus', 'address': {'str...\n",
              "Name: itemReviewed, Length: 99999, dtype: object"
            ]
          },
          "metadata": {
            "tags": []
          },
          "execution_count": 12
        }
      ]
    },
    {
      "cell_type": "markdown",
      "metadata": {
        "id": "T-f9keDgx-zY"
      },
      "source": [
        "A **itemReviewed** possui muitas informações interessantes e que podem contribuir para uma análise mais completa. Esses dados são: \n",
        "\n",
        "*   **name**: Nome do restaurante;\n",
        "*   **address**: Endereço do restaurante;\n",
        "*   **website**: Endereço do site do restaurante;\n",
        "*   **email**: E-mail do restaurante;\n",
        "*   **phoneNumber**: Telefone do restaurante;\n",
        "*   **averageRating**: Média de avaliação do restaurante;\n",
        "\n",
        "\n",
        "Os campos website, email e phoneNumber serão utilizados nessa análise para saber se os estabelecimentos que possuem essas informações possuem maior probabilidade de terem pontuações maiores."
      ]
    },
    {
      "cell_type": "code",
      "metadata": {
        "colab": {
          "base_uri": "https://localhost:8080/",
          "height": 343
        },
        "id": "1f3FlX5CJ_-o",
        "outputId": "5d13db52-dbb3-4b73-c257-97d860840d8f"
      },
      "source": [
        "item_reviewed = json_normalize(df[\"itemReviewed\"])\n",
        "item_reviewed.head()"
      ],
      "execution_count": 13,
      "outputs": [
        {
          "output_type": "execute_result",
          "data": {
            "text/html": [
              "<div>\n",
              "<style scoped>\n",
              "    .dataframe tbody tr th:only-of-type {\n",
              "        vertical-align: middle;\n",
              "    }\n",
              "\n",
              "    .dataframe tbody tr th {\n",
              "        vertical-align: top;\n",
              "    }\n",
              "\n",
              "    .dataframe thead th {\n",
              "        text-align: right;\n",
              "    }\n",
              "</style>\n",
              "<table border=\"1\" class=\"dataframe\">\n",
              "  <thead>\n",
              "    <tr style=\"text-align: right;\">\n",
              "      <th></th>\n",
              "      <th>name</th>\n",
              "      <th>website</th>\n",
              "      <th>email</th>\n",
              "      <th>phoneNumber</th>\n",
              "      <th>averageRating</th>\n",
              "      <th>address.streetAddress</th>\n",
              "      <th>address.addressLocality</th>\n",
              "      <th>address.addressRegion</th>\n",
              "      <th>address.postalCode</th>\n",
              "      <th>address.country</th>\n",
              "    </tr>\n",
              "  </thead>\n",
              "  <tbody>\n",
              "    <tr>\n",
              "      <th>0</th>\n",
              "      <td>Imperador dos Camarões</td>\n",
              "      <td>http://www.imperadordoscamaroes.com.br</td>\n",
              "      <td>contato@imperadordoscamaroes.com.br</td>\n",
              "      <td>+55 82 3231-4134</td>\n",
              "      <td>4.5</td>\n",
              "      <td>Avenida Doutor Antônio Gouveia</td>\n",
              "      <td></td>\n",
              "      <td>Alagoas</td>\n",
              "      <td>57030-170</td>\n",
              "      <td>Brasil</td>\n",
              "    </tr>\n",
              "    <tr>\n",
              "      <th>1</th>\n",
              "      <td>Guacamole Natal</td>\n",
              "      <td>http://www.facebook.com/GuacamoleNatal</td>\n",
              "      <td>guacamolenatal@gmail.com</td>\n",
              "      <td>+55 84 3219-3646</td>\n",
              "      <td>4.5</td>\n",
              "      <td>Avenida Praia de Ponta Negra 9068 Ponta Negra</td>\n",
              "      <td></td>\n",
              "      <td>Rio Grande do Norte</td>\n",
              "      <td>59092-100</td>\n",
              "      <td>Brasil</td>\n",
              "    </tr>\n",
              "    <tr>\n",
              "      <th>2</th>\n",
              "      <td>Chica Pitanga</td>\n",
              "      <td>http://www.chicapitanga.com.br</td>\n",
              "      <td>chicapitanga@chicapitanga.com.br</td>\n",
              "      <td>+55 81 3334-8260</td>\n",
              "      <td>4.5</td>\n",
              "      <td>Rua Petrolina 19</td>\n",
              "      <td>Recife</td>\n",
              "      <td>Pernambuco</td>\n",
              "      <td>51021-250</td>\n",
              "      <td>Brasil</td>\n",
              "    </tr>\n",
              "    <tr>\n",
              "      <th>3</th>\n",
              "      <td>Sorvetes Vi Sabor</td>\n",
              "      <td>None</td>\n",
              "      <td>None</td>\n",
              "      <td>None</td>\n",
              "      <td>4.0</td>\n",
              "      <td>Avenida Francisco Porto 59 Grageru</td>\n",
              "      <td>Aracaju</td>\n",
              "      <td>Sergipe</td>\n",
              "      <td></td>\n",
              "      <td>Brasil</td>\n",
              "    </tr>\n",
              "    <tr>\n",
              "      <th>4</th>\n",
              "      <td>Z Deli Sandwich Shop</td>\n",
              "      <td>http://www.facebook.com/zdelisandwichshop/</td>\n",
              "      <td>None</td>\n",
              "      <td>551130830021</td>\n",
              "      <td>4.5</td>\n",
              "      <td>Rua Haddock Lobo 1386 Jardins</td>\n",
              "      <td>São Paulo</td>\n",
              "      <td>Estado de São Paulo</td>\n",
              "      <td>01414-002</td>\n",
              "      <td>Brasil</td>\n",
              "    </tr>\n",
              "  </tbody>\n",
              "</table>\n",
              "</div>"
            ],
            "text/plain": [
              "                     name  ... address.country\n",
              "0  Imperador dos Camarões  ...          Brasil\n",
              "1         Guacamole Natal  ...          Brasil\n",
              "2           Chica Pitanga  ...          Brasil\n",
              "3       Sorvetes Vi Sabor  ...          Brasil\n",
              "4    Z Deli Sandwich Shop  ...          Brasil\n",
              "\n",
              "[5 rows x 10 columns]"
            ]
          },
          "metadata": {
            "tags": []
          },
          "execution_count": 13
        }
      ]
    },
    {
      "cell_type": "markdown",
      "metadata": {
        "id": "hIT4dOvpLQIz"
      },
      "source": [
        "Processamento dos dados contidos no campo **itemReviewed**"
      ]
    },
    {
      "cell_type": "code",
      "metadata": {
        "colab": {
          "base_uri": "https://localhost:8080/"
        },
        "id": "9h_7bdG2KGWx",
        "outputId": "73b91d1f-53bc-48fe-a07b-7d7da7c1e5da"
      },
      "source": [
        "df[\"hasEmail\"] = item_reviewed[\"email\"].apply(lambda value: \n",
        "                                                      \"True\" if value != \"None\" else \"False\")\n",
        "\n",
        "df[\"hasEmail\"].fillna(\"no\")"
      ],
      "execution_count": 14,
      "outputs": [
        {
          "output_type": "execute_result",
          "data": {
            "text/plain": [
              "0         True\n",
              "1         True\n",
              "2         True\n",
              "3        False\n",
              "4        False\n",
              "         ...  \n",
              "99995     True\n",
              "99996    False\n",
              "99997     True\n",
              "99998     True\n",
              "99999       no\n",
              "Name: hasEmail, Length: 99999, dtype: object"
            ]
          },
          "metadata": {
            "tags": []
          },
          "execution_count": 14
        }
      ]
    },
    {
      "cell_type": "code",
      "metadata": {
        "colab": {
          "base_uri": "https://localhost:8080/"
        },
        "id": "BKmgGbFvO-8J",
        "outputId": "992daf8b-a4fb-4e0d-be48-a3692b1d97ae"
      },
      "source": [
        "df[\"hasPhone\"] = item_reviewed[\"phoneNumber\"].apply(lambda value: \n",
        "                                                      \"True\" if value != \"None\" else \"False\")\n",
        "\n",
        "df[\"hasPhone\"].fillna(\"no\")"
      ],
      "execution_count": 15,
      "outputs": [
        {
          "output_type": "execute_result",
          "data": {
            "text/plain": [
              "0         True\n",
              "1         True\n",
              "2         True\n",
              "3        False\n",
              "4         True\n",
              "         ...  \n",
              "99995     True\n",
              "99996     True\n",
              "99997     True\n",
              "99998     True\n",
              "99999       no\n",
              "Name: hasPhone, Length: 99999, dtype: object"
            ]
          },
          "metadata": {
            "tags": []
          },
          "execution_count": 15
        }
      ]
    },
    {
      "cell_type": "markdown",
      "metadata": {
        "id": "TNb5s5BMFrE9"
      },
      "source": [
        "# Geração de dados Geolocalizados\n",
        "\n",
        "Nesta etapa do processamento, foi realizada a manipulação dos dados para a geração de valores de **longitude** e **latitude**. Utilizou-se os campos \"address.streetAddress\", \"address.addressLocality\", \"address.addressRegion\", \"address.postalCode\" para essa ação. "
      ]
    },
    {
      "cell_type": "code",
      "metadata": {
        "colab": {
          "base_uri": "https://localhost:8080/",
          "height": 419
        },
        "id": "vtrwfk_iUn2J",
        "outputId": "608c8757-9722-4819-afdd-f8aad23be126"
      },
      "source": [
        "columns = [\"name\", \"address.streetAddress\", \"address.addressLocality\", \"address.addressRegion\", \"address.postalCode\"]\n",
        "\n",
        "address_group = item_reviewed.groupby(columns).size().reset_index(name=\"count\")\n",
        "address_group"
      ],
      "execution_count": 16,
      "outputs": [
        {
          "output_type": "execute_result",
          "data": {
            "text/html": [
              "<div>\n",
              "<style scoped>\n",
              "    .dataframe tbody tr th:only-of-type {\n",
              "        vertical-align: middle;\n",
              "    }\n",
              "\n",
              "    .dataframe tbody tr th {\n",
              "        vertical-align: top;\n",
              "    }\n",
              "\n",
              "    .dataframe thead th {\n",
              "        text-align: right;\n",
              "    }\n",
              "</style>\n",
              "<table border=\"1\" class=\"dataframe\">\n",
              "  <thead>\n",
              "    <tr style=\"text-align: right;\">\n",
              "      <th></th>\n",
              "      <th>name</th>\n",
              "      <th>address.streetAddress</th>\n",
              "      <th>address.addressLocality</th>\n",
              "      <th>address.addressRegion</th>\n",
              "      <th>address.postalCode</th>\n",
              "      <th>count</th>\n",
              "    </tr>\n",
              "  </thead>\n",
              "  <tbody>\n",
              "    <tr>\n",
              "      <th>0</th>\n",
              "      <td>&amp;EAT Restaurante</td>\n",
              "      <td>Rua Clodomiro Amazonas 77</td>\n",
              "      <td>São Paulo</td>\n",
              "      <td>Estado de São Paulo</td>\n",
              "      <td>04537-010</td>\n",
              "      <td>2</td>\n",
              "    </tr>\n",
              "    <tr>\n",
              "      <th>1</th>\n",
              "      <td>''Pino Spazio''</td>\n",
              "      <td>Rua Galeno de Revoredo 22 Itaim Bibi</td>\n",
              "      <td>São Paulo</td>\n",
              "      <td>Estado de São Paulo</td>\n",
              "      <td>04531-030</td>\n",
              "      <td>1</td>\n",
              "    </tr>\n",
              "    <tr>\n",
              "      <th>2</th>\n",
              "      <td>+ Sabor</td>\n",
              "      <td>Rua Artur Bernardes 1159 Lourival Parente</td>\n",
              "      <td>Teresina</td>\n",
              "      <td>Piauí</td>\n",
              "      <td>64022-108</td>\n",
              "      <td>1</td>\n",
              "    </tr>\n",
              "    <tr>\n",
              "      <th>3</th>\n",
              "      <td>00</td>\n",
              "      <td>Avenida Padre Leonel Franca 240 Gávea</td>\n",
              "      <td>Rio de Janeiro</td>\n",
              "      <td>Estado do Rio de Janeiro</td>\n",
              "      <td>22451-000</td>\n",
              "      <td>3</td>\n",
              "    </tr>\n",
              "    <tr>\n",
              "      <th>4</th>\n",
              "      <td>011 Gastronomia</td>\n",
              "      <td>Rua Artur de Azevedo 613</td>\n",
              "      <td>São Paulo</td>\n",
              "      <td>Estado de São Paulo</td>\n",
              "      <td>05404-011</td>\n",
              "      <td>12</td>\n",
              "    </tr>\n",
              "    <tr>\n",
              "      <th>...</th>\n",
              "      <td>...</td>\n",
              "      <td>...</td>\n",
              "      <td>...</td>\n",
              "      <td>...</td>\n",
              "      <td>...</td>\n",
              "      <td>...</td>\n",
              "    </tr>\n",
              "    <tr>\n",
              "      <th>14976</th>\n",
              "      <td>Ópera Arte</td>\n",
              "      <td>Rua João Gava 920 Subsolo da Ópera de Arame</td>\n",
              "      <td>Curitiba</td>\n",
              "      <td>Paraná</td>\n",
              "      <td>82130-010</td>\n",
              "      <td>7</td>\n",
              "    </tr>\n",
              "    <tr>\n",
              "      <th>14977</th>\n",
              "      <td>Ô Bar</td>\n",
              "      <td>Avenida Praia de Ponta Negra 9184 Curva do Vento</td>\n",
              "      <td></td>\n",
              "      <td>Rio Grande do Norte</td>\n",
              "      <td>59092-100</td>\n",
              "      <td>1</td>\n",
              "    </tr>\n",
              "    <tr>\n",
              "      <th>14978</th>\n",
              "      <td>Ô Restaurante</td>\n",
              "      <td>Rua Harmonia 321 Vila Madalena</td>\n",
              "      <td>São Paulo</td>\n",
              "      <td>Estado de São Paulo</td>\n",
              "      <td>05435-000</td>\n",
              "      <td>2</td>\n",
              "    </tr>\n",
              "    <tr>\n",
              "      <th>14979</th>\n",
              "      <td>Ô Xiss</td>\n",
              "      <td>Rua Padre Chagas 306</td>\n",
              "      <td>Porto Alegre</td>\n",
              "      <td>Rio Grande do Sul</td>\n",
              "      <td>90570-080</td>\n",
              "      <td>5</td>\n",
              "    </tr>\n",
              "    <tr>\n",
              "      <th>14980</th>\n",
              "      <td>Ôxe Comidas Nordestinas</td>\n",
              "      <td>Avenida Doutor Antonio Gomes de Barros 124</td>\n",
              "      <td></td>\n",
              "      <td>Alagoas</td>\n",
              "      <td>57036-000</td>\n",
              "      <td>6</td>\n",
              "    </tr>\n",
              "  </tbody>\n",
              "</table>\n",
              "<p>14981 rows × 6 columns</p>\n",
              "</div>"
            ],
            "text/plain": [
              "                          name  ... count\n",
              "0             &EAT Restaurante  ...     2\n",
              "1              ''Pino Spazio''  ...     1\n",
              "2                      + Sabor  ...     1\n",
              "3                           00  ...     3\n",
              "4              011 Gastronomia  ...    12\n",
              "...                        ...  ...   ...\n",
              "14976               Ópera Arte  ...     7\n",
              "14977                    Ô Bar  ...     1\n",
              "14978            Ô Restaurante  ...     2\n",
              "14979                   Ô Xiss  ...     5\n",
              "14980  Ôxe Comidas Nordestinas  ...     6\n",
              "\n",
              "[14981 rows x 6 columns]"
            ]
          },
          "metadata": {
            "tags": []
          },
          "execution_count": 16
        }
      ]
    },
    {
      "cell_type": "markdown",
      "metadata": {
        "id": "yhnngnARcISj"
      },
      "source": [
        "Foi executado o script [**geopandas_dataset.py**](https://github.com/kidkmon/Sentiment-Analysis-TripAdvisor/blob/main/geopandas_dataset.py) que utilizou a API do Google Maps para armazenar as coordenadas e endereço correto dos 14.981 restaurantes registrados na base de dados.\n",
        "\n",
        "Estas informações foram armazenadas em um arquivo address.txt."
      ]
    },
    {
      "cell_type": "code",
      "metadata": {
        "id": "91TYxvWqcFyV",
        "colab": {
          "base_uri": "https://localhost:8080/",
          "height": 204
        },
        "outputId": "945fdfc8-b74e-46dc-ff69-1a3e9aa8e83a"
      },
      "source": [
        "import geopandas\n",
        "\n",
        "df_geo = pd.read_csv(\"data/address.txt\", names=[\"city\", \"state\", \"latitude\", \"longitude\"])\n",
        "df_geo.head()"
      ],
      "execution_count": 106,
      "outputs": [
        {
          "output_type": "execute_result",
          "data": {
            "text/html": [
              "<div>\n",
              "<style scoped>\n",
              "    .dataframe tbody tr th:only-of-type {\n",
              "        vertical-align: middle;\n",
              "    }\n",
              "\n",
              "    .dataframe tbody tr th {\n",
              "        vertical-align: top;\n",
              "    }\n",
              "\n",
              "    .dataframe thead th {\n",
              "        text-align: right;\n",
              "    }\n",
              "</style>\n",
              "<table border=\"1\" class=\"dataframe\">\n",
              "  <thead>\n",
              "    <tr style=\"text-align: right;\">\n",
              "      <th></th>\n",
              "      <th>city</th>\n",
              "      <th>state</th>\n",
              "      <th>latitude</th>\n",
              "      <th>longitude</th>\n",
              "    </tr>\n",
              "  </thead>\n",
              "  <tbody>\n",
              "    <tr>\n",
              "      <th>0</th>\n",
              "      <td>São Paulo</td>\n",
              "      <td>São Paulo</td>\n",
              "      <td>-23.584914</td>\n",
              "      <td>-46.679795</td>\n",
              "    </tr>\n",
              "    <tr>\n",
              "      <th>1</th>\n",
              "      <td>São Paulo</td>\n",
              "      <td>São Paulo</td>\n",
              "      <td>-23.580586</td>\n",
              "      <td>-46.677558</td>\n",
              "    </tr>\n",
              "    <tr>\n",
              "      <th>2</th>\n",
              "      <td>Teresina</td>\n",
              "      <td>Piauí</td>\n",
              "      <td>-5.133390</td>\n",
              "      <td>-42.794155</td>\n",
              "    </tr>\n",
              "    <tr>\n",
              "      <th>3</th>\n",
              "      <td>Gávea</td>\n",
              "      <td>Rio de Janeiro</td>\n",
              "      <td>-22.978278</td>\n",
              "      <td>-43.230314</td>\n",
              "    </tr>\n",
              "    <tr>\n",
              "      <th>4</th>\n",
              "      <td>NaN</td>\n",
              "      <td>NaN</td>\n",
              "      <td>NaN</td>\n",
              "      <td>NaN</td>\n",
              "    </tr>\n",
              "  </tbody>\n",
              "</table>\n",
              "</div>"
            ],
            "text/plain": [
              "        city           state   latitude  longitude\n",
              "0  São Paulo       São Paulo -23.584914 -46.679795\n",
              "1  São Paulo       São Paulo -23.580586 -46.677558\n",
              "2   Teresina           Piauí  -5.133390 -42.794155\n",
              "3      Gávea  Rio de Janeiro -22.978278 -43.230314\n",
              "4        NaN             NaN        NaN        NaN"
            ]
          },
          "metadata": {
            "tags": []
          },
          "execution_count": 106
        }
      ]
    },
    {
      "cell_type": "markdown",
      "metadata": {
        "id": "C0wadaaVncZV"
      },
      "source": [
        "Adicionando colunas criadas a partir da API do Google Maps"
      ]
    },
    {
      "cell_type": "code",
      "metadata": {
        "id": "9dELXv1Cll_P"
      },
      "source": [
        "\n",
        "address_group[\"city\"] = df_geo[\"city\"]\n",
        "address_group[\"state\"] = df_geo[\"state\"]\n",
        "address_group[\"latitude\"] = df_geo[\"latitude\"]\n",
        "address_group[\"longitude\"] = df_geo[\"longitude\"]"
      ],
      "execution_count": null,
      "outputs": []
    },
    {
      "cell_type": "markdown",
      "metadata": {
        "id": "kvQ2Csx-nU8S"
      },
      "source": [
        "Removendo colunas que não serão utilizadas"
      ]
    },
    {
      "cell_type": "code",
      "metadata": {
        "id": "x0tvQbVynRWG",
        "colab": {
          "base_uri": "https://localhost:8080/",
          "height": 204
        },
        "outputId": "172b4bcd-10fa-44ce-8f34-6b1338ca6c87"
      },
      "source": [
        "columns = [\"address.streetAddress\", \"address.addressLocality\", \"address.addressRegion\", \"address.postalCode\"]\n",
        "address_group.drop(columns=columns, inplace=True)\n",
        "\n",
        "address_group.head()"
      ],
      "execution_count": null,
      "outputs": [
        {
          "output_type": "execute_result",
          "data": {
            "text/html": [
              "<div>\n",
              "<style scoped>\n",
              "    .dataframe tbody tr th:only-of-type {\n",
              "        vertical-align: middle;\n",
              "    }\n",
              "\n",
              "    .dataframe tbody tr th {\n",
              "        vertical-align: top;\n",
              "    }\n",
              "\n",
              "    .dataframe thead th {\n",
              "        text-align: right;\n",
              "    }\n",
              "</style>\n",
              "<table border=\"1\" class=\"dataframe\">\n",
              "  <thead>\n",
              "    <tr style=\"text-align: right;\">\n",
              "      <th></th>\n",
              "      <th>name</th>\n",
              "      <th>count</th>\n",
              "      <th>city</th>\n",
              "      <th>state</th>\n",
              "      <th>latitude</th>\n",
              "      <th>longitude</th>\n",
              "    </tr>\n",
              "  </thead>\n",
              "  <tbody>\n",
              "    <tr>\n",
              "      <th>0</th>\n",
              "      <td>&amp;EAT Restaurante</td>\n",
              "      <td>2</td>\n",
              "      <td>São Paulo</td>\n",
              "      <td>São Paulo</td>\n",
              "      <td>-23.584914</td>\n",
              "      <td>-46.679795</td>\n",
              "    </tr>\n",
              "    <tr>\n",
              "      <th>1</th>\n",
              "      <td>''Pino Spazio''</td>\n",
              "      <td>1</td>\n",
              "      <td>São Paulo</td>\n",
              "      <td>São Paulo</td>\n",
              "      <td>-23.580586</td>\n",
              "      <td>-46.677558</td>\n",
              "    </tr>\n",
              "    <tr>\n",
              "      <th>2</th>\n",
              "      <td>+ Sabor</td>\n",
              "      <td>1</td>\n",
              "      <td>Teresina</td>\n",
              "      <td>Piauí</td>\n",
              "      <td>-5.133390</td>\n",
              "      <td>-42.794155</td>\n",
              "    </tr>\n",
              "    <tr>\n",
              "      <th>3</th>\n",
              "      <td>00</td>\n",
              "      <td>3</td>\n",
              "      <td>Gávea</td>\n",
              "      <td>Rio de Janeiro</td>\n",
              "      <td>-22.978278</td>\n",
              "      <td>-43.230314</td>\n",
              "    </tr>\n",
              "    <tr>\n",
              "      <th>4</th>\n",
              "      <td>011 Gastronomia</td>\n",
              "      <td>12</td>\n",
              "      <td>NaN</td>\n",
              "      <td>NaN</td>\n",
              "      <td>NaN</td>\n",
              "      <td>NaN</td>\n",
              "    </tr>\n",
              "  </tbody>\n",
              "</table>\n",
              "</div>"
            ],
            "text/plain": [
              "               name  count       city           state   latitude  longitude\n",
              "0  &EAT Restaurante      2  São Paulo       São Paulo -23.584914 -46.679795\n",
              "1   ''Pino Spazio''      1  São Paulo       São Paulo -23.580586 -46.677558\n",
              "2           + Sabor      1   Teresina           Piauí  -5.133390 -42.794155\n",
              "3                00      3      Gávea  Rio de Janeiro -22.978278 -43.230314\n",
              "4   011 Gastronomia     12        NaN             NaN        NaN        NaN"
            ]
          },
          "metadata": {
            "tags": []
          },
          "execution_count": 49
        }
      ]
    },
    {
      "cell_type": "markdown",
      "metadata": {
        "id": "wekyXp3nF8wd"
      },
      "source": [
        "# Geração de dados para Análise Temporal\n",
        "\n",
        "Gerando campos de ano, mês e dia a partir do campo publicationDate"
      ]
    },
    {
      "cell_type": "code",
      "metadata": {
        "id": "aPPxaOFe56Gk"
      },
      "source": [
        "df[\"publication_year\"] = [x[-4:] for x in df['publicationDate']]\n",
        "df[\"publication_month\"] = [x[3:5] for x in df['publicationDate']]\n",
        "df[\"publication_day\"] = [x[:2] for x in df['publicationDate']]\n"
      ],
      "execution_count": 18,
      "outputs": []
    },
    {
      "cell_type": "markdown",
      "metadata": {
        "id": "o-Uhyrumbz_R"
      },
      "source": [
        "# Conjunto de dados após o processamento\n",
        "\n"
      ]
    },
    {
      "cell_type": "code",
      "metadata": {
        "id": "FSUt5Id355zE",
        "colab": {
          "base_uri": "https://localhost:8080/",
          "height": 547
        },
        "outputId": "ea017d76-5bb5-42be-e095-a8cf97f47789"
      },
      "source": [
        "df.head()"
      ],
      "execution_count": 19,
      "outputs": [
        {
          "output_type": "execute_result",
          "data": {
            "text/html": [
              "<div>\n",
              "<style scoped>\n",
              "    .dataframe tbody tr th:only-of-type {\n",
              "        vertical-align: middle;\n",
              "    }\n",
              "\n",
              "    .dataframe tbody tr th {\n",
              "        vertical-align: top;\n",
              "    }\n",
              "\n",
              "    .dataframe thead th {\n",
              "        text-align: right;\n",
              "    }\n",
              "</style>\n",
              "<table border=\"1\" class=\"dataframe\">\n",
              "  <thead>\n",
              "    <tr style=\"text-align: right;\">\n",
              "      <th></th>\n",
              "      <th>title</th>\n",
              "      <th>reviewBody</th>\n",
              "      <th>language</th>\n",
              "      <th>mobileDevice</th>\n",
              "      <th>publicationDate</th>\n",
              "      <th>ratingValue</th>\n",
              "      <th>itemReviewed</th>\n",
              "      <th>userCity</th>\n",
              "      <th>userState</th>\n",
              "      <th>hasEmail</th>\n",
              "      <th>hasPhone</th>\n",
              "      <th>publication_year</th>\n",
              "      <th>publication_month</th>\n",
              "      <th>publication_day</th>\n",
              "    </tr>\n",
              "  </thead>\n",
              "  <tbody>\n",
              "    <tr>\n",
              "      <th>0</th>\n",
              "      <td>Jantar</td>\n",
              "      <td>Comida maravilhosa, lugar do verdadeiro chicle...</td>\n",
              "      <td>pt</td>\n",
              "      <td>True</td>\n",
              "      <td>26/07/2019</td>\n",
              "      <td>5</td>\n",
              "      <td>{'name': 'Imperador dos Camarões', 'address': ...</td>\n",
              "      <td>São Carlos</td>\n",
              "      <td>SP</td>\n",
              "      <td>True</td>\n",
              "      <td>True</td>\n",
              "      <td>2019</td>\n",
              "      <td>07</td>\n",
              "      <td>26</td>\n",
              "    </tr>\n",
              "    <tr>\n",
              "      <th>1</th>\n",
              "      <td>Uma boa experiência.</td>\n",
              "      <td>Comida boa, drinks legais e um ambiente bem ac...</td>\n",
              "      <td>pt</td>\n",
              "      <td>True</td>\n",
              "      <td>16/09/2014</td>\n",
              "      <td>4</td>\n",
              "      <td>{'name': 'Guacamole Natal', 'address': {'stree...</td>\n",
              "      <td>Manaus</td>\n",
              "      <td>AM</td>\n",
              "      <td>True</td>\n",
              "      <td>True</td>\n",
              "      <td>2014</td>\n",
              "      <td>09</td>\n",
              "      <td>16</td>\n",
              "    </tr>\n",
              "    <tr>\n",
              "      <th>2</th>\n",
              "      <td>Otimo self service</td>\n",
              "      <td>Excelente pra ir com a família! Ótima Comida, ...</td>\n",
              "      <td>pt</td>\n",
              "      <td>True</td>\n",
              "      <td>04/06/2019</td>\n",
              "      <td>4</td>\n",
              "      <td>{'name': 'Chica Pitanga', 'address': {'streetA...</td>\n",
              "      <td>Goiânia</td>\n",
              "      <td>GO</td>\n",
              "      <td>True</td>\n",
              "      <td>True</td>\n",
              "      <td>2019</td>\n",
              "      <td>06</td>\n",
              "      <td>04</td>\n",
              "    </tr>\n",
              "    <tr>\n",
              "      <th>3</th>\n",
              "      <td>O sorvete mais tradicional do estado</td>\n",
              "      <td>Tomo sorvete na Visabor faz mais de 30 anos. S...</td>\n",
              "      <td>pt</td>\n",
              "      <td>False</td>\n",
              "      <td>15/03/2016</td>\n",
              "      <td>5</td>\n",
              "      <td>{'name': 'Sorvetes Vi Sabor', 'address': {'str...</td>\n",
              "      <td>Aracaju</td>\n",
              "      <td>SE</td>\n",
              "      <td>False</td>\n",
              "      <td>False</td>\n",
              "      <td>2016</td>\n",
              "      <td>03</td>\n",
              "      <td>15</td>\n",
              "    </tr>\n",
              "    <tr>\n",
              "      <th>4</th>\n",
              "      <td>Melhor hamburger!</td>\n",
              "      <td>O melhor hamburger que já comi! Excelente aten...</td>\n",
              "      <td>pt</td>\n",
              "      <td>False</td>\n",
              "      <td>28/04/2015</td>\n",
              "      <td>5</td>\n",
              "      <td>{'name': 'Z Deli Sandwich Shop', 'address': {'...</td>\n",
              "      <td>Rio de Janeiro</td>\n",
              "      <td>RJ</td>\n",
              "      <td>False</td>\n",
              "      <td>True</td>\n",
              "      <td>2015</td>\n",
              "      <td>04</td>\n",
              "      <td>28</td>\n",
              "    </tr>\n",
              "  </tbody>\n",
              "</table>\n",
              "</div>"
            ],
            "text/plain": [
              "                                  title  ... publication_day\n",
              "0                               Jantar   ...              26\n",
              "1                  Uma boa experiência.  ...              16\n",
              "2                    Otimo self service  ...              04\n",
              "3  O sorvete mais tradicional do estado  ...              15\n",
              "4                     Melhor hamburger!  ...              28\n",
              "\n",
              "[5 rows x 14 columns]"
            ]
          },
          "metadata": {
            "tags": []
          },
          "execution_count": 19
        }
      ]
    },
    {
      "cell_type": "markdown",
      "metadata": {
        "id": "CuHcyCsUkvS_"
      },
      "source": [
        "# Visão Geral dos Dados"
      ]
    },
    {
      "cell_type": "markdown",
      "metadata": {
        "id": "-4GxUU8AEPNx"
      },
      "source": [
        "**Análise de distribuição das notas de avaliações**"
      ]
    },
    {
      "cell_type": "code",
      "metadata": {
        "colab": {
          "base_uri": "https://localhost:8080/",
          "height": 407
        },
        "id": "Cn-WWv80tr0M",
        "outputId": "16209ba6-ca15-4821-fe26-f1b006bb98aa"
      },
      "source": [
        "labels = df['ratingValue'].unique()\n",
        "rating_percent = df['ratingValue'].value_counts(normalize=True) * 100\n",
        "explode = (0.05, 0, 0, 0, 0)\n",
        "\n",
        "fig, ax = plt.subplots(figsize=(8,6))\n",
        "ax.pie(rating_percent, explode=explode, labels=labels, autopct='%1.1f%%',\n",
        "        shadow=True)\n",
        "ax.axis('equal')\n",
        "\n",
        "plt.title('Distribuição das notas de avaliações', pad=40)\n",
        "ax.legend(labels, loc='lower right', title='Notas')\n",
        "\n",
        "plt.show()"
      ],
      "execution_count": null,
      "outputs": [
        {
          "output_type": "display_data",
          "data": {
            "image/png": "[encoded data removed]",
            "text/plain": [
              "<Figure size 576x432 with 1 Axes>"
            ]
          },
          "metadata": {
            "tags": []
          }
        }
      ]
    },
    {
      "cell_type": "markdown",
      "metadata": {
        "id": "-sweQWEc-E0C"
      },
      "source": [
        "A avaliação com nota 5 possui a maior frequência dentro do conjunto de dados, enquanto a com nota 2 são as menos frequentes. Dado o gráfico, é possível afirmar que os dados estão desbalanceados pois 51.2% deste conjunto de dados pertencem à avaliação com nota 5, enquanto as outras quatros notas juntas representam o restante dos dados.\n",
        "\n",
        "\n",
        "\n"
      ]
    },
    {
      "cell_type": "markdown",
      "metadata": {
        "id": "RlxWXM4F-GpE"
      },
      "source": [
        "**Análise de distribuição das avaliações por diferentes dispositivos**"
      ]
    },
    {
      "cell_type": "code",
      "metadata": {
        "colab": {
          "base_uri": "https://localhost:8080/",
          "height": 510
        },
        "id": "bcAy9_tF-Fyo",
        "outputId": "9a9b58fa-520e-4ca4-d439-ca0e0b1dde95"
      },
      "source": [
        "def get_rating_value_devices():\n",
        "  devices = []\n",
        "  for i in range (1,6):\n",
        "    devices.append(df[df['ratingValue'] == str(i)]['mobileDevice'].value_counts(normalize=True, sort=False) * 100)\n",
        "  return devices\n",
        "\n",
        "devices = get_rating_value_devices() \n",
        "\n",
        "fig = plt.figure(figsize=(8,6))\n",
        "ax = fig.add_axes([0,0,1,1])\n",
        "\n",
        "X = np.arange(1,6)\n",
        "ax.bar(X, [device[0] for device in devices], color='c', width = 0.25)\n",
        "ax.bar(X+0.25, [device[1] for device in devices], color='y', width = 0.25)\n",
        "\n",
        "plt.xlabel('Devices')\n",
        "plt.ylabel('Percentage %')\n",
        "plt.title('Distribuição das avaliações por diferentes dispositivos')\n",
        "plt.legend(['Other devices', 'Mobile'])\n",
        "\n",
        "plt.show()"
      ],
      "execution_count": null,
      "outputs": [
        {
          "output_type": "display_data",
          "data": {
            "image/png": "[encoded data removed]",
            "text/plain": [
              "<Figure size 576x432 with 1 Axes>"
            ]
          },
          "metadata": {
            "tags": [],
            "needs_background": "light"
          }
        }
      ]
    },
    {
      "cell_type": "markdown",
      "metadata": {
        "id": "vVNb8EuJ8LWW"
      },
      "source": [
        "Através do gráfico de barras acima, percebe-se que existe uma diferença de frequência entre dispositivos em relação as notas das avaliações. As notas de avaliações **1** e **2**, possuem as menores frequências de críticas realizadas em outros dispositivos e as maiores frequências realizadas em mobile, pode-se concluir que pessoas insatisfeitas com o restaurante, em sua maioria, possuem o interesse de realizar a crítica o quanto antes, dado isso a plataforma mais acessível seria a mobile."
      ]
    },
    {
      "cell_type": "markdown",
      "metadata": {
        "id": "Cg1gIVBliXwy"
      },
      "source": [
        "**Análise da distribuição anual por comentários**"
      ]
    },
    {
      "cell_type": "code",
      "metadata": {
        "id": "2Sbr8DBCqj5w",
        "colab": {
          "base_uri": "https://localhost:8080/",
          "height": 295
        },
        "outputId": "eb2fde4c-0416-4a81-90aa-568b0f203206"
      },
      "source": [
        "df.groupby('publication_year')['reviewBody'].count().plot(kind='line', label ='Comentários' , color = 'b')\n",
        "plt.xlabel('Ano de Publicação')\n",
        "plt.legend(loc = 'upper left')\n",
        "plt.title('Análise Anual')\n",
        "plt.show()"
      ],
      "execution_count": null,
      "outputs": [
        {
          "output_type": "display_data",
          "data": {
            "image/png": "[encoded data removed]",
            "text/plain": [
              "<Figure size 432x288 with 1 Axes>"
            ]
          },
          "metadata": {
            "tags": [],
            "needs_background": "light"
          }
        }
      ]
    },
    {
      "cell_type": "markdown",
      "metadata": {
        "id": "ef8AyBG-KZKU"
      },
      "source": [
        "O resultado desta análise mostrou que o dataset contém dados do ano de 2009 à 2020, onde o maior número de amostras se concentra em 2016, e que os dados de 2009 à 2011 são nulos."
      ]
    },
    {
      "cell_type": "markdown",
      "metadata": {
        "id": "Nlj7hVIlihjq"
      },
      "source": [
        "**Análise de distribuição de localização**"
      ]
    },
    {
      "cell_type": "code",
      "metadata": {
        "id": "wn4L1JLTlF0c",
        "colab": {
          "base_uri": "https://localhost:8080/"
        },
        "outputId": "c8153e67-5083-486b-bd89-62d17dc3ae16"
      },
      "source": [
        "a = df.groupby('userState')['reviewBody'].count()\n",
        "a"
      ],
      "execution_count": null,
      "outputs": [
        {
          "output_type": "execute_result",
          "data": {
            "text/plain": [
              "userState\n",
              " AC                                                   403\n",
              " AL                                                  1133\n",
              " AM                                                  1038\n",
              " AP                                                   292\n",
              " Ac                                                     2\n",
              "                                                     ... \n",
              "England                                                 2\n",
              "France                                                  1\n",
              "NY                                                      1\n",
              "com família residindo em Natal-Bairro Cpim Macio.       1\n",
              "rj                                                      1\n",
              "Name: reviewBody, Length: 289, dtype: int64"
            ]
          },
          "metadata": {
            "tags": []
          },
          "execution_count": 23
        }
      ]
    },
    {
      "cell_type": "markdown",
      "metadata": {
        "id": "tefnqbyddHJ9"
      },
      "source": [
        "**Média de sentenças e palavras por comentários**"
      ]
    },
    {
      "cell_type": "code",
      "metadata": {
        "id": "UPCXgEwiWq99"
      },
      "source": [
        "def mean_sentences_words():\n",
        "  \n",
        "  df['reviewBody_TB'] = [TextBlob(comment) for comment in df['reviewBody']]\n",
        "\n",
        "  mean_sentences = np.mean([len(comment.sentences) for comment in df['reviewBody_TB']])\n",
        "  mean_words = np.mean([len(comment.word_counts) for comment in df['reviewBody_TB']])\n",
        "\n",
        "  return [mean_sentences, mean_words]"
      ],
      "execution_count": null,
      "outputs": []
    },
    {
      "cell_type": "code",
      "metadata": {
        "id": "aO6lZ4-Zy7P2",
        "colab": {
          "base_uri": "https://localhost:8080/"
        },
        "outputId": "6df965e5-047d-4b2f-a90c-7172fffdbed7"
      },
      "source": [
        "mean_reviews = mean_sentences_words()\n",
        "\n",
        "print(\"Média de sentenças por comentários: {:.2f}.\\n\" \\\n",
        "      \"Média de palavras por comentários: {:.2f}.\".format(mean_reviews[0],\n",
        "                                                     mean_reviews[1]))"
      ],
      "execution_count": null,
      "outputs": [
        {
          "output_type": "stream",
          "text": [
            "Média de sentenças por comentários: 3.63.\n",
            "Média de palavras por comentários: 34.67.\n"
          ],
          "name": "stdout"
        }
      ]
    },
    {
      "cell_type": "markdown",
      "metadata": {
        "id": "4IM0AJ0xjGIR"
      },
      "source": [
        "#Etapa II"
      ]
    },
    {
      "cell_type": "markdown",
      "metadata": {
        "id": "7c8akR3sjMHl"
      },
      "source": [
        "***Análise do resultado do cálculo de subjetividade e polaridade das 200 sentenças utilizando o pacote TextBlob para tradução***"
      ]
    },
    {
      "cell_type": "markdown",
      "metadata": {
        "id": "hDJ-xplNZ2OY"
      },
      "source": [
        "## Selecionar 200 senteças aleatórias da base de dados"
      ]
    },
    {
      "cell_type": "code",
      "metadata": {
        "id": "CiUoD9dOig8V"
      },
      "source": [
        "def generate_random_sentences_list():\n",
        "  rand_sentences = []\n",
        "  rand_index = np.random.randint(0, df['reviewBody_TB'].size)\n",
        "  i = 0\n",
        "\n",
        "  while i < 200:\n",
        "    sentences = df['reviewBody_TB'][rand_index].sentences\n",
        "\n",
        "    for sentence in sentences:\n",
        "      rand_sentences.append(str(sentence))\n",
        "    \n",
        "    rand_index = np.random.randint(0, df['reviewBody_TB'].size)\n",
        "    i += len(sentences)\n",
        "\n",
        "  return rand_sentences"
      ],
      "execution_count": null,
      "outputs": []
    },
    {
      "cell_type": "code",
      "metadata": {
        "id": "I1Vqpo7TlHxL"
      },
      "source": [
        "rand_sentences = generate_random_sentences_list()\n",
        "\n",
        "df_sentences = pd.DataFrame({'Sentences': rand_sentences,\n",
        "                             'Type': [None] * len(rand_sentences),\n",
        "                             'Polarity': [None] * len(rand_sentences)})\n",
        "\n",
        "file_path = 'drive/MyDrive/random_sentences.csv'\n",
        "df_sentences.to_csv(file_path, index=False)"
      ],
      "execution_count": null,
      "outputs": []
    },
    {
      "cell_type": "markdown",
      "metadata": {
        "id": "IHLIzsb4aEK9"
      },
      "source": [
        "## Análise de sentimentos das sentenças aleatórias"
      ]
    },
    {
      "cell_type": "code",
      "metadata": {
        "id": "DcdbN1T8fhTX",
        "colab": {
          "base_uri": "https://localhost:8080/",
          "height": 204
        },
        "outputId": "e0e196cf-af29-4a8f-d5b8-9b720b35b45d"
      },
      "source": [
        "df_random_sentences = pd.read_csv(file_path)\n",
        "df_random_sentences.head()"
      ],
      "execution_count": null,
      "outputs": [
        {
          "output_type": "execute_result",
          "data": {
            "text/html": [
              "<div>\n",
              "<style scoped>\n",
              "    .dataframe tbody tr th:only-of-type {\n",
              "        vertical-align: middle;\n",
              "    }\n",
              "\n",
              "    .dataframe tbody tr th {\n",
              "        vertical-align: top;\n",
              "    }\n",
              "\n",
              "    .dataframe thead th {\n",
              "        text-align: right;\n",
              "    }\n",
              "</style>\n",
              "<table border=\"1\" class=\"dataframe\">\n",
              "  <thead>\n",
              "    <tr style=\"text-align: right;\">\n",
              "      <th></th>\n",
              "      <th>Sentences</th>\n",
              "      <th>Type</th>\n",
              "      <th>Polarity</th>\n",
              "    </tr>\n",
              "  </thead>\n",
              "  <tbody>\n",
              "    <tr>\n",
              "      <th>0</th>\n",
              "      <td>Uma ótima opção para quem leva uma vida saudáv...</td>\n",
              "      <td>1</td>\n",
              "      <td>1</td>\n",
              "    </tr>\n",
              "    <tr>\n",
              "      <th>1</th>\n",
              "      <td>Simplesmente amo!</td>\n",
              "      <td>1</td>\n",
              "      <td>1</td>\n",
              "    </tr>\n",
              "    <tr>\n",
              "      <th>2</th>\n",
              "      <td>Sempre peço o de carne com os diversos itens q...</td>\n",
              "      <td>0</td>\n",
              "      <td>0</td>\n",
              "    </tr>\n",
              "    <tr>\n",
              "      <th>3</th>\n",
              "      <td>Os sucos também são maravilhosos e adoçados co...</td>\n",
              "      <td>1</td>\n",
              "      <td>1</td>\n",
              "    </tr>\n",
              "    <tr>\n",
              "      <th>4</th>\n",
              "      <td>O pedido sai em menos de 5 minutos e o preço é...</td>\n",
              "      <td>1</td>\n",
              "      <td>0</td>\n",
              "    </tr>\n",
              "  </tbody>\n",
              "</table>\n",
              "</div>"
            ],
            "text/plain": [
              "                                           Sentences  Type  Polarity\n",
              "0  Uma ótima opção para quem leva uma vida saudáv...     1         1\n",
              "1                                  Simplesmente amo!     1         1\n",
              "2  Sempre peço o de carne com os diversos itens q...     0         0\n",
              "3  Os sucos também são maravilhosos e adoçados co...     1         1\n",
              "4  O pedido sai em menos de 5 minutos e o preço é...     1         0"
            ]
          },
          "metadata": {
            "tags": []
          },
          "execution_count": 29
        }
      ]
    },
    {
      "cell_type": "markdown",
      "metadata": {
        "id": "pLgMkxmlaYU1"
      },
      "source": [
        "### Tradução das sentenças para inglês"
      ]
    },
    {
      "cell_type": "code",
      "metadata": {
        "id": "30RWJIJ7hN5y"
      },
      "source": [
        "df_random_sentences['sentences_TB'] = [TextBlob(comment).translate(to='us') for comment in df_random_sentences['Sentences']]"
      ],
      "execution_count": null,
      "outputs": []
    },
    {
      "cell_type": "markdown",
      "metadata": {
        "id": "q7BXvnS5afBa"
      },
      "source": [
        "### Cálculo da polaridade"
      ]
    },
    {
      "cell_type": "code",
      "metadata": {
        "id": "DvMzLQ3gkl0X"
      },
      "source": [
        "df_random_sentences['polarity_TB'] = [sentence.sentiment.polarity for sentence in df_random_sentences['sentences_TB']]"
      ],
      "execution_count": null,
      "outputs": []
    },
    {
      "cell_type": "markdown",
      "metadata": {
        "id": "tkhTb_8GasEb"
      },
      "source": [
        "### Normalização dos valores da coluna do cálculo da polaridade"
      ]
    },
    {
      "cell_type": "code",
      "metadata": {
        "id": "qBBQm1hCSAJE"
      },
      "source": [
        "positive_min = 0.5\n",
        "negative_min = -0.15\n",
        "\n",
        "df_random_sentences['polarity_TB_normalized'] = [1 if sentence > positive_min\n",
        "                                                 else -1 if sentence < negative_min\n",
        "                                                 else 0 \n",
        "                                                 for sentence in df_random_sentences['polarity_TB']]"
      ],
      "execution_count": null,
      "outputs": []
    },
    {
      "cell_type": "markdown",
      "metadata": {
        "id": "Fcf8S-jsnGEn"
      },
      "source": [
        "### Métricas de desempenho"
      ]
    },
    {
      "cell_type": "code",
      "metadata": {
        "id": "FpaAP5IznF2r",
        "colab": {
          "base_uri": "https://localhost:8080/"
        },
        "outputId": "7cd9bc86-04f3-474f-c200-7bd5351e07a6"
      },
      "source": [
        "target_names = ['Negativa', 'Neutra', 'Positiva']\n",
        "\n",
        "print(classification_report(df_random_sentences['Polarity'], \n",
        "                      df_random_sentences['polarity_TB_normalized'],\n",
        "                      target_names=target_names))"
      ],
      "execution_count": null,
      "outputs": [
        {
          "output_type": "stream",
          "text": [
            "              precision    recall  f1-score   support\n",
            "\n",
            "    Negativa       0.79      0.42      0.55        26\n",
            "      Neutra       0.41      0.89      0.56        53\n",
            "    Positiva       0.90      0.52      0.66       120\n",
            "\n",
            "    accuracy                           0.60       199\n",
            "   macro avg       0.70      0.61      0.59       199\n",
            "weighted avg       0.75      0.60      0.62       199\n",
            "\n"
          ],
          "name": "stdout"
        }
      ]
    },
    {
      "cell_type": "markdown",
      "metadata": {
        "id": "Uv6-u1Gulavc"
      },
      "source": [
        "#Visão Temporal"
      ]
    },
    {
      "cell_type": "code",
      "metadata": {
        "id": "v_wioD1XleKl"
      },
      "source": [
        ""
      ],
      "execution_count": null,
      "outputs": []
    },
    {
      "cell_type": "markdown",
      "metadata": {
        "id": "zYBTXzOBql2t"
      },
      "source": [
        "#Visão Geográfica"
      ]
    },
    {
      "cell_type": "code",
      "metadata": {
        "id": "CXDSt3WlTfo3",
        "outputId": "d324799c-dc38-4d22-ec05-2b02aefec711",
        "colab": {
          "base_uri": "https://localhost:8080/",
          "height": 204
        }
      },
      "source": [
        "import geopandas\n",
        "\n",
        "df_geo = pd.read_csv(\"data/address.txt\", names=[\"city\", \"state\", \"latitude\", \"longitude\"])\n",
        "df_geo.head()"
      ],
      "execution_count": 126,
      "outputs": [
        {
          "output_type": "execute_result",
          "data": {
            "text/html": [
              "<div>\n",
              "<style scoped>\n",
              "    .dataframe tbody tr th:only-of-type {\n",
              "        vertical-align: middle;\n",
              "    }\n",
              "\n",
              "    .dataframe tbody tr th {\n",
              "        vertical-align: top;\n",
              "    }\n",
              "\n",
              "    .dataframe thead th {\n",
              "        text-align: right;\n",
              "    }\n",
              "</style>\n",
              "<table border=\"1\" class=\"dataframe\">\n",
              "  <thead>\n",
              "    <tr style=\"text-align: right;\">\n",
              "      <th></th>\n",
              "      <th>city</th>\n",
              "      <th>state</th>\n",
              "      <th>latitude</th>\n",
              "      <th>longitude</th>\n",
              "    </tr>\n",
              "  </thead>\n",
              "  <tbody>\n",
              "    <tr>\n",
              "      <th>0</th>\n",
              "      <td>São Paulo</td>\n",
              "      <td>São Paulo</td>\n",
              "      <td>-23.584914</td>\n",
              "      <td>-46.679795</td>\n",
              "    </tr>\n",
              "    <tr>\n",
              "      <th>1</th>\n",
              "      <td>São Paulo</td>\n",
              "      <td>São Paulo</td>\n",
              "      <td>-23.580586</td>\n",
              "      <td>-46.677558</td>\n",
              "    </tr>\n",
              "    <tr>\n",
              "      <th>2</th>\n",
              "      <td>Teresina</td>\n",
              "      <td>Piauí</td>\n",
              "      <td>-5.133390</td>\n",
              "      <td>-42.794155</td>\n",
              "    </tr>\n",
              "    <tr>\n",
              "      <th>3</th>\n",
              "      <td>Gávea</td>\n",
              "      <td>Rio de Janeiro</td>\n",
              "      <td>-22.978278</td>\n",
              "      <td>-43.230314</td>\n",
              "    </tr>\n",
              "    <tr>\n",
              "      <th>4</th>\n",
              "      <td>NaN</td>\n",
              "      <td>NaN</td>\n",
              "      <td>NaN</td>\n",
              "      <td>NaN</td>\n",
              "    </tr>\n",
              "  </tbody>\n",
              "</table>\n",
              "</div>"
            ],
            "text/plain": [
              "        city           state   latitude  longitude\n",
              "0  São Paulo       São Paulo -23.584914 -46.679795\n",
              "1  São Paulo       São Paulo -23.580586 -46.677558\n",
              "2   Teresina           Piauí  -5.133390 -42.794155\n",
              "3      Gávea  Rio de Janeiro -22.978278 -43.230314\n",
              "4        NaN             NaN        NaN        NaN"
            ]
          },
          "metadata": {
            "tags": []
          },
          "execution_count": 126
        }
      ]
    },
    {
      "cell_type": "code",
      "metadata": {
        "id": "W3vDee5oZ2_6",
        "outputId": "d704c527-845b-4e94-f770-e02fd15bb05a",
        "colab": {
          "base_uri": "https://localhost:8080/",
          "height": 204
        }
      },
      "source": [
        "df_geo.dropna(inplace=True)\n",
        "df_geo.head()"
      ],
      "execution_count": 127,
      "outputs": [
        {
          "output_type": "execute_result",
          "data": {
            "text/html": [
              "<div>\n",
              "<style scoped>\n",
              "    .dataframe tbody tr th:only-of-type {\n",
              "        vertical-align: middle;\n",
              "    }\n",
              "\n",
              "    .dataframe tbody tr th {\n",
              "        vertical-align: top;\n",
              "    }\n",
              "\n",
              "    .dataframe thead th {\n",
              "        text-align: right;\n",
              "    }\n",
              "</style>\n",
              "<table border=\"1\" class=\"dataframe\">\n",
              "  <thead>\n",
              "    <tr style=\"text-align: right;\">\n",
              "      <th></th>\n",
              "      <th>city</th>\n",
              "      <th>state</th>\n",
              "      <th>latitude</th>\n",
              "      <th>longitude</th>\n",
              "    </tr>\n",
              "  </thead>\n",
              "  <tbody>\n",
              "    <tr>\n",
              "      <th>0</th>\n",
              "      <td>São Paulo</td>\n",
              "      <td>São Paulo</td>\n",
              "      <td>-23.584914</td>\n",
              "      <td>-46.679795</td>\n",
              "    </tr>\n",
              "    <tr>\n",
              "      <th>1</th>\n",
              "      <td>São Paulo</td>\n",
              "      <td>São Paulo</td>\n",
              "      <td>-23.580586</td>\n",
              "      <td>-46.677558</td>\n",
              "    </tr>\n",
              "    <tr>\n",
              "      <th>2</th>\n",
              "      <td>Teresina</td>\n",
              "      <td>Piauí</td>\n",
              "      <td>-5.133390</td>\n",
              "      <td>-42.794155</td>\n",
              "    </tr>\n",
              "    <tr>\n",
              "      <th>3</th>\n",
              "      <td>Gávea</td>\n",
              "      <td>Rio de Janeiro</td>\n",
              "      <td>-22.978278</td>\n",
              "      <td>-43.230314</td>\n",
              "    </tr>\n",
              "    <tr>\n",
              "      <th>5</th>\n",
              "      <td>Salvador</td>\n",
              "      <td>Bahia</td>\n",
              "      <td>-13.001983</td>\n",
              "      <td>-38.461889</td>\n",
              "    </tr>\n",
              "  </tbody>\n",
              "</table>\n",
              "</div>"
            ],
            "text/plain": [
              "        city           state   latitude  longitude\n",
              "0  São Paulo       São Paulo -23.584914 -46.679795\n",
              "1  São Paulo       São Paulo -23.580586 -46.677558\n",
              "2   Teresina           Piauí  -5.133390 -42.794155\n",
              "3      Gávea  Rio de Janeiro -22.978278 -43.230314\n",
              "5   Salvador           Bahia -13.001983 -38.461889"
            ]
          },
          "metadata": {
            "tags": []
          },
          "execution_count": 127
        }
      ]
    },
    {
      "cell_type": "code",
      "metadata": {
        "id": "5h-d6ApyJ4LB",
        "outputId": "8a9e37cc-e295-4352-bbe4-e66119934f42",
        "colab": {
          "base_uri": "https://localhost:8080/",
          "height": 204
        }
      },
      "source": [
        "gdf = geopandas.GeoDataFrame(\n",
        "    df_geo, geometry=geopandas.points_from_xy(df_geo.longitude, df_geo.latitude))\n",
        "\n",
        "gdf.head()"
      ],
      "execution_count": 137,
      "outputs": [
        {
          "output_type": "execute_result",
          "data": {
            "text/html": [
              "<div>\n",
              "<style scoped>\n",
              "    .dataframe tbody tr th:only-of-type {\n",
              "        vertical-align: middle;\n",
              "    }\n",
              "\n",
              "    .dataframe tbody tr th {\n",
              "        vertical-align: top;\n",
              "    }\n",
              "\n",
              "    .dataframe thead th {\n",
              "        text-align: right;\n",
              "    }\n",
              "</style>\n",
              "<table border=\"1\" class=\"dataframe\">\n",
              "  <thead>\n",
              "    <tr style=\"text-align: right;\">\n",
              "      <th></th>\n",
              "      <th>city</th>\n",
              "      <th>state</th>\n",
              "      <th>latitude</th>\n",
              "      <th>longitude</th>\n",
              "      <th>geometry</th>\n",
              "    </tr>\n",
              "  </thead>\n",
              "  <tbody>\n",
              "    <tr>\n",
              "      <th>0</th>\n",
              "      <td>São Paulo</td>\n",
              "      <td>São Paulo</td>\n",
              "      <td>-23.584914</td>\n",
              "      <td>-46.679795</td>\n",
              "      <td>POINT (-46.67979 -23.58491)</td>\n",
              "    </tr>\n",
              "    <tr>\n",
              "      <th>1</th>\n",
              "      <td>São Paulo</td>\n",
              "      <td>São Paulo</td>\n",
              "      <td>-23.580586</td>\n",
              "      <td>-46.677558</td>\n",
              "      <td>POINT (-46.67756 -23.58059)</td>\n",
              "    </tr>\n",
              "    <tr>\n",
              "      <th>2</th>\n",
              "      <td>Teresina</td>\n",
              "      <td>Piauí</td>\n",
              "      <td>-5.133390</td>\n",
              "      <td>-42.794155</td>\n",
              "      <td>POINT (-42.79416 -5.13339)</td>\n",
              "    </tr>\n",
              "    <tr>\n",
              "      <th>3</th>\n",
              "      <td>Gávea</td>\n",
              "      <td>Rio de Janeiro</td>\n",
              "      <td>-22.978278</td>\n",
              "      <td>-43.230314</td>\n",
              "      <td>POINT (-43.23031 -22.97828)</td>\n",
              "    </tr>\n",
              "    <tr>\n",
              "      <th>5</th>\n",
              "      <td>Salvador</td>\n",
              "      <td>Bahia</td>\n",
              "      <td>-13.001983</td>\n",
              "      <td>-38.461889</td>\n",
              "      <td>POINT (-38.46189 -13.00198)</td>\n",
              "    </tr>\n",
              "  </tbody>\n",
              "</table>\n",
              "</div>"
            ],
            "text/plain": [
              "        city           state   latitude  longitude                     geometry\n",
              "0  São Paulo       São Paulo -23.584914 -46.679795  POINT (-46.67979 -23.58491)\n",
              "1  São Paulo       São Paulo -23.580586 -46.677558  POINT (-46.67756 -23.58059)\n",
              "2   Teresina           Piauí  -5.133390 -42.794155   POINT (-42.79416 -5.13339)\n",
              "3      Gávea  Rio de Janeiro -22.978278 -43.230314  POINT (-43.23031 -22.97828)\n",
              "5   Salvador           Bahia -13.001983 -38.461889  POINT (-38.46189 -13.00198)"
            ]
          },
          "metadata": {
            "tags": []
          },
          "execution_count": 137
        }
      ]
    },
    {
      "cell_type": "code",
      "metadata": {
        "id": "h89FeLC-PVFL"
      },
      "source": [
        "world = geopandas.read_file(geopandas.datasets.get_path('naturalearth_lowres'))"
      ],
      "execution_count": 189,
      "outputs": []
    },
    {
      "cell_type": "code",
      "metadata": {
        "id": "Z-pCDEdGEGpV",
        "outputId": "6ec7e95f-407d-46b8-988e-54526d206574",
        "colab": {
          "base_uri": "https://localhost:8080/",
          "height": 580
        }
      },
      "source": [
        "fig, ax = plt.subplots(1, figsize =(16, 8)) \n",
        "\n",
        "world.plot(ax = ax, color = 'black') \n",
        "world.plot(ax = ax, cmap = 'Reds')\n",
        "\n",
        "gdf.plot(markersize=5, color='yellow', ax = ax)\n",
        "plt.tight_layout()\n",
        "plt.show()"
      ],
      "execution_count": 194,
      "outputs": [
        {
          "output_type": "display_data",
          "data": {
            "image/png": "[encoded data removed]",
            "text/plain": [
              "<Figure size 1152x576 with 1 Axes>"
            ]
          },
          "metadata": {
            "tags": [],
            "needs_background": "light"
          }
        }
      ]
    },
    {
      "cell_type": "code",
      "metadata": {
        "id": "J9WJ0SUsYNwz"
      },
      "source": [
        ""
      ],
      "execution_count": null,
      "outputs": []
    }
  ]
}