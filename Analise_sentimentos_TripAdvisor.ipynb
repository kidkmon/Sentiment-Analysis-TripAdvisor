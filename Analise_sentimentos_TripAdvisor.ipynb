{
  "nbformat": 4,
  "nbformat_minor": 0,
  "metadata": {
    "colab": {
      "name": "Analise-sentimentos-TripAdvisor.ipynb",
      "provenance": [],
      "collapsed_sections": [],
      "include_colab_link": true
    },
    "kernelspec": {
      "display_name": "Python 3",
      "name": "python3"
    }
  },
  "cells": [
    {
      "cell_type": "markdown",
      "metadata": {
        "id": "view-in-github",
        "colab_type": "text"
      },
      "source": [
        "<a href=\"https://colab.research.google.com/github/kidkmon/Sentiment-Analysis-TripAdvisor/blob/main/Analise_sentimentos_TripAdvisor.ipynb\" target=\"_parent\"><img src=\"https://colab.research.google.com/assets/colab-badge.svg\" alt=\"Open In Colab\"/></a>"
      ]
    },
    {
      "cell_type": "markdown",
      "metadata": {
        "id": "HW1QrJad-LVe"
      },
      "source": [
        "# Configurações"
      ]
    },
    {
      "cell_type": "code",
      "metadata": {
        "id": "zjJOS9uHPyp4"
      },
      "source": [
        "from google.colab import drive # monta ambiente para salvar dados gerados no notebook\n",
        "from datetime import date, datetime #biblioteca para tratamento de data\n",
        "import pandas as pd # biblioteca para processamento dos dados\n",
        "from pandas import json_normalize # realiza a normalização de campos do tipo json no dataframe\n",
        "import numpy as np # biblioteca de algebra linear\n",
        "\n",
        "import urllib.request # biblioteca que trabalha com requisições HTTP\n",
        "import json # biblioteca para processamento de dados do tipo JSON\n",
        "\n",
        "import seaborn as sns # biblioteca de plotagem de gráficos\n",
        "import matplotlib.dates as mdates\n",
        "import matplotlib.pyplot as plt # biblioteca para plotagem de gráficos\n",
        "%matplotlib inline\n",
        "\n",
        "from textblob import TextBlob # biblioteca para processamento de dados textuais\n",
        "from sklearn.metrics import classification_report # biblioteca para calcular as principais métricas de classificação."
      ],
      "execution_count": 242,
      "outputs": []
    },
    {
      "cell_type": "code",
      "metadata": {
        "id": "Vdg2bV-XdV3o",
        "colab": {
          "base_uri": "https://localhost:8080/"
        },
        "outputId": "b3129d35-7f62-4050-f1d3-07eeb4c7e865"
      },
      "source": [
        "from google.colab import drive\n",
        "drive.mount('/content/drive')"
      ],
      "execution_count": 330,
      "outputs": [
        {
          "output_type": "stream",
          "text": [
            "Drive already mounted at /content/drive; to attempt to forcibly remount, call drive.mount(\"/content/drive\", force_remount=True).\n"
          ],
          "name": "stdout"
        }
      ]
    },
    {
      "cell_type": "code",
      "metadata": {
        "id": "LJ1FnVjUcvLw",
        "outputId": "2b568b2f-4bdb-4c8c-81e8-15fa66d070e2",
        "colab": {
          "base_uri": "https://localhost:8080/"
        }
      },
      "source": [
        "#Instalação de pacotes\n",
        "!python -m textblob.download_corpora\n",
        "!pip install --upgrade geopandas"
      ],
      "execution_count": 244,
      "outputs": [
        {
          "output_type": "stream",
          "text": [
            "[nltk_data] Downloading package brown to /root/nltk_data...\n",
            "[nltk_data]   Package brown is already up-to-date!\n",
            "[nltk_data] Downloading package punkt to /root/nltk_data...\n",
            "[nltk_data]   Package punkt is already up-to-date!\n",
            "[nltk_data] Downloading package wordnet to /root/nltk_data...\n",
            "[nltk_data]   Package wordnet is already up-to-date!\n",
            "[nltk_data] Downloading package averaged_perceptron_tagger to\n",
            "[nltk_data]     /root/nltk_data...\n",
            "[nltk_data]   Package averaged_perceptron_tagger is already up-to-\n",
            "[nltk_data]       date!\n",
            "[nltk_data] Downloading package conll2000 to /root/nltk_data...\n",
            "[nltk_data]   Package conll2000 is already up-to-date!\n",
            "[nltk_data] Downloading package movie_reviews to /root/nltk_data...\n",
            "[nltk_data]   Package movie_reviews is already up-to-date!\n",
            "Finished.\n",
            "Requirement already up-to-date: geopandas in /usr/local/lib/python3.6/dist-packages (0.8.1)\n",
            "Requirement already satisfied, skipping upgrade: shapely in /usr/local/lib/python3.6/dist-packages (from geopandas) (1.7.1)\n",
            "Requirement already satisfied, skipping upgrade: pyproj>=2.2.0 in /usr/local/lib/python3.6/dist-packages (from geopandas) (3.0.0.post1)\n",
            "Requirement already satisfied, skipping upgrade: pandas>=0.23.0 in /usr/local/lib/python3.6/dist-packages (from geopandas) (1.1.4)\n",
            "Requirement already satisfied, skipping upgrade: fiona in /usr/local/lib/python3.6/dist-packages (from geopandas) (1.8.18)\n",
            "Requirement already satisfied, skipping upgrade: certifi in /usr/local/lib/python3.6/dist-packages (from pyproj>=2.2.0->geopandas) (2020.11.8)\n",
            "Requirement already satisfied, skipping upgrade: python-dateutil>=2.7.3 in /usr/local/lib/python3.6/dist-packages (from pandas>=0.23.0->geopandas) (2.8.1)\n",
            "Requirement already satisfied, skipping upgrade: pytz>=2017.2 in /usr/local/lib/python3.6/dist-packages (from pandas>=0.23.0->geopandas) (2018.9)\n",
            "Requirement already satisfied, skipping upgrade: numpy>=1.15.4 in /usr/local/lib/python3.6/dist-packages (from pandas>=0.23.0->geopandas) (1.18.5)\n",
            "Requirement already satisfied, skipping upgrade: six>=1.7 in /usr/local/lib/python3.6/dist-packages (from fiona->geopandas) (1.15.0)\n",
            "Requirement already satisfied, skipping upgrade: click-plugins>=1.0 in /usr/local/lib/python3.6/dist-packages (from fiona->geopandas) (1.1.1)\n",
            "Requirement already satisfied, skipping upgrade: attrs>=17 in /usr/local/lib/python3.6/dist-packages (from fiona->geopandas) (20.3.0)\n",
            "Requirement already satisfied, skipping upgrade: cligj>=0.5 in /usr/local/lib/python3.6/dist-packages (from fiona->geopandas) (0.7.1)\n",
            "Requirement already satisfied, skipping upgrade: munch in /usr/local/lib/python3.6/dist-packages (from fiona->geopandas) (2.5.0)\n",
            "Requirement already satisfied, skipping upgrade: click<8,>=4.0 in /usr/local/lib/python3.6/dist-packages (from fiona->geopandas) (7.1.2)\n"
          ],
          "name": "stdout"
        }
      ]
    },
    {
      "cell_type": "code",
      "metadata": {
        "id": "jlwf6ZZf_81R",
        "colab": {
          "base_uri": "https://localhost:8080/"
        },
        "outputId": "5b77d0a9-1bf5-4600-d34a-789866474b33"
      },
      "source": [
        "# Versão das bibliotecas utilizadas\n",
        "!python --version\n",
        "print(\"Pandas\", pd.__version__)\n",
        "print(\"Numpy\", np.__version__)\n",
        "\n",
        "\n",
        "import geopandas #biblioteca para trabalhar com dados geospacial"
      ],
      "execution_count": 245,
      "outputs": [
        {
          "output_type": "stream",
          "text": [
            "Python 3.6.9\n",
            "Pandas 1.1.4\n",
            "Numpy 1.18.5\n"
          ],
          "name": "stdout"
        }
      ]
    },
    {
      "cell_type": "markdown",
      "metadata": {
        "id": "sbq3pvX_Rv9e"
      },
      "source": [
        "# Processamento de dados"
      ]
    },
    {
      "cell_type": "code",
      "metadata": {
        "id": "9HHmBOam-2TE"
      },
      "source": [
        "def load_data(url, encoding=\"utf-8\"):\n",
        "  dat_file = urllib.request.urlopen(url)\n",
        "\n",
        "  json_format_file = [json.loads(line) for line in dat_file]\n",
        "\n",
        "  df = pd.DataFrame(json_format_file)\n",
        "  \n",
        "  return df"
      ],
      "execution_count": 246,
      "outputs": []
    },
    {
      "cell_type": "code",
      "metadata": {
        "id": "03cN_LQA-IZw",
        "colab": {
          "base_uri": "https://localhost:8080/",
          "height": 197
        },
        "outputId": "44b3e5e0-0167-4e88-f506-309c1ecc9f66"
      },
      "source": [
        "df = load_data(url=\"http://tiagodemelo.info/datasets/dataset-v2.dat\")\n",
        "df.head()"
      ],
      "execution_count": 247,
      "outputs": [
        {
          "output_type": "execute_result",
          "data": {
            "text/html": [
              "<div>\n",
              "<style scoped>\n",
              "    .dataframe tbody tr th:only-of-type {\n",
              "        vertical-align: middle;\n",
              "    }\n",
              "\n",
              "    .dataframe tbody tr th {\n",
              "        vertical-align: top;\n",
              "    }\n",
              "\n",
              "    .dataframe thead th {\n",
              "        text-align: right;\n",
              "    }\n",
              "</style>\n",
              "<table border=\"1\" class=\"dataframe\">\n",
              "  <thead>\n",
              "    <tr style=\"text-align: right;\">\n",
              "      <th></th>\n",
              "      <th>title</th>\n",
              "      <th>reviewId</th>\n",
              "      <th>restaurantId</th>\n",
              "      <th>author</th>\n",
              "      <th>reviewBody</th>\n",
              "      <th>language</th>\n",
              "      <th>mobileDevice</th>\n",
              "      <th>userLocation</th>\n",
              "      <th>publicationDate</th>\n",
              "      <th>visitDate</th>\n",
              "      <th>ratingValue</th>\n",
              "      <th>itemReviewed</th>\n",
              "    </tr>\n",
              "  </thead>\n",
              "  <tbody>\n",
              "    <tr>\n",
              "      <th>0</th>\n",
              "      <td>Jantar</td>\n",
              "      <td>692856288</td>\n",
              "      <td>2344932</td>\n",
              "      <td>larinhavercosa222</td>\n",
              "      <td>Comida maravilhosa, lugar do verdadeiro chicle...</td>\n",
              "      <td>pt</td>\n",
              "      <td>True</td>\n",
              "      <td>São Carlos, SP</td>\n",
              "      <td>26/07/2019</td>\n",
              "      <td>07/2019</td>\n",
              "      <td>5</td>\n",
              "      <td>{'name': 'Imperador dos Camarões', 'address': ...</td>\n",
              "    </tr>\n",
              "    <tr>\n",
              "      <th>1</th>\n",
              "      <td>Uma boa experiência.</td>\n",
              "      <td>229208487</td>\n",
              "      <td>3720906</td>\n",
              "      <td>Pano P</td>\n",
              "      <td>Comida boa, drinks legais e um ambiente bem ac...</td>\n",
              "      <td>pt</td>\n",
              "      <td>True</td>\n",
              "      <td>Manaus, AM</td>\n",
              "      <td>16/09/2014</td>\n",
              "      <td>None</td>\n",
              "      <td>4</td>\n",
              "      <td>{'name': 'Guacamole Natal', 'address': {'stree...</td>\n",
              "    </tr>\n",
              "    <tr>\n",
              "      <th>2</th>\n",
              "      <td>Otimo self service</td>\n",
              "      <td>679002332</td>\n",
              "      <td>2248105</td>\n",
              "      <td>Magma100</td>\n",
              "      <td>Excelente pra ir com a família! Ótima Comida, ...</td>\n",
              "      <td>pt</td>\n",
              "      <td>True</td>\n",
              "      <td>Goiânia, GO</td>\n",
              "      <td>04/06/2019</td>\n",
              "      <td>07/2018</td>\n",
              "      <td>4</td>\n",
              "      <td>{'name': 'Chica Pitanga', 'address': {'streetA...</td>\n",
              "    </tr>\n",
              "    <tr>\n",
              "      <th>3</th>\n",
              "      <td>O sorvete mais tradicional do estado</td>\n",
              "      <td>355671519</td>\n",
              "      <td>8168302</td>\n",
              "      <td>Yurie M</td>\n",
              "      <td>Tomo sorvete na Visabor faz mais de 30 anos. S...</td>\n",
              "      <td>pt</td>\n",
              "      <td>False</td>\n",
              "      <td>Aracaju, SE</td>\n",
              "      <td>15/03/2016</td>\n",
              "      <td>01/2016</td>\n",
              "      <td>5</td>\n",
              "      <td>{'name': 'Sorvetes Vi Sabor', 'address': {'str...</td>\n",
              "    </tr>\n",
              "    <tr>\n",
              "      <th>4</th>\n",
              "      <td>Melhor hamburger!</td>\n",
              "      <td>268741921</td>\n",
              "      <td>5395141</td>\n",
              "      <td>Debora_C85</td>\n",
              "      <td>O melhor hamburger que já comi! Excelente aten...</td>\n",
              "      <td>pt</td>\n",
              "      <td>False</td>\n",
              "      <td>Rio de Janeiro, RJ</td>\n",
              "      <td>28/04/2015</td>\n",
              "      <td>04/2015</td>\n",
              "      <td>5</td>\n",
              "      <td>{'name': 'Z Deli Sandwich Shop', 'address': {'...</td>\n",
              "    </tr>\n",
              "  </tbody>\n",
              "</table>\n",
              "</div>"
            ],
            "text/plain": [
              "                                  title  ...                                       itemReviewed\n",
              "0                               Jantar   ...  {'name': 'Imperador dos Camarões', 'address': ...\n",
              "1                  Uma boa experiência.  ...  {'name': 'Guacamole Natal', 'address': {'stree...\n",
              "2                    Otimo self service  ...  {'name': 'Chica Pitanga', 'address': {'streetA...\n",
              "3  O sorvete mais tradicional do estado  ...  {'name': 'Sorvetes Vi Sabor', 'address': {'str...\n",
              "4                     Melhor hamburger!  ...  {'name': 'Z Deli Sandwich Shop', 'address': {'...\n",
              "\n",
              "[5 rows x 12 columns]"
            ]
          },
          "metadata": {
            "tags": []
          },
          "execution_count": 247
        }
      ]
    },
    {
      "cell_type": "markdown",
      "metadata": {
        "id": "OzKpHsiwnq8g"
      },
      "source": [
        "## Limpeza dos dados"
      ]
    },
    {
      "cell_type": "code",
      "metadata": {
        "id": "1-S2fFHiORC4",
        "colab": {
          "base_uri": "https://localhost:8080/"
        },
        "outputId": "75052712-002d-409a-e29f-f9afcd4ebfda"
      },
      "source": [
        "df.info()"
      ],
      "execution_count": 248,
      "outputs": [
        {
          "output_type": "stream",
          "text": [
            "<class 'pandas.core.frame.DataFrame'>\n",
            "RangeIndex: 100000 entries, 0 to 99999\n",
            "Data columns (total 12 columns):\n",
            " #   Column           Non-Null Count   Dtype \n",
            "---  ------           --------------   ----- \n",
            " 0   title            100000 non-null  object\n",
            " 1   reviewId         100000 non-null  object\n",
            " 2   restaurantId     99999 non-null   object\n",
            " 3   author           99999 non-null   object\n",
            " 4   reviewBody       99999 non-null   object\n",
            " 5   language         100000 non-null  object\n",
            " 6   mobileDevice     100000 non-null  object\n",
            " 7   userLocation     100000 non-null  object\n",
            " 8   publicationDate  100000 non-null  object\n",
            " 9   visitDate        100000 non-null  object\n",
            " 10  ratingValue      100000 non-null  object\n",
            " 11  itemReviewed     100000 non-null  object\n",
            "dtypes: object(12)\n",
            "memory usage: 9.2+ MB\n"
          ],
          "name": "stdout"
        }
      ]
    },
    {
      "cell_type": "markdown",
      "metadata": {
        "id": "hTc5vzvtoChi"
      },
      "source": [
        "A partir das informações iniciais pode-se concluir que há dados faltantes na base de dados. Os campos que não possuem dados completos são: **restaurantId**, **author** e **reviewBody**.\n"
      ]
    },
    {
      "cell_type": "markdown",
      "metadata": {
        "id": "O2Q28xKro27W"
      },
      "source": [
        "## Remoção de colunas no dataset\n",
        "\n",
        "Algumas colunas não irão exercer impacto durante a análise de dados, logo, optou-se por removê-las. Estas são: **reviewId**, **restaurantId**, **author** e **visitDate**."
      ]
    },
    {
      "cell_type": "code",
      "metadata": {
        "id": "xljkfAVBn_LM"
      },
      "source": [
        "columns = [\"reviewId\", \"restaurantId\", \"author\", \"visitDate\"]\n",
        "\n",
        "df.drop(columns=columns, inplace=True)"
      ],
      "execution_count": 249,
      "outputs": []
    },
    {
      "cell_type": "markdown",
      "metadata": {
        "id": "ndwV6jsqrFvy"
      },
      "source": [
        "Com a remoção de 3 colunas no conjunto de dados, nota-se que o **reviewBody** possui informações faltantes. Visto que esse campo é um dos mais importantes para a conclusão da análise de dados, optou-se por remover essa informação da base. "
      ]
    },
    {
      "cell_type": "code",
      "metadata": {
        "id": "ECoTD64rqrwM"
      },
      "source": [
        "df.dropna(inplace=True)"
      ],
      "execution_count": 250,
      "outputs": []
    },
    {
      "cell_type": "code",
      "metadata": {
        "colab": {
          "base_uri": "https://localhost:8080/"
        },
        "id": "qrbjpD5MuzOv",
        "outputId": "82050464-cfd0-4275-8317-ceb0cdd7c242"
      },
      "source": [
        "df.info()"
      ],
      "execution_count": 251,
      "outputs": [
        {
          "output_type": "stream",
          "text": [
            "<class 'pandas.core.frame.DataFrame'>\n",
            "Int64Index: 99999 entries, 0 to 99999\n",
            "Data columns (total 8 columns):\n",
            " #   Column           Non-Null Count  Dtype \n",
            "---  ------           --------------  ----- \n",
            " 0   title            99999 non-null  object\n",
            " 1   reviewBody       99999 non-null  object\n",
            " 2   language         99999 non-null  object\n",
            " 3   mobileDevice     99999 non-null  object\n",
            " 4   userLocation     99999 non-null  object\n",
            " 5   publicationDate  99999 non-null  object\n",
            " 6   ratingValue      99999 non-null  object\n",
            " 7   itemReviewed     99999 non-null  object\n",
            "dtypes: object(8)\n",
            "memory usage: 6.9+ MB\n"
          ],
          "name": "stdout"
        }
      ]
    },
    {
      "cell_type": "markdown",
      "metadata": {
        "id": "dV9ED7P3vf6G"
      },
      "source": [
        "Agora todo o conjunto de dados possui 99.999 dados sobre revisões de restaurantes e 8 colunas."
      ]
    },
    {
      "cell_type": "markdown",
      "metadata": {
        "id": "uFFUBq2XwXF2"
      },
      "source": [
        "## Criação de novas colunas para a análise\n"
      ]
    },
    {
      "cell_type": "markdown",
      "metadata": {
        "id": "rT1Oefjaw77i"
      },
      "source": [
        "As informações das colunas **userLocation** e **itemReviewed** podem ser distribuídas em outras, facilitando, assim, a criação de novas visualizações de dados. \n",
        "\n",
        "A **userLocation** pode ser dividida em dados sobre a cidade e uma outra referente ao estado em que o usuário fez a revisão. "
      ]
    },
    {
      "cell_type": "code",
      "metadata": {
        "id": "rEGgBddow0Tm",
        "colab": {
          "base_uri": "https://localhost:8080/"
        },
        "outputId": "99e36e8b-65c6-45ca-8155-2da1cd62762d"
      },
      "source": [
        "## coluna userLocation\n",
        "\n",
        "df[\"userLocation\"]"
      ],
      "execution_count": 252,
      "outputs": [
        {
          "output_type": "execute_result",
          "data": {
            "text/plain": [
              "0            São Carlos, SP\n",
              "1                Manaus, AM\n",
              "2               Goiânia, GO\n",
              "3               Aracaju, SE\n",
              "4        Rio de Janeiro, RJ\n",
              "                ...        \n",
              "99995      Porto Alegre, RS\n",
              "99996         Cork, Irlanda\n",
              "99997         São Paulo, SP\n",
              "99998      Porto Alegre, RS\n",
              "99999            Manaus, AM\n",
              "Name: userLocation, Length: 99999, dtype: object"
            ]
          },
          "metadata": {
            "tags": []
          },
          "execution_count": 252
        }
      ]
    },
    {
      "cell_type": "code",
      "metadata": {
        "id": "Dry2sS9l2SeQ",
        "colab": {
          "base_uri": "https://localhost:8080/",
          "height": 197
        },
        "outputId": "9ecdf760-0286-44f8-d1cc-7bf80cef2908"
      },
      "source": [
        "location = df[\"userLocation\"].str.split(\",\", n = 1, expand = True) \n",
        "\n",
        "df[\"userCity\"] = location[0]\n",
        "df[\"userState\"] = location[1]\n",
        "\n",
        "df.drop(columns=[\"userLocation\"], inplace=True)\n",
        "\n",
        "df.head()"
      ],
      "execution_count": 253,
      "outputs": [
        {
          "output_type": "execute_result",
          "data": {
            "text/html": [
              "<div>\n",
              "<style scoped>\n",
              "    .dataframe tbody tr th:only-of-type {\n",
              "        vertical-align: middle;\n",
              "    }\n",
              "\n",
              "    .dataframe tbody tr th {\n",
              "        vertical-align: top;\n",
              "    }\n",
              "\n",
              "    .dataframe thead th {\n",
              "        text-align: right;\n",
              "    }\n",
              "</style>\n",
              "<table border=\"1\" class=\"dataframe\">\n",
              "  <thead>\n",
              "    <tr style=\"text-align: right;\">\n",
              "      <th></th>\n",
              "      <th>title</th>\n",
              "      <th>reviewBody</th>\n",
              "      <th>language</th>\n",
              "      <th>mobileDevice</th>\n",
              "      <th>publicationDate</th>\n",
              "      <th>ratingValue</th>\n",
              "      <th>itemReviewed</th>\n",
              "      <th>userCity</th>\n",
              "      <th>userState</th>\n",
              "    </tr>\n",
              "  </thead>\n",
              "  <tbody>\n",
              "    <tr>\n",
              "      <th>0</th>\n",
              "      <td>Jantar</td>\n",
              "      <td>Comida maravilhosa, lugar do verdadeiro chicle...</td>\n",
              "      <td>pt</td>\n",
              "      <td>True</td>\n",
              "      <td>26/07/2019</td>\n",
              "      <td>5</td>\n",
              "      <td>{'name': 'Imperador dos Camarões', 'address': ...</td>\n",
              "      <td>São Carlos</td>\n",
              "      <td>SP</td>\n",
              "    </tr>\n",
              "    <tr>\n",
              "      <th>1</th>\n",
              "      <td>Uma boa experiência.</td>\n",
              "      <td>Comida boa, drinks legais e um ambiente bem ac...</td>\n",
              "      <td>pt</td>\n",
              "      <td>True</td>\n",
              "      <td>16/09/2014</td>\n",
              "      <td>4</td>\n",
              "      <td>{'name': 'Guacamole Natal', 'address': {'stree...</td>\n",
              "      <td>Manaus</td>\n",
              "      <td>AM</td>\n",
              "    </tr>\n",
              "    <tr>\n",
              "      <th>2</th>\n",
              "      <td>Otimo self service</td>\n",
              "      <td>Excelente pra ir com a família! Ótima Comida, ...</td>\n",
              "      <td>pt</td>\n",
              "      <td>True</td>\n",
              "      <td>04/06/2019</td>\n",
              "      <td>4</td>\n",
              "      <td>{'name': 'Chica Pitanga', 'address': {'streetA...</td>\n",
              "      <td>Goiânia</td>\n",
              "      <td>GO</td>\n",
              "    </tr>\n",
              "    <tr>\n",
              "      <th>3</th>\n",
              "      <td>O sorvete mais tradicional do estado</td>\n",
              "      <td>Tomo sorvete na Visabor faz mais de 30 anos. S...</td>\n",
              "      <td>pt</td>\n",
              "      <td>False</td>\n",
              "      <td>15/03/2016</td>\n",
              "      <td>5</td>\n",
              "      <td>{'name': 'Sorvetes Vi Sabor', 'address': {'str...</td>\n",
              "      <td>Aracaju</td>\n",
              "      <td>SE</td>\n",
              "    </tr>\n",
              "    <tr>\n",
              "      <th>4</th>\n",
              "      <td>Melhor hamburger!</td>\n",
              "      <td>O melhor hamburger que já comi! Excelente aten...</td>\n",
              "      <td>pt</td>\n",
              "      <td>False</td>\n",
              "      <td>28/04/2015</td>\n",
              "      <td>5</td>\n",
              "      <td>{'name': 'Z Deli Sandwich Shop', 'address': {'...</td>\n",
              "      <td>Rio de Janeiro</td>\n",
              "      <td>RJ</td>\n",
              "    </tr>\n",
              "  </tbody>\n",
              "</table>\n",
              "</div>"
            ],
            "text/plain": [
              "                                  title  ... userState\n",
              "0                               Jantar   ...        SP\n",
              "1                  Uma boa experiência.  ...        AM\n",
              "2                    Otimo self service  ...        GO\n",
              "3  O sorvete mais tradicional do estado  ...        SE\n",
              "4                     Melhor hamburger!  ...        RJ\n",
              "\n",
              "[5 rows x 9 columns]"
            ]
          },
          "metadata": {
            "tags": []
          },
          "execution_count": 253
        }
      ]
    },
    {
      "cell_type": "code",
      "metadata": {
        "id": "h7v4yUaMxY8p",
        "colab": {
          "base_uri": "https://localhost:8080/"
        },
        "outputId": "233584bf-5d5b-419a-810f-2f268b3d2ac1"
      },
      "source": [
        "## coluna itemReviewed\n",
        "\n",
        "df[\"itemReviewed\"]"
      ],
      "execution_count": 254,
      "outputs": [
        {
          "output_type": "execute_result",
          "data": {
            "text/plain": [
              "0        {'name': 'Imperador dos Camarões', 'address': ...\n",
              "1        {'name': 'Guacamole Natal', 'address': {'stree...\n",
              "2        {'name': 'Chica Pitanga', 'address': {'streetA...\n",
              "3        {'name': 'Sorvetes Vi Sabor', 'address': {'str...\n",
              "4        {'name': 'Z Deli Sandwich Shop', 'address': {'...\n",
              "                               ...                        \n",
              "99995    {'name': 'Boteco Maestro', 'address': {'street...\n",
              "99996    {'name': 'Casa do Marquês', 'address': {'stree...\n",
              "99997    {'name': 'Rio Scenarium', 'address': {'streetA...\n",
              "99998    {'name': 'Celeiro', 'address': {'streetAddress...\n",
              "99999    {'name': 'Coco Bambu Manaus', 'address': {'str...\n",
              "Name: itemReviewed, Length: 99999, dtype: object"
            ]
          },
          "metadata": {
            "tags": []
          },
          "execution_count": 254
        }
      ]
    },
    {
      "cell_type": "markdown",
      "metadata": {
        "id": "T-f9keDgx-zY"
      },
      "source": [
        "A **itemReviewed** possui muitas informações interessantes e que podem contribuir para uma análise mais completa. Esses dados são: \n",
        "\n",
        "*   **name**: Nome do restaurante;\n",
        "*   **address**: Endereço do restaurante;\n",
        "*   **website**: Endereço do site do restaurante;\n",
        "*   **email**: E-mail do restaurante;\n",
        "*   **phoneNumber**: Telefone do restaurante;\n",
        "*   **averageRating**: Média de avaliação do restaurante;\n",
        "\n",
        "\n",
        "Os campos website, email e phoneNumber serão utilizados nessa análise para saber se os estabelecimentos que possuem essas informações possuem maior probabilidade de terem pontuações maiores."
      ]
    },
    {
      "cell_type": "code",
      "metadata": {
        "colab": {
          "base_uri": "https://localhost:8080/",
          "height": 197
        },
        "id": "1f3FlX5CJ_-o",
        "outputId": "2d089597-a363-4093-f223-f96494816449"
      },
      "source": [
        "item_reviewed = json_normalize(df[\"itemReviewed\"])\n",
        "item_reviewed.head()"
      ],
      "execution_count": 255,
      "outputs": [
        {
          "output_type": "execute_result",
          "data": {
            "text/html": [
              "<div>\n",
              "<style scoped>\n",
              "    .dataframe tbody tr th:only-of-type {\n",
              "        vertical-align: middle;\n",
              "    }\n",
              "\n",
              "    .dataframe tbody tr th {\n",
              "        vertical-align: top;\n",
              "    }\n",
              "\n",
              "    .dataframe thead th {\n",
              "        text-align: right;\n",
              "    }\n",
              "</style>\n",
              "<table border=\"1\" class=\"dataframe\">\n",
              "  <thead>\n",
              "    <tr style=\"text-align: right;\">\n",
              "      <th></th>\n",
              "      <th>name</th>\n",
              "      <th>website</th>\n",
              "      <th>email</th>\n",
              "      <th>phoneNumber</th>\n",
              "      <th>averageRating</th>\n",
              "      <th>address.streetAddress</th>\n",
              "      <th>address.addressLocality</th>\n",
              "      <th>address.addressRegion</th>\n",
              "      <th>address.postalCode</th>\n",
              "      <th>address.country</th>\n",
              "    </tr>\n",
              "  </thead>\n",
              "  <tbody>\n",
              "    <tr>\n",
              "      <th>0</th>\n",
              "      <td>Imperador dos Camarões</td>\n",
              "      <td>http://www.imperadordoscamaroes.com.br</td>\n",
              "      <td>contato@imperadordoscamaroes.com.br</td>\n",
              "      <td>+55 82 3231-4134</td>\n",
              "      <td>4.5</td>\n",
              "      <td>Avenida Doutor Antônio Gouveia</td>\n",
              "      <td></td>\n",
              "      <td>Alagoas</td>\n",
              "      <td>57030-170</td>\n",
              "      <td>Brasil</td>\n",
              "    </tr>\n",
              "    <tr>\n",
              "      <th>1</th>\n",
              "      <td>Guacamole Natal</td>\n",
              "      <td>http://www.facebook.com/GuacamoleNatal</td>\n",
              "      <td>guacamolenatal@gmail.com</td>\n",
              "      <td>+55 84 3219-3646</td>\n",
              "      <td>4.5</td>\n",
              "      <td>Avenida Praia de Ponta Negra 9068 Ponta Negra</td>\n",
              "      <td></td>\n",
              "      <td>Rio Grande do Norte</td>\n",
              "      <td>59092-100</td>\n",
              "      <td>Brasil</td>\n",
              "    </tr>\n",
              "    <tr>\n",
              "      <th>2</th>\n",
              "      <td>Chica Pitanga</td>\n",
              "      <td>http://www.chicapitanga.com.br</td>\n",
              "      <td>chicapitanga@chicapitanga.com.br</td>\n",
              "      <td>+55 81 3334-8260</td>\n",
              "      <td>4.5</td>\n",
              "      <td>Rua Petrolina 19</td>\n",
              "      <td>Recife</td>\n",
              "      <td>Pernambuco</td>\n",
              "      <td>51021-250</td>\n",
              "      <td>Brasil</td>\n",
              "    </tr>\n",
              "    <tr>\n",
              "      <th>3</th>\n",
              "      <td>Sorvetes Vi Sabor</td>\n",
              "      <td>None</td>\n",
              "      <td>None</td>\n",
              "      <td>None</td>\n",
              "      <td>4.0</td>\n",
              "      <td>Avenida Francisco Porto 59 Grageru</td>\n",
              "      <td>Aracaju</td>\n",
              "      <td>Sergipe</td>\n",
              "      <td></td>\n",
              "      <td>Brasil</td>\n",
              "    </tr>\n",
              "    <tr>\n",
              "      <th>4</th>\n",
              "      <td>Z Deli Sandwich Shop</td>\n",
              "      <td>http://www.facebook.com/zdelisandwichshop/</td>\n",
              "      <td>None</td>\n",
              "      <td>551130830021</td>\n",
              "      <td>4.5</td>\n",
              "      <td>Rua Haddock Lobo 1386 Jardins</td>\n",
              "      <td>São Paulo</td>\n",
              "      <td>Estado de São Paulo</td>\n",
              "      <td>01414-002</td>\n",
              "      <td>Brasil</td>\n",
              "    </tr>\n",
              "  </tbody>\n",
              "</table>\n",
              "</div>"
            ],
            "text/plain": [
              "                     name  ... address.country\n",
              "0  Imperador dos Camarões  ...          Brasil\n",
              "1         Guacamole Natal  ...          Brasil\n",
              "2           Chica Pitanga  ...          Brasil\n",
              "3       Sorvetes Vi Sabor  ...          Brasil\n",
              "4    Z Deli Sandwich Shop  ...          Brasil\n",
              "\n",
              "[5 rows x 10 columns]"
            ]
          },
          "metadata": {
            "tags": []
          },
          "execution_count": 255
        }
      ]
    },
    {
      "cell_type": "markdown",
      "metadata": {
        "id": "hIT4dOvpLQIz"
      },
      "source": [
        "Processamento dos dados contidos no campo **itemReviewed**"
      ]
    },
    {
      "cell_type": "code",
      "metadata": {
        "colab": {
          "base_uri": "https://localhost:8080/"
        },
        "id": "9h_7bdG2KGWx",
        "outputId": "09484e9e-2ec1-4c8c-f61a-a8fc1b521c8d"
      },
      "source": [
        "df[\"hasEmail\"] = item_reviewed[\"email\"].apply(lambda value: \n",
        "                                                      \"True\" if value != \"None\" else \"False\")\n",
        "\n",
        "df[\"hasEmail\"].fillna(\"no\")"
      ],
      "execution_count": 256,
      "outputs": [
        {
          "output_type": "execute_result",
          "data": {
            "text/plain": [
              "0         True\n",
              "1         True\n",
              "2         True\n",
              "3        False\n",
              "4        False\n",
              "         ...  \n",
              "99995     True\n",
              "99996    False\n",
              "99997     True\n",
              "99998     True\n",
              "99999       no\n",
              "Name: hasEmail, Length: 99999, dtype: object"
            ]
          },
          "metadata": {
            "tags": []
          },
          "execution_count": 256
        }
      ]
    },
    {
      "cell_type": "code",
      "metadata": {
        "colab": {
          "base_uri": "https://localhost:8080/"
        },
        "id": "BKmgGbFvO-8J",
        "outputId": "74ca6ee9-948c-4dcf-c808-be049ab43320"
      },
      "source": [
        "df[\"hasPhone\"] = item_reviewed[\"phoneNumber\"].apply(lambda value: \n",
        "                                                      \"True\" if value != \"None\" else \"False\")\n",
        "\n",
        "df[\"hasPhone\"].fillna(\"no\")"
      ],
      "execution_count": 257,
      "outputs": [
        {
          "output_type": "execute_result",
          "data": {
            "text/plain": [
              "0         True\n",
              "1         True\n",
              "2         True\n",
              "3        False\n",
              "4         True\n",
              "         ...  \n",
              "99995     True\n",
              "99996     True\n",
              "99997     True\n",
              "99998     True\n",
              "99999       no\n",
              "Name: hasPhone, Length: 99999, dtype: object"
            ]
          },
          "metadata": {
            "tags": []
          },
          "execution_count": 257
        }
      ]
    },
    {
      "cell_type": "markdown",
      "metadata": {
        "id": "TNb5s5BMFrE9"
      },
      "source": [
        "## Geração de dados Geolocalizados\n",
        "\n",
        "Nesta etapa do processamento, foi realizada a manipulação dos dados para a geração de valores de **longitude** e **latitude**. Utilizou-se os campos \"address.streetAddress\", \"address.addressLocality\", \"address.addressRegion\", \"address.postalCode\" para essa ação. "
      ]
    },
    {
      "cell_type": "code",
      "metadata": {
        "colab": {
          "base_uri": "https://localhost:8080/",
          "height": 406
        },
        "id": "vtrwfk_iUn2J",
        "outputId": "d7c5c56e-cd45-4edc-a7e2-c2cbbfd5c907"
      },
      "source": [
        "columns = [\"name\", \"address.streetAddress\", \"address.addressLocality\", \"address.addressRegion\", \"address.postalCode\"]\n",
        "\n",
        "address_group = item_reviewed.groupby(columns).size().reset_index(name=\"count\")\n",
        "address_group"
      ],
      "execution_count": null,
      "outputs": [
        {
          "output_type": "execute_result",
          "data": {
            "text/html": [
              "<div>\n",
              "<style scoped>\n",
              "    .dataframe tbody tr th:only-of-type {\n",
              "        vertical-align: middle;\n",
              "    }\n",
              "\n",
              "    .dataframe tbody tr th {\n",
              "        vertical-align: top;\n",
              "    }\n",
              "\n",
              "    .dataframe thead th {\n",
              "        text-align: right;\n",
              "    }\n",
              "</style>\n",
              "<table border=\"1\" class=\"dataframe\">\n",
              "  <thead>\n",
              "    <tr style=\"text-align: right;\">\n",
              "      <th></th>\n",
              "      <th>name</th>\n",
              "      <th>address.streetAddress</th>\n",
              "      <th>address.addressLocality</th>\n",
              "      <th>address.addressRegion</th>\n",
              "      <th>address.postalCode</th>\n",
              "      <th>count</th>\n",
              "    </tr>\n",
              "  </thead>\n",
              "  <tbody>\n",
              "    <tr>\n",
              "      <th>0</th>\n",
              "      <td>&amp;EAT Restaurante</td>\n",
              "      <td>Rua Clodomiro Amazonas 77</td>\n",
              "      <td>São Paulo</td>\n",
              "      <td>Estado de São Paulo</td>\n",
              "      <td>04537-010</td>\n",
              "      <td>2</td>\n",
              "    </tr>\n",
              "    <tr>\n",
              "      <th>1</th>\n",
              "      <td>''Pino Spazio''</td>\n",
              "      <td>Rua Galeno de Revoredo 22 Itaim Bibi</td>\n",
              "      <td>São Paulo</td>\n",
              "      <td>Estado de São Paulo</td>\n",
              "      <td>04531-030</td>\n",
              "      <td>1</td>\n",
              "    </tr>\n",
              "    <tr>\n",
              "      <th>2</th>\n",
              "      <td>+ Sabor</td>\n",
              "      <td>Rua Artur Bernardes 1159 Lourival Parente</td>\n",
              "      <td>Teresina</td>\n",
              "      <td>Piauí</td>\n",
              "      <td>64022-108</td>\n",
              "      <td>1</td>\n",
              "    </tr>\n",
              "    <tr>\n",
              "      <th>3</th>\n",
              "      <td>00</td>\n",
              "      <td>Avenida Padre Leonel Franca 240 Gávea</td>\n",
              "      <td>Rio de Janeiro</td>\n",
              "      <td>Estado do Rio de Janeiro</td>\n",
              "      <td>22451-000</td>\n",
              "      <td>3</td>\n",
              "    </tr>\n",
              "    <tr>\n",
              "      <th>4</th>\n",
              "      <td>011 Gastronomia</td>\n",
              "      <td>Rua Artur de Azevedo 613</td>\n",
              "      <td>São Paulo</td>\n",
              "      <td>Estado de São Paulo</td>\n",
              "      <td>05404-011</td>\n",
              "      <td>12</td>\n",
              "    </tr>\n",
              "    <tr>\n",
              "      <th>...</th>\n",
              "      <td>...</td>\n",
              "      <td>...</td>\n",
              "      <td>...</td>\n",
              "      <td>...</td>\n",
              "      <td>...</td>\n",
              "      <td>...</td>\n",
              "    </tr>\n",
              "    <tr>\n",
              "      <th>14976</th>\n",
              "      <td>Ópera Arte</td>\n",
              "      <td>Rua João Gava 920 Subsolo da Ópera de Arame</td>\n",
              "      <td>Curitiba</td>\n",
              "      <td>Paraná</td>\n",
              "      <td>82130-010</td>\n",
              "      <td>7</td>\n",
              "    </tr>\n",
              "    <tr>\n",
              "      <th>14977</th>\n",
              "      <td>Ô Bar</td>\n",
              "      <td>Avenida Praia de Ponta Negra 9184 Curva do Vento</td>\n",
              "      <td></td>\n",
              "      <td>Rio Grande do Norte</td>\n",
              "      <td>59092-100</td>\n",
              "      <td>1</td>\n",
              "    </tr>\n",
              "    <tr>\n",
              "      <th>14978</th>\n",
              "      <td>Ô Restaurante</td>\n",
              "      <td>Rua Harmonia 321 Vila Madalena</td>\n",
              "      <td>São Paulo</td>\n",
              "      <td>Estado de São Paulo</td>\n",
              "      <td>05435-000</td>\n",
              "      <td>2</td>\n",
              "    </tr>\n",
              "    <tr>\n",
              "      <th>14979</th>\n",
              "      <td>Ô Xiss</td>\n",
              "      <td>Rua Padre Chagas 306</td>\n",
              "      <td>Porto Alegre</td>\n",
              "      <td>Rio Grande do Sul</td>\n",
              "      <td>90570-080</td>\n",
              "      <td>5</td>\n",
              "    </tr>\n",
              "    <tr>\n",
              "      <th>14980</th>\n",
              "      <td>Ôxe Comidas Nordestinas</td>\n",
              "      <td>Avenida Doutor Antonio Gomes de Barros 124</td>\n",
              "      <td></td>\n",
              "      <td>Alagoas</td>\n",
              "      <td>57036-000</td>\n",
              "      <td>6</td>\n",
              "    </tr>\n",
              "  </tbody>\n",
              "</table>\n",
              "<p>14981 rows × 6 columns</p>\n",
              "</div>"
            ],
            "text/plain": [
              "                          name  ... count\n",
              "0             &EAT Restaurante  ...     2\n",
              "1              ''Pino Spazio''  ...     1\n",
              "2                      + Sabor  ...     1\n",
              "3                           00  ...     3\n",
              "4              011 Gastronomia  ...    12\n",
              "...                        ...  ...   ...\n",
              "14976               Ópera Arte  ...     7\n",
              "14977                    Ô Bar  ...     1\n",
              "14978            Ô Restaurante  ...     2\n",
              "14979                   Ô Xiss  ...     5\n",
              "14980  Ôxe Comidas Nordestinas  ...     6\n",
              "\n",
              "[14981 rows x 6 columns]"
            ]
          },
          "metadata": {
            "tags": []
          },
          "execution_count": 48
        }
      ]
    },
    {
      "cell_type": "markdown",
      "metadata": {
        "id": "yhnngnARcISj"
      },
      "source": [
        "Foi executado o script [**geopandas_dataset.py**](https://github.com/kidkmon/Sentiment-Analysis-TripAdvisor/blob/main/geopandas_dataset.py) que utilizou a API do Google Maps para armazenar as coordenadas e endereço correto dos 14.981 restaurantes registrados na base de dados.\n",
        "\n",
        "Estas informações foram armazenadas em um arquivo address.txt."
      ]
    },
    {
      "cell_type": "code",
      "metadata": {
        "id": "91TYxvWqcFyV"
      },
      "source": [
        "import geopandas\n",
        "\n",
        "df_geo = pd.read_csv(\"data/address.txt\", names=[\"city\", \"state\", \"latitude\", \"longitude\"])\n",
        "df_geo.head()"
      ],
      "execution_count": null,
      "outputs": []
    },
    {
      "cell_type": "markdown",
      "metadata": {
        "id": "C0wadaaVncZV"
      },
      "source": [
        "Adicionando colunas criadas a partir da API do Google Maps"
      ]
    },
    {
      "cell_type": "code",
      "metadata": {
        "id": "9dELXv1Cll_P"
      },
      "source": [
        "\n",
        "address_group[\"city\"] = df_geo[\"city\"]\n",
        "address_group[\"state\"] = df_geo[\"state\"]\n",
        "address_group[\"latitude\"] = df_geo[\"latitude\"]\n",
        "address_group[\"longitude\"] = df_geo[\"longitude\"]"
      ],
      "execution_count": null,
      "outputs": []
    },
    {
      "cell_type": "markdown",
      "metadata": {
        "id": "kvQ2Csx-nU8S"
      },
      "source": [
        "Removendo colunas que não serão utilizadas"
      ]
    },
    {
      "cell_type": "code",
      "metadata": {
        "id": "x0tvQbVynRWG"
      },
      "source": [
        "columns = [\"address.streetAddress\", \"address.addressLocality\", \"address.addressRegion\", \"address.postalCode\"]\n",
        "address_group.drop(columns=columns, inplace=True)\n",
        "\n",
        "address_group.head()"
      ],
      "execution_count": null,
      "outputs": []
    },
    {
      "cell_type": "markdown",
      "metadata": {
        "id": "wekyXp3nF8wd"
      },
      "source": [
        "##Geração de dados para análise temporal\n",
        "\n",
        "Gerando campos de ano, mês e dia a partir do campo publicationDate"
      ]
    },
    {
      "cell_type": "code",
      "metadata": {
        "id": "aPPxaOFe56Gk"
      },
      "source": [
        "week_day = ('Segunda-feira', 'Terça-feira', 'Quarta-feira', 'Quinta-feira', 'Sexta-feira', 'Sábado', 'Domingo')\n",
        "mes_ext = {'01': 'Jan', '02' : 'Fev', '03': 'Mar', '04': 'Abr', '05': 'Mai', '06': 'Jun', '07': 'Jul', '08': 'Ago', '09': 'Set', '10': 'Out', '11': 'Nov', '12': 'Dez'}\n",
        "\n",
        "df[\"publication_year\"] = [x[-4:] for x in df['publicationDate']]\n",
        "df[\"publication_month\"] = [x[3:5] for x in df['publicationDate']]\n",
        "df[\"publication_month_ext\"] = [mes_ext[x[3:5]] for x in df['publicationDate']]\n",
        "df[\"publication_day\"] = [x[:2] for x in df['publicationDate']]\n",
        "df[\"publication_week\"] = [week_day[datetime.strptime(x, \"%d/%m/%Y\").weekday()] for x in df['publicationDate']]\n",
        "\n",
        "\n",
        "\n"
      ],
      "execution_count": 267,
      "outputs": []
    },
    {
      "cell_type": "markdown",
      "metadata": {
        "id": "o-Uhyrumbz_R"
      },
      "source": [
        "## Conjunto de dados após o processamento\n",
        "\n"
      ]
    },
    {
      "cell_type": "code",
      "metadata": {
        "id": "FSUt5Id355zE",
        "colab": {
          "base_uri": "https://localhost:8080/",
          "height": 301
        },
        "outputId": "4147a848-99bd-49c7-a471-00287a6d4b29"
      },
      "source": [
        "df.head()"
      ],
      "execution_count": 266,
      "outputs": [
        {
          "output_type": "execute_result",
          "data": {
            "text/html": [
              "<div>\n",
              "<style scoped>\n",
              "    .dataframe tbody tr th:only-of-type {\n",
              "        vertical-align: middle;\n",
              "    }\n",
              "\n",
              "    .dataframe tbody tr th {\n",
              "        vertical-align: top;\n",
              "    }\n",
              "\n",
              "    .dataframe thead th {\n",
              "        text-align: right;\n",
              "    }\n",
              "</style>\n",
              "<table border=\"1\" class=\"dataframe\">\n",
              "  <thead>\n",
              "    <tr style=\"text-align: right;\">\n",
              "      <th></th>\n",
              "      <th>title</th>\n",
              "      <th>reviewBody</th>\n",
              "      <th>language</th>\n",
              "      <th>mobileDevice</th>\n",
              "      <th>publicationDate</th>\n",
              "      <th>ratingValue</th>\n",
              "      <th>itemReviewed</th>\n",
              "      <th>userCity</th>\n",
              "      <th>userState</th>\n",
              "      <th>hasEmail</th>\n",
              "      <th>hasPhone</th>\n",
              "      <th>publication_year</th>\n",
              "      <th>publication_month</th>\n",
              "      <th>publication_day</th>\n",
              "      <th>publication_week</th>\n",
              "      <th>publication_month_ext</th>\n",
              "    </tr>\n",
              "  </thead>\n",
              "  <tbody>\n",
              "    <tr>\n",
              "      <th>0</th>\n",
              "      <td>Jantar</td>\n",
              "      <td>Comida maravilhosa, lugar do verdadeiro chicle...</td>\n",
              "      <td>pt</td>\n",
              "      <td>True</td>\n",
              "      <td>26/07/2019</td>\n",
              "      <td>5</td>\n",
              "      <td>{'name': 'Imperador dos Camarões', 'address': ...</td>\n",
              "      <td>São Carlos</td>\n",
              "      <td>SP</td>\n",
              "      <td>True</td>\n",
              "      <td>True</td>\n",
              "      <td>2019</td>\n",
              "      <td>07</td>\n",
              "      <td>26</td>\n",
              "      <td>Sexta-feira</td>\n",
              "      <td>Jul</td>\n",
              "    </tr>\n",
              "    <tr>\n",
              "      <th>1</th>\n",
              "      <td>Uma boa experiência.</td>\n",
              "      <td>Comida boa, drinks legais e um ambiente bem ac...</td>\n",
              "      <td>pt</td>\n",
              "      <td>True</td>\n",
              "      <td>16/09/2014</td>\n",
              "      <td>4</td>\n",
              "      <td>{'name': 'Guacamole Natal', 'address': {'stree...</td>\n",
              "      <td>Manaus</td>\n",
              "      <td>AM</td>\n",
              "      <td>True</td>\n",
              "      <td>True</td>\n",
              "      <td>2014</td>\n",
              "      <td>09</td>\n",
              "      <td>16</td>\n",
              "      <td>Terça-feira</td>\n",
              "      <td>Set</td>\n",
              "    </tr>\n",
              "    <tr>\n",
              "      <th>2</th>\n",
              "      <td>Otimo self service</td>\n",
              "      <td>Excelente pra ir com a família! Ótima Comida, ...</td>\n",
              "      <td>pt</td>\n",
              "      <td>True</td>\n",
              "      <td>04/06/2019</td>\n",
              "      <td>4</td>\n",
              "      <td>{'name': 'Chica Pitanga', 'address': {'streetA...</td>\n",
              "      <td>Goiânia</td>\n",
              "      <td>GO</td>\n",
              "      <td>True</td>\n",
              "      <td>True</td>\n",
              "      <td>2019</td>\n",
              "      <td>06</td>\n",
              "      <td>04</td>\n",
              "      <td>Terça-feira</td>\n",
              "      <td>Jun</td>\n",
              "    </tr>\n",
              "    <tr>\n",
              "      <th>3</th>\n",
              "      <td>O sorvete mais tradicional do estado</td>\n",
              "      <td>Tomo sorvete na Visabor faz mais de 30 anos. S...</td>\n",
              "      <td>pt</td>\n",
              "      <td>False</td>\n",
              "      <td>15/03/2016</td>\n",
              "      <td>5</td>\n",
              "      <td>{'name': 'Sorvetes Vi Sabor', 'address': {'str...</td>\n",
              "      <td>Aracaju</td>\n",
              "      <td>SE</td>\n",
              "      <td>False</td>\n",
              "      <td>False</td>\n",
              "      <td>2016</td>\n",
              "      <td>03</td>\n",
              "      <td>15</td>\n",
              "      <td>Terça-feira</td>\n",
              "      <td>Mar</td>\n",
              "    </tr>\n",
              "    <tr>\n",
              "      <th>4</th>\n",
              "      <td>Melhor hamburger!</td>\n",
              "      <td>O melhor hamburger que já comi! Excelente aten...</td>\n",
              "      <td>pt</td>\n",
              "      <td>False</td>\n",
              "      <td>28/04/2015</td>\n",
              "      <td>5</td>\n",
              "      <td>{'name': 'Z Deli Sandwich Shop', 'address': {'...</td>\n",
              "      <td>Rio de Janeiro</td>\n",
              "      <td>RJ</td>\n",
              "      <td>False</td>\n",
              "      <td>True</td>\n",
              "      <td>2015</td>\n",
              "      <td>04</td>\n",
              "      <td>28</td>\n",
              "      <td>Terça-feira</td>\n",
              "      <td>Abr</td>\n",
              "    </tr>\n",
              "  </tbody>\n",
              "</table>\n",
              "</div>"
            ],
            "text/plain": [
              "                                  title  ... publication_month_ext\n",
              "0                               Jantar   ...                   Jul\n",
              "1                  Uma boa experiência.  ...                   Set\n",
              "2                    Otimo self service  ...                   Jun\n",
              "3  O sorvete mais tradicional do estado  ...                   Mar\n",
              "4                     Melhor hamburger!  ...                   Abr\n",
              "\n",
              "[5 rows x 16 columns]"
            ]
          },
          "metadata": {
            "tags": []
          },
          "execution_count": 266
        }
      ]
    },
    {
      "cell_type": "markdown",
      "metadata": {
        "id": "CuHcyCsUkvS_"
      },
      "source": [
        "# Visão Geral dos Dados"
      ]
    },
    {
      "cell_type": "markdown",
      "metadata": {
        "id": "-4GxUU8AEPNx"
      },
      "source": [
        "## Análise de Distribuição das Notas de Avaliações"
      ]
    },
    {
      "cell_type": "code",
      "metadata": {
        "colab": {
          "base_uri": "https://localhost:8080/",
          "height": 406
        },
        "id": "Cn-WWv80tr0M",
        "outputId": "351576a6-5170-45a2-e198-c6eb40bad604"
      },
      "source": [
        "labels = df['ratingValue'].unique()\n",
        "rating_percent = df['ratingValue'].value_counts(normalize=True) * 100\n",
        "explode = (0.05, 0, 0, 0, 0)\n",
        "\n",
        "fig, ax = plt.subplots(figsize=(8,6))\n",
        "ax.pie(rating_percent, explode=explode, labels=labels, autopct='%1.1f%%',\n",
        "        shadow=True)\n",
        "ax.axis('equal')\n",
        "\n",
        "plt.title('Distribuição das notas de avaliações', pad=40)\n",
        "ax.legend(labels, loc='lower right', title='Notas')\n",
        "\n",
        "plt.show()"
      ],
      "execution_count": 268,
      "outputs": [
        {
          "output_type": "display_data",
          "data": {
            "image/png": "[encoded data removed]",
            "text/plain": [
              "<Figure size 576x432 with 1 Axes>"
            ]
          },
          "metadata": {
            "tags": []
          }
        }
      ]
    },
    {
      "cell_type": "markdown",
      "metadata": {
        "id": "-sweQWEc-E0C"
      },
      "source": [
        "A avaliação com nota 5 possui a maior frequência dentro do conjunto de dados, enquanto a com nota 2 são as menos frequentes. Dado o gráfico, é possível afirmar que os dados estão desbalanceados pois 51.2% deste conjunto de dados pertencem à avaliação com nota 5, enquanto as outras quatros notas juntas representam o restante dos dados.\n",
        "\n",
        "\n",
        "\n"
      ]
    },
    {
      "cell_type": "markdown",
      "metadata": {
        "id": "RlxWXM4F-GpE"
      },
      "source": [
        "## Análise de Distribuição das Avaliações por Diferentes Dispositivos"
      ]
    },
    {
      "cell_type": "code",
      "metadata": {
        "colab": {
          "base_uri": "https://localhost:8080/",
          "height": 514
        },
        "id": "bcAy9_tF-Fyo",
        "outputId": "3e771700-7f66-497e-8065-fa3e0c07776b"
      },
      "source": [
        "def get_rating_value_devices():\n",
        "  devices = []\n",
        "  for i in range (1,6):\n",
        "    devices.append(df[df['ratingValue'] == str(i)]['mobileDevice'].value_counts(normalize=True, sort=False) * 100)\n",
        "  return devices\n",
        "\n",
        "devices = get_rating_value_devices() \n",
        "\n",
        "fig = plt.figure(figsize=(8,6))\n",
        "ax = fig.add_axes([0,0,1,1])\n",
        "\n",
        "X = np.arange(1,6)\n",
        "ax.bar(X, [device[0] for device in devices], color='c', width = 0.25)\n",
        "ax.bar(X+0.25, [device[1] for device in devices], color='y', width = 0.25)\n",
        "\n",
        "plt.xlabel('Devices')\n",
        "plt.ylabel('Percentage %')\n",
        "plt.title('Distribuição das avaliações por diferentes dispositivos')\n",
        "plt.legend(['Other devices', 'Mobile'])\n",
        "\n",
        "plt.show()"
      ],
      "execution_count": 269,
      "outputs": [
        {
          "output_type": "display_data",
          "data": {
            "image/png": "[encoded data removed]",
            "text/plain": [
              "<Figure size 576x432 with 1 Axes>"
            ]
          },
          "metadata": {
            "tags": [],
            "needs_background": "light"
          }
        }
      ]
    },
    {
      "cell_type": "markdown",
      "metadata": {
        "id": "vVNb8EuJ8LWW"
      },
      "source": [
        "Através do gráfico de barras acima, percebe-se que existe uma diferença de frequência entre dispositivos em relação as notas das avaliações. As notas de avaliações **1** e **2**, possuem as menores frequências de críticas realizadas em outros dispositivos e as maiores frequências realizadas em mobile, pode-se concluir que pessoas insatisfeitas com o restaurante, em sua maioria, possuem o interesse de realizar a crítica o quanto antes, dado isso a plataforma mais acessível seria a mobile."
      ]
    },
    {
      "cell_type": "markdown",
      "metadata": {
        "id": "Cg1gIVBliXwy"
      },
      "source": [
        "## Análise Temporal de Interação"
      ]
    },
    {
      "cell_type": "code",
      "metadata": {
        "id": "2Sbr8DBCqj5w",
        "colab": {
          "base_uri": "https://localhost:8080/",
          "height": 514
        },
        "outputId": "57482c56-ea95-445b-b33a-240256f7a94b"
      },
      "source": [
        "fig = plt.figure(figsize=(8,6))\n",
        "ax = fig.add_axes([0,0,1,1])\n",
        "df.groupby('publication_year')['reviewBody'].count().plot(kind='line', label ='Comentários' , color = 'b', ax=ax)\n",
        "plt.xlabel('Ano de Publicação')\n",
        "plt.legend(loc = 'upper left')\n",
        "plt.title('Análise Anual')\n",
        "plt.show()"
      ],
      "execution_count": 270,
      "outputs": [
        {
          "output_type": "display_data",
          "data": {
            "image/png": "[encoded data removed]",
            "text/plain": [
              "<Figure size 576x432 with 1 Axes>"
            ]
          },
          "metadata": {
            "tags": [],
            "needs_background": "light"
          }
        }
      ]
    },
    {
      "cell_type": "markdown",
      "metadata": {
        "id": "ef8AyBG-KZKU"
      },
      "source": [
        "O resultado desta análise mostra que o dataset contém amostras de dados do ano de 2009 à 2020, onde o maior número de amostras se concentra em 2016, havendo um crescimento exponancial da iteração de clientes a partir da metade de 2012, e que os dados de 2009 à 2011 são nulos."
      ]
    },
    {
      "cell_type": "markdown",
      "metadata": {
        "id": "Nlj7hVIlihjq"
      },
      "source": [
        "## Análise de Interação por Localização"
      ]
    },
    {
      "cell_type": "code",
      "metadata": {
        "colab": {
          "base_uri": "https://localhost:8080/",
          "height": 600
        },
        "id": "_v3nDdd1jmzR",
        "outputId": "9ca97935-2907-43cf-e7f1-c078c03a15bf"
      },
      "source": [
        "#Gerando dados para análise - groupby\n",
        "res = df[['userState','reviewBody']].groupby('userState').count()\n",
        "a = res.sort_values(['reviewBody'], ascending=False)\n",
        "a.rename({\"reviewBody\": \"Comentários\"}, axis=1, inplace=True)\n",
        "\n",
        "#Construção do Gráfico\n",
        "fig = plt.figure(figsize=(8,6))\n",
        "ax = fig.add_axes([0,0,1,1])\n",
        "a[0:29].plot(kind='bar', color ='orange', orientation='horizontal', align='edge',width = 0.9, ax=ax)\n",
        "plt.xlabel('Localização')\n",
        "plt.legend(loc = 'upper right')\n",
        "plt.title('Análise de Interação por Localização')\n",
        "plt.show()\n"
      ],
      "execution_count": 271,
      "outputs": [
        {
          "output_type": "display_data",
          "data": {
            "image/png": "[encoded data removed]",
            "text/plain": [
              "<Figure size 576x432 with 1 Axes>"
            ]
          },
          "metadata": {
            "tags": [],
            "needs_background": "light"
          }
        }
      ]
    },
    {
      "cell_type": "markdown",
      "metadata": {
        "id": "qF3kOZhE7Zv3"
      },
      "source": [
        "Através da análise dessa plotagem é visível que os brasileiros tem maior representatividade na interação, evidenciando que a maior parte dos comentários são nacionais, e poucos são estrangeiros. \n",
        "Dos 30 estados/países com maior representatividade, os estados nacionais aparecem com um índice de 96,6% e os estrangeiros com 3,3%.\n",
        "\n"
      ]
    },
    {
      "cell_type": "markdown",
      "metadata": {
        "id": "tefnqbyddHJ9"
      },
      "source": [
        "## Média de Sentenças e Palavras por Comentários"
      ]
    },
    {
      "cell_type": "code",
      "metadata": {
        "id": "UPCXgEwiWq99"
      },
      "source": [
        "def mean_sentences_words():\n",
        "  \n",
        "  df['reviewBody_TB'] = [TextBlob(comment) for comment in df['reviewBody']]\n",
        "\n",
        "  mean_sentences = np.mean([len(comment.sentences) for comment in df['reviewBody_TB']])\n",
        "  mean_words = np.mean([len(comment.word_counts) for comment in df['reviewBody_TB']])\n",
        "\n",
        "  return [mean_sentences, mean_words]"
      ],
      "execution_count": 272,
      "outputs": []
    },
    {
      "cell_type": "code",
      "metadata": {
        "id": "aO6lZ4-Zy7P2",
        "colab": {
          "base_uri": "https://localhost:8080/"
        },
        "outputId": "6f745bb1-cb13-492e-826f-3632d8278f48"
      },
      "source": [
        "mean_reviews = mean_sentences_words()\n",
        "\n",
        "print(\"Média de sentenças por comentários: {:.2f}.\\n\" \\\n",
        "      \"Média de palavras por comentários: {:.2f}.\".format(mean_reviews[0],\n",
        "                                                     mean_reviews[1]))"
      ],
      "execution_count": 273,
      "outputs": [
        {
          "output_type": "stream",
          "text": [
            "Média de sentenças por comentários: 3.63.\n",
            "Média de palavras por comentários: 34.67.\n"
          ],
          "name": "stdout"
        }
      ]
    },
    {
      "cell_type": "markdown",
      "metadata": {
        "id": "y2sVy382IrMU"
      },
      "source": [
        "# Etapa I"
      ]
    },
    {
      "cell_type": "markdown",
      "metadata": {
        "id": "30gqwtLpItRE"
      },
      "source": [
        "## Processamento de dados traduzidos para inglês"
      ]
    },
    {
      "cell_type": "code",
      "metadata": {
        "id": "Chs2W2UaI0kI",
        "colab": {
          "base_uri": "https://localhost:8080/"
        },
        "outputId": "7fec5197-e75a-4d8b-f3f3-5c75b1e2d739"
      },
      "source": [
        "df_en_comments = pd.read_csv('drive/Shareddrives/TripAdvisor/dataset_us.csv', encoding='utf-8',sep=\"³\")"
      ],
      "execution_count": 306,
      "outputs": [
        {
          "output_type": "stream",
          "text": [
            "/usr/local/lib/python3.6/dist-packages/ipykernel_launcher.py:1: ParserWarning: Falling back to the 'python' engine because the separator encoded in utf-8 is > 1 char long, and the 'c' engine does not support such separators; you can avoid this warning by specifying engine='python'.\n",
            "  \"\"\"Entry point for launching an IPython kernel.\n"
          ],
          "name": "stderr"
        }
      ]
    },
    {
      "cell_type": "code",
      "metadata": {
        "id": "tbs6xOqnI2Um"
      },
      "source": [
        "df_en_comments['comments_TB'] = [TextBlob(comment) for comment in df_en_comments['comment_us']]"
      ],
      "execution_count": 308,
      "outputs": []
    },
    {
      "cell_type": "markdown",
      "metadata": {
        "id": "GwqMAmkOI4_M"
      },
      "source": [
        "## Cálculo da subjetividade e polaridade das sentenças"
      ]
    },
    {
      "cell_type": "code",
      "metadata": {
        "id": "MB3i4IX8I672"
      },
      "source": [
        "df_sentence_type = []\n",
        "df_sentence_polarity = []\n",
        "\n",
        "for comment in df_en_comments['comments_TB']:\n",
        "  df_sentence_type.append([sentence.sentiment.subjectivity for sentence in comment.sentences])\n",
        "  df_sentence_polarity.append([sentence.sentiment.polarity for sentence in comment.sentences])"
      ],
      "execution_count": 309,
      "outputs": []
    },
    {
      "cell_type": "code",
      "metadata": {
        "id": "BAnuXv3aI8lg"
      },
      "source": [
        "df_sentiment_analysis = pd.DataFrame()\n",
        "\n",
        "df_sentiment_analysis['type'] = [sentence_type for sentence in df_sentence_type\n",
        "                                 for sentence_type in sentence]\n",
        "df_sentiment_analysis['polarity'] = [sentence_polarity for sentence in df_sentence_polarity\n",
        "                                 for sentence_polarity in sentence]"
      ],
      "execution_count": 310,
      "outputs": []
    },
    {
      "cell_type": "markdown",
      "metadata": {
        "id": "QN4ep6T5JCZY"
      },
      "source": [
        "### Normalização dos cálculos de subjetividade e polaridade"
      ]
    },
    {
      "cell_type": "code",
      "metadata": {
        "id": "EhRaFlieI-hj"
      },
      "source": [
        "positive_min = 0.5\n",
        "negative_min = -0.15\n",
        "\n",
        "df_sentiment_analysis['type_normalized'] = [1 if sentence > positive_min\n",
        "                                                 else -1 if sentence < negative_min\n",
        "                                                 else 0 \n",
        "                                                 for sentence in df_sentiment_analysis['type']]\n",
        "\n",
        "df_sentiment_analysis['polarity_normalized'] = [1 if sentence > positive_min\n",
        "                                                 else -1 if sentence < negative_min\n",
        "                                                 else 0 \n",
        "                                                 for sentence in df_sentiment_analysis['polarity']]"
      ],
      "execution_count": 311,
      "outputs": []
    },
    {
      "cell_type": "markdown",
      "metadata": {
        "id": "FHpRVMyvJJXg"
      },
      "source": [
        "## Distribuição dos comentários do dataset"
      ]
    },
    {
      "cell_type": "code",
      "metadata": {
        "id": "OvkYEc4yJHH4",
        "colab": {
          "base_uri": "https://localhost:8080/",
          "height": 514
        },
        "outputId": "dbf1bc8e-fb57-4121-d5c3-0350c80f609d"
      },
      "source": [
        "fig = plt.figure(figsize=(6,6))\n",
        "ax = fig.add_axes([0,0,1,1])\n",
        "\n",
        "X = [\"Factuais\", \"Subjetivas\"]\n",
        "Y = df_sentiment_analysis['type_normalized'].value_counts(normalize=True, sort=False)\n",
        "ax.bar(X, Y, color=['tab:blue','tab:orange'], width = 0.15)\n",
        "\n",
        "plt.xlabel('Tipos de sentença')\n",
        "plt.ylabel('Percentage %')\n",
        "plt.title('Distribuição dos tipos de sentenças')\n",
        "\n",
        "plt.show()"
      ],
      "execution_count": 312,
      "outputs": [
        {
          "output_type": "display_data",
          "data": {
            "image/png": "[encoded data removed]",
            "text/plain": [
              "<Figure size 432x432 with 1 Axes>"
            ]
          },
          "metadata": {
            "tags": [],
            "needs_background": "light"
          }
        }
      ]
    },
    {
      "cell_type": "code",
      "metadata": {
        "id": "LTVEidqgJLvL",
        "colab": {
          "base_uri": "https://localhost:8080/",
          "height": 514
        },
        "outputId": "2aefe9f8-ad91-4518-d835-f118a395b437"
      },
      "source": [
        "fig = plt.figure(figsize=(6,6))\n",
        "ax = fig.add_axes([0,0,1,1])\n",
        "\n",
        "X = [\"Negativa\", \"Neutra\", \"Positiva\"]\n",
        "polarity = df_sentiment_analysis['polarity_normalized'].value_counts(normalize=True)\n",
        "Y = [polarity[-1], polarity[0], polarity[1]]\n",
        "ax.bar(X, Y, color=['r','g', 'b'], width = 0.15)\n",
        "\n",
        "plt.xlabel('Polaridade')\n",
        "plt.ylabel('Percentage %')\n",
        "plt.title('Distribuição de polaridade das sentenças')\n",
        "\n",
        "plt.show()"
      ],
      "execution_count": 313,
      "outputs": [
        {
          "output_type": "display_data",
          "data": {
            "image/png": "[encoded data removed]",
            "text/plain": [
              "<Figure size 432x432 with 1 Axes>"
            ]
          },
          "metadata": {
            "tags": [],
            "needs_background": "light"
          }
        }
      ]
    },
    {
      "cell_type": "markdown",
      "metadata": {
        "id": "4IM0AJ0xjGIR"
      },
      "source": [
        "#Etapa II"
      ]
    },
    {
      "cell_type": "markdown",
      "metadata": {
        "id": "7c8akR3sjMHl"
      },
      "source": [
        "***Análise do resultado do cálculo de subjetividade e polaridade das 200 sentenças utilizando o pacote TextBlob para tradução***"
      ]
    },
    {
      "cell_type": "markdown",
      "metadata": {
        "id": "hDJ-xplNZ2OY"
      },
      "source": [
        "## Selecionar 200 senteças aleatórias da base de dados"
      ]
    },
    {
      "cell_type": "code",
      "metadata": {
        "id": "CiUoD9dOig8V"
      },
      "source": [
        "def generate_random_sentences_list():\n",
        "  rand_sentences = []\n",
        "  rand_index = np.random.randint(0, df['reviewBody_TB'].size)\n",
        "  i = 0\n",
        "\n",
        "  while i < 200:\n",
        "    sentences = df['reviewBody_TB'][rand_index].sentences\n",
        "\n",
        "    for sentence in sentences:\n",
        "      rand_sentences.append(str(sentence))\n",
        "    \n",
        "    rand_index = np.random.randint(0, df['reviewBody_TB'].size)\n",
        "    i += len(sentences)\n",
        "\n",
        "  return rand_sentences"
      ],
      "execution_count": 333,
      "outputs": []
    },
    {
      "cell_type": "code",
      "metadata": {
        "id": "I1Vqpo7TlHxL"
      },
      "source": [
        "rand_sentences = generate_random_sentences_list()\n",
        "\n",
        "df_sentences = pd.DataFrame({'Sentences': rand_sentences,\n",
        "                             'Type': [None] * len(rand_sentences),\n",
        "                             'Polarity': [None] * len(rand_sentences)})\n",
        "\n",
        "file_path = 'drive/Shareddrives/TripAdvisor/random_sentences_to_evaluate.csv'\n",
        "df_sentences.to_csv(file_path, index=False)"
      ],
      "execution_count": 334,
      "outputs": []
    },
    {
      "cell_type": "markdown",
      "metadata": {
        "id": "IHLIzsb4aEK9"
      },
      "source": [
        "## Análise de sentimentos das sentenças aleatórias"
      ]
    },
    {
      "cell_type": "code",
      "metadata": {
        "id": "DcdbN1T8fhTX",
        "colab": {
          "base_uri": "https://localhost:8080/",
          "height": 197
        },
        "outputId": "f8cbe782-7052-4ab8-880b-130aac7348c6"
      },
      "source": [
        "file_path = \"drive/Shareddrives/TripAdvisor/random_sentences.csv\"\n",
        "df_random_sentences = pd.read_csv(file_path)\n",
        "df_random_sentences.head()"
      ],
      "execution_count": 335,
      "outputs": [
        {
          "output_type": "execute_result",
          "data": {
            "text/html": [
              "<div>\n",
              "<style scoped>\n",
              "    .dataframe tbody tr th:only-of-type {\n",
              "        vertical-align: middle;\n",
              "    }\n",
              "\n",
              "    .dataframe tbody tr th {\n",
              "        vertical-align: top;\n",
              "    }\n",
              "\n",
              "    .dataframe thead th {\n",
              "        text-align: right;\n",
              "    }\n",
              "</style>\n",
              "<table border=\"1\" class=\"dataframe\">\n",
              "  <thead>\n",
              "    <tr style=\"text-align: right;\">\n",
              "      <th></th>\n",
              "      <th>Sentences</th>\n",
              "      <th>Type</th>\n",
              "      <th>Polarity</th>\n",
              "    </tr>\n",
              "  </thead>\n",
              "  <tbody>\n",
              "    <tr>\n",
              "      <th>0</th>\n",
              "      <td>Uma ótima opção para quem leva uma vida saudáv...</td>\n",
              "      <td>1</td>\n",
              "      <td>1</td>\n",
              "    </tr>\n",
              "    <tr>\n",
              "      <th>1</th>\n",
              "      <td>Simplesmente amo!</td>\n",
              "      <td>1</td>\n",
              "      <td>1</td>\n",
              "    </tr>\n",
              "    <tr>\n",
              "      <th>2</th>\n",
              "      <td>Sempre peço o de carne com os diversos itens q...</td>\n",
              "      <td>0</td>\n",
              "      <td>0</td>\n",
              "    </tr>\n",
              "    <tr>\n",
              "      <th>3</th>\n",
              "      <td>Os sucos também são maravilhosos e adoçados co...</td>\n",
              "      <td>1</td>\n",
              "      <td>1</td>\n",
              "    </tr>\n",
              "    <tr>\n",
              "      <th>4</th>\n",
              "      <td>O pedido sai em menos de 5 minutos e o preço é...</td>\n",
              "      <td>1</td>\n",
              "      <td>0</td>\n",
              "    </tr>\n",
              "  </tbody>\n",
              "</table>\n",
              "</div>"
            ],
            "text/plain": [
              "                                           Sentences  Type  Polarity\n",
              "0  Uma ótima opção para quem leva uma vida saudáv...     1         1\n",
              "1                                  Simplesmente amo!     1         1\n",
              "2  Sempre peço o de carne com os diversos itens q...     0         0\n",
              "3  Os sucos também são maravilhosos e adoçados co...     1         1\n",
              "4  O pedido sai em menos de 5 minutos e o preço é...     1         0"
            ]
          },
          "metadata": {
            "tags": []
          },
          "execution_count": 335
        }
      ]
    },
    {
      "cell_type": "markdown",
      "metadata": {
        "id": "pLgMkxmlaYU1"
      },
      "source": [
        "### Tradução das sentenças para inglês"
      ]
    },
    {
      "cell_type": "code",
      "metadata": {
        "id": "30RWJIJ7hN5y"
      },
      "source": [
        "df_random_sentences['sentences_TB'] = [TextBlob(comment).translate(to='us') for comment in df_random_sentences['Sentences']]"
      ],
      "execution_count": null,
      "outputs": []
    },
    {
      "cell_type": "markdown",
      "metadata": {
        "id": "q7BXvnS5afBa"
      },
      "source": [
        "### Cálculo da polaridade"
      ]
    },
    {
      "cell_type": "code",
      "metadata": {
        "id": "DvMzLQ3gkl0X"
      },
      "source": [
        "df_random_sentences['polarity_TB'] = [sentence.sentiment.polarity for sentence in df_random_sentences['sentences_TB']]"
      ],
      "execution_count": 318,
      "outputs": []
    },
    {
      "cell_type": "markdown",
      "metadata": {
        "id": "tkhTb_8GasEb"
      },
      "source": [
        "### Normalização dos valores da coluna do cálculo da polaridade"
      ]
    },
    {
      "cell_type": "code",
      "metadata": {
        "id": "qBBQm1hCSAJE"
      },
      "source": [
        "positive_min = 0.5\n",
        "negative_min = -0.15\n",
        "\n",
        "df_random_sentences['polarity_TB_normalized'] = [1 if sentence > positive_min\n",
        "                                                 else -1 if sentence < negative_min\n",
        "                                                 else 0 \n",
        "                                                 for sentence in df_random_sentences['polarity_TB']]"
      ],
      "execution_count": 319,
      "outputs": []
    },
    {
      "cell_type": "markdown",
      "metadata": {
        "id": "Fcf8S-jsnGEn"
      },
      "source": [
        "### Métricas de desempenho"
      ]
    },
    {
      "cell_type": "code",
      "metadata": {
        "id": "FpaAP5IznF2r",
        "colab": {
          "base_uri": "https://localhost:8080/"
        },
        "outputId": "d20f158a-3e24-4ea6-b05d-e3011d7ded1d"
      },
      "source": [
        "target_names = ['Negativa', 'Neutra', 'Positiva']\n",
        "\n",
        "print(classification_report(df_random_sentences['Polarity'], \n",
        "                      df_random_sentences['polarity_TB_normalized'],\n",
        "                      target_names=target_names))"
      ],
      "execution_count": 320,
      "outputs": [
        {
          "output_type": "stream",
          "text": [
            "              precision    recall  f1-score   support\n",
            "\n",
            "    Negativa       0.79      0.42      0.55        26\n",
            "      Neutra       0.41      0.91      0.57        54\n",
            "    Positiva       0.91      0.51      0.65       120\n",
            "\n",
            "    accuracy                           0.60       200\n",
            "   macro avg       0.70      0.61      0.59       200\n",
            "weighted avg       0.76      0.60      0.62       200\n",
            "\n"
          ],
          "name": "stdout"
        }
      ]
    },
    {
      "cell_type": "markdown",
      "metadata": {
        "id": "2VHkxHNkTi3I"
      },
      "source": [
        "## Questão 1"
      ]
    },
    {
      "cell_type": "markdown",
      "metadata": {
        "id": "DxhuntlVT0s4"
      },
      "source": [
        "***Análise de Sentimentos - tradução com google trans***"
      ]
    },
    {
      "cell_type": "markdown",
      "metadata": {
        "id": "Kk5zplkKUJVm"
      },
      "source": [
        "###Processamento dos dados traduzidos"
      ]
    },
    {
      "cell_type": "code",
      "metadata": {
        "id": "MaBqv15xTuy8",
        "outputId": "831d7716-1fdf-434f-dde1-ad1fa5e1d7bf",
        "colab": {
          "base_uri": "https://localhost:8080/"
        }
      },
      "source": [
        "df_trans_comments = pd.read_csv('drive/Shareddrives/TripAdvisor/dataset_trans.csv', encoding='utf-8', sep='³' )"
      ],
      "execution_count": 337,
      "outputs": [
        {
          "output_type": "stream",
          "text": [
            "/usr/local/lib/python3.6/dist-packages/ipykernel_launcher.py:1: ParserWarning: Falling back to the 'python' engine because the separator encoded in utf-8 is > 1 char long, and the 'c' engine does not support such separators; you can avoid this warning by specifying engine='python'.\n",
            "  \"\"\"Entry point for launching an IPython kernel.\n"
          ],
          "name": "stderr"
        }
      ]
    },
    {
      "cell_type": "code",
      "metadata": {
        "id": "jv0QTz14Vrye"
      },
      "source": [
        "df_trans_comments['comments_TB'] = [TextBlob(comment) for comment in df_trans_comments['comment_us']]"
      ],
      "execution_count": 339,
      "outputs": []
    },
    {
      "cell_type": "markdown",
      "metadata": {
        "id": "yNhbdoenUdJ_"
      },
      "source": [
        "###Cálculo da subjetividade e polaridade"
      ]
    },
    {
      "cell_type": "code",
      "metadata": {
        "id": "nb3QKBBZU6AU"
      },
      "source": [
        "df_sentence_type2 = []\n",
        "df_sentence_polarity2 = []"
      ],
      "execution_count": 340,
      "outputs": []
    },
    {
      "cell_type": "code",
      "metadata": {
        "id": "EXVLk5XgUcZT"
      },
      "source": [
        "for comment in df_trans_comments['comments_TB']:\n",
        "  df_sentence_type2.append([sentence.sentiment.subjectivity for sentence in comment.sentences])\n",
        "  df_sentence_polarity2.append([sentence.sentiment.polarity for sentence in comment.sentences])"
      ],
      "execution_count": 341,
      "outputs": []
    },
    {
      "cell_type": "code",
      "metadata": {
        "id": "9v-z4cMpXjF_"
      },
      "source": [
        "df_trans_sentiment_analysis = pd.DataFrame()\n",
        "\n",
        "df_trans_sentiment_analysis['type'] = [sentence_type for sentence in df_sentence_type2\n",
        "                                 for sentence_type in sentence]\n",
        "df_trans_sentiment_analysis['polarity'] = [sentence_polarity for sentence in df_sentence_polarity2\n",
        "                                 for sentence_polarity in sentence]"
      ],
      "execution_count": 342,
      "outputs": []
    },
    {
      "cell_type": "markdown",
      "metadata": {
        "id": "iMHeBQQPYZOb"
      },
      "source": [
        "###Normalização dos cálculos de subjetividade e polaridade"
      ]
    },
    {
      "cell_type": "code",
      "metadata": {
        "id": "0wcR4nPlYgbC"
      },
      "source": [
        "positive_min = 0.5\n",
        "negative_min = -0.15\n",
        "\n",
        "df_trans_sentiment_analysis['type_normalized'] = [1 if sentence > positive_min\n",
        "                                                 else -1 if sentence < negative_min\n",
        "                                                 else 0 \n",
        "                                                 for sentence in df_trans_sentiment_analysis['type']]\n",
        "\n",
        "df_trans_sentiment_analysis['polarity_normalized'] = [1 if sentence > positive_min\n",
        "                                                 else -1 if sentence < negative_min\n",
        "                                                 else 0 \n",
        "                                                 for sentence in df_trans_sentiment_analysis['polarity']]"
      ],
      "execution_count": 343,
      "outputs": []
    },
    {
      "cell_type": "markdown",
      "metadata": {
        "id": "oW1Rx1CsZCTR"
      },
      "source": [
        "###Distribuição dos comentários do dataset"
      ]
    },
    {
      "cell_type": "code",
      "metadata": {
        "id": "PmJgk3opTucS",
        "outputId": "e4d1a5c8-cfe2-4097-8769-e51dd7760cff",
        "colab": {
          "base_uri": "https://localhost:8080/",
          "height": 514
        }
      },
      "source": [
        "fig = plt.figure(figsize=(6,6))\n",
        "ax = fig.add_axes([0,0,1,1])\n",
        "\n",
        "X = [\"Factuais\", \"Subjetivas\"]\n",
        "Y = df_trans_sentiment_analysis['type_normalized'].value_counts(normalize=True, sort=False)\n",
        "ax.bar(X, Y, color=['tab:blue','tab:orange'], width = 0.15)\n",
        "\n",
        "plt.xlabel('Tipos de sentença')\n",
        "plt.ylabel('Percentage %')\n",
        "plt.title('Distribuição dos tipos de sentenças')\n",
        "\n",
        "plt.show()"
      ],
      "execution_count": 344,
      "outputs": [
        {
          "output_type": "display_data",
          "data": {
            "image/png": "[encoded data removed]",
            "text/plain": [
              "<Figure size 432x432 with 1 Axes>"
            ]
          },
          "metadata": {
            "tags": [],
            "needs_background": "light"
          }
        }
      ]
    },
    {
      "cell_type": "code",
      "metadata": {
        "id": "Bhq-v6xqTtxg",
        "outputId": "966988ce-d936-428f-8890-e29c93fb34e8",
        "colab": {
          "base_uri": "https://localhost:8080/",
          "height": 514
        }
      },
      "source": [
        "fig = plt.figure(figsize=(6,6))\n",
        "ax = fig.add_axes([0,0,1,1])\n",
        "\n",
        "X = [\"Negativa\", \"Neutra\", \"Positiva\"]\n",
        "polarity = df_trans_sentiment_analysis['polarity_normalized'].value_counts(normalize=True)\n",
        "Y = [polarity[-1], polarity[0], polarity[1]]\n",
        "ax.bar(X, Y, color=['r','g', 'b'], width = 0.15)\n",
        "\n",
        "plt.xlabel('Polaridade')\n",
        "plt.ylabel('Percentage %')\n",
        "plt.title('Distribuição de polaridade das sentenças')\n",
        "\n",
        "plt.show()"
      ],
      "execution_count": 345,
      "outputs": [
        {
          "output_type": "display_data",
          "data": {
            "image/png": "[encoded data removed]",
            "text/plain": [
              "<Figure size 432x432 with 1 Axes>"
            ]
          },
          "metadata": {
            "tags": [],
            "needs_background": "light"
          }
        }
      ]
    },
    {
      "cell_type": "markdown",
      "metadata": {
        "id": "Uv6-u1Gulavc"
      },
      "source": [
        "#Visão Temporal"
      ]
    },
    {
      "cell_type": "markdown",
      "metadata": {
        "id": "p3yRampOBPSd"
      },
      "source": [
        "**Dia da Semana com maior ocorrência de postagens**"
      ]
    },
    {
      "cell_type": "code",
      "metadata": {
        "id": "v_wioD1XleKl",
        "colab": {
          "base_uri": "https://localhost:8080/",
          "height": 510
        },
        "outputId": "f3efbe22-c655-464e-dfe2-f4af23b08d6d"
      },
      "source": [
        "#Gerando dados para análise - groupby\n",
        "res = df[['publication_week','reviewBody']].groupby('publication_week').count()\n",
        "\n",
        "a = res.sort_values(['reviewBody'], ascending=False)\n",
        "a.rename({\"reviewBody\": \"Comentários\"}, axis=1, inplace=True)\n",
        "\n",
        "#Construção do Gráfico\n",
        "fig = plt.figure(figsize=(8,6))\n",
        "ax = fig.add_axes([0,0,1,1])\n",
        "a[0:29].plot(kind='line', color ='r', ax=ax)\n",
        "plt.xlabel('Dia')\n",
        "plt.legend(loc = 'upper right')\n",
        "plt.title('Dia da Semana com Maior Ocorrência de Postagens')\n",
        "plt.show()\n",
        "\n",
        "\n",
        "\n"
      ],
      "execution_count": null,
      "outputs": [
        {
          "output_type": "display_data",
          "data": {
            "image/png": "[encoded data removed]",
            "text/plain": [
              "<Figure size 576x432 with 1 Axes>"
            ]
          },
          "metadata": {
            "tags": [],
            "needs_background": "light"
          }
        }
      ]
    },
    {
      "cell_type": "markdown",
      "metadata": {
        "id": "QuCTSdFrTRcY"
      },
      "source": [
        "**Análise do ano com maior número de interação (2016)**"
      ]
    },
    {
      "cell_type": "code",
      "metadata": {
        "id": "40DwSO0zwuG0"
      },
      "source": [
        "df_date= df[df.publication_year == \"2016\"]\n",
        "df_date.head()"
      ],
      "execution_count": null,
      "outputs": []
    },
    {
      "cell_type": "code",
      "metadata": {
        "id": "Vs30fsw54eq7"
      },
      "source": [
        "\n",
        "#Gerando dados para análise - groupby\n",
        "res = df_date[['publication_month','reviewBody']].groupby('publication_month', sort=True).count()\n",
        "a = res.sort_values(['publication_month'], ascending=True)\n",
        "a.rename({\"reviewBody\": \"Comentários\"}, axis=1, inplace=True)\n"
      ],
      "execution_count": null,
      "outputs": []
    },
    {
      "cell_type": "code",
      "metadata": {
        "colab": {
          "base_uri": "https://localhost:8080/",
          "height": 518
        },
        "id": "f-X19iPQTRL5",
        "outputId": "5172b96a-254d-4f3f-8b7b-25fd07ecad26"
      },
      "source": [
        "\n",
        "#Construção do Gráfico\n",
        "fig = plt.figure(figsize=(8,6))\n",
        "ax = fig.add_axes([0,0,1,1])\n",
        "a[0:29].plot(kind='bar', color ='blue', orientation='horizontal', align='edge',width = 0.9, ax=ax)\n",
        "plt.xlabel('Mês')\n",
        "plt.ylabel('Qtd de Comentários')\n",
        "plt.legend(loc = 'upper right')\n",
        "plt.title('Análise mensal do ano de maior interação')\n",
        "plt.show()\n"
      ],
      "execution_count": 277,
      "outputs": [
        {
          "output_type": "display_data",
          "data": {
            "image/png": "[encoded data removed]",
            "text/plain": [
              "<Figure size 576x432 with 1 Axes>"
            ]
          },
          "metadata": {
            "tags": [],
            "needs_background": "light"
          }
        }
      ]
    },
    {
      "cell_type": "markdown",
      "metadata": {
        "id": "lL28FUXN38Q0"
      },
      "source": [
        "No ano de 2016, o mês de julho foi o mês que teve maior número de ocorrências com 2251 comentários"
      ]
    },
    {
      "cell_type": "markdown",
      "metadata": {
        "id": "w-YmH30y3Lcy"
      },
      "source": [
        "**Análise do mês com maior ocorrência de interação (2009 - 2020)**"
      ]
    },
    {
      "cell_type": "code",
      "metadata": {
        "id": "4xnc5EJB65Mi"
      },
      "source": [
        "#Gerando dados para análise - groupby\n",
        "res = df[['publication_month','reviewBody']].groupby('publication_month', sort=True).count()\n",
        "a = res.sort_values(['publication_month'], ascending=True)\n",
        "a.rename({\"reviewBody\": \"Comentários\"}, axis=1, inplace=True)\n"
      ],
      "execution_count": null,
      "outputs": []
    },
    {
      "cell_type": "code",
      "metadata": {
        "id": "Ei1ngX932Ti5",
        "colab": {
          "base_uri": "https://localhost:8080/",
          "height": 518
        },
        "outputId": "f6fac73f-cea8-4278-a951-e5ffb957c1ee"
      },
      "source": [
        "#Construção do Gráfico\n",
        "fig = plt.figure(figsize=(8,6))\n",
        "ax = fig.add_axes([0,0,1,1])\n",
        "a[0:29].plot(kind='bar', color= 'green', orientation='horizontal', align='edge',width = 0.9, ax=ax)\n",
        "plt.xlabel('Mês')\n",
        "plt.ylabel('Qtd de Comentários')\n",
        "plt.legend(loc = 'upper right')\n",
        "plt.title('Análise mensal do ano de maior interação')\n",
        "plt.show()"
      ],
      "execution_count": 279,
      "outputs": [
        {
          "output_type": "display_data",
          "data": {
            "image/png": "[encoded data removed]",
            "text/plain": [
              "<Figure size 576x432 with 1 Axes>"
            ]
          },
          "metadata": {
            "tags": [],
            "needs_background": "light"
          }
        }
      ]
    },
    {
      "cell_type": "markdown",
      "metadata": {
        "id": "oJ3StfXA3YnZ"
      },
      "source": [
        "Julho é o mês onde ocorre o maior número de ocorrências de todos os anos."
      ]
    },
    {
      "cell_type": "markdown",
      "metadata": {
        "id": "zYBTXzOBql2t"
      },
      "source": [
        "#Visão Geográfica"
      ]
    },
    {
      "cell_type": "code",
      "metadata": {
        "id": "V6OyiFEMql2t",
        "colab": {
          "base_uri": "https://localhost:8080/",
          "height": 204
        },
        "outputId": "9dea2807-7efd-4b65-9e43-a76ca7d3c77e"
      },
      "source": [
        "import geopandas\n",
        "\n",
        "gdf = geopandas.GeoDataFrame(\n",
        "    address_group, geometry=geopandas.points_from_xy(address_group.longitude, address_group.latitude))\n",
        "\n",
        "gdf.head()"
      ],
      "execution_count": null,
      "outputs": [
        {
          "output_type": "execute_result",
          "data": {
            "text/html": [
              "<div>\n",
              "<style scoped>\n",
              "    .dataframe tbody tr th:only-of-type {\n",
              "        vertical-align: middle;\n",
              "    }\n",
              "\n",
              "    .dataframe tbody tr th {\n",
              "        vertical-align: top;\n",
              "    }\n",
              "\n",
              "    .dataframe thead th {\n",
              "        text-align: right;\n",
              "    }\n",
              "</style>\n",
              "<table border=\"1\" class=\"dataframe\">\n",
              "  <thead>\n",
              "    <tr style=\"text-align: right;\">\n",
              "      <th></th>\n",
              "      <th>name</th>\n",
              "      <th>count</th>\n",
              "      <th>city</th>\n",
              "      <th>state</th>\n",
              "      <th>latitude</th>\n",
              "      <th>longitude</th>\n",
              "      <th>geometry</th>\n",
              "    </tr>\n",
              "  </thead>\n",
              "  <tbody>\n",
              "    <tr>\n",
              "      <th>0</th>\n",
              "      <td>&amp;EAT Restaurante</td>\n",
              "      <td>2</td>\n",
              "      <td>São Paulo</td>\n",
              "      <td>São Paulo</td>\n",
              "      <td>-23.584914</td>\n",
              "      <td>-46.679795</td>\n",
              "      <td>POINT (-46.67979 -23.58491)</td>\n",
              "    </tr>\n",
              "    <tr>\n",
              "      <th>1</th>\n",
              "      <td>''Pino Spazio''</td>\n",
              "      <td>1</td>\n",
              "      <td>São Paulo</td>\n",
              "      <td>São Paulo</td>\n",
              "      <td>-23.580586</td>\n",
              "      <td>-46.677558</td>\n",
              "      <td>POINT (-46.67756 -23.58059)</td>\n",
              "    </tr>\n",
              "    <tr>\n",
              "      <th>2</th>\n",
              "      <td>+ Sabor</td>\n",
              "      <td>1</td>\n",
              "      <td>Teresina</td>\n",
              "      <td>Piauí</td>\n",
              "      <td>-5.133390</td>\n",
              "      <td>-42.794155</td>\n",
              "      <td>POINT (-42.79416 -5.13339)</td>\n",
              "    </tr>\n",
              "    <tr>\n",
              "      <th>3</th>\n",
              "      <td>00</td>\n",
              "      <td>3</td>\n",
              "      <td>Gávea</td>\n",
              "      <td>Rio de Janeiro</td>\n",
              "      <td>-22.978278</td>\n",
              "      <td>-43.230314</td>\n",
              "      <td>POINT (-43.23031 -22.97828)</td>\n",
              "    </tr>\n",
              "    <tr>\n",
              "      <th>4</th>\n",
              "      <td>011 Gastronomia</td>\n",
              "      <td>12</td>\n",
              "      <td>NaN</td>\n",
              "      <td>NaN</td>\n",
              "      <td>NaN</td>\n",
              "      <td>NaN</td>\n",
              "      <td>POINT (nan nan)</td>\n",
              "    </tr>\n",
              "  </tbody>\n",
              "</table>\n",
              "</div>"
            ],
            "text/plain": [
              "               name  count  ...  longitude                     geometry\n",
              "0  &EAT Restaurante      2  ... -46.679795  POINT (-46.67979 -23.58491)\n",
              "1   ''Pino Spazio''      1  ... -46.677558  POINT (-46.67756 -23.58059)\n",
              "2           + Sabor      1  ... -42.794155   POINT (-42.79416 -5.13339)\n",
              "3                00      3  ... -43.230314  POINT (-43.23031 -22.97828)\n",
              "4   011 Gastronomia     12  ...        NaN              POINT (nan nan)\n",
              "\n",
              "[5 rows x 7 columns]"
            ]
          },
          "metadata": {
            "tags": []
          },
          "execution_count": 56
        }
      ]
    },
    {
      "cell_type": "code",
      "metadata": {
        "id": "HhkzlqzXremB"
      },
      "source": [
        "world = geopandas.read_file(\n",
        "    geopandas.datasets.get_path('naturalearth_lowres')\n",
        ")"
      ],
      "execution_count": null,
      "outputs": []
    },
    {
      "cell_type": "code",
      "metadata": {
        "id": "xxvnStnVs3ql",
        "colab": {
          "base_uri": "https://localhost:8080/",
          "height": 163
        },
        "outputId": "9c7331a2-d8ea-479e-ab61-dfd2e1c56cdd"
      },
      "source": [
        "geoplot.polyplot(world, figsize=(8, 4))\n"
      ],
      "execution_count": null,
      "outputs": [
        {
          "output_type": "error",
          "ename": "NameError",
          "evalue": "ignored",
          "traceback": [
            "\u001b[0;31m---------------------------------------------------------------------------\u001b[0m",
            "\u001b[0;31mNameError\u001b[0m                                 Traceback (most recent call last)",
            "\u001b[0;32m<ipython-input-58-818d668ec945>\u001b[0m in \u001b[0;36m<module>\u001b[0;34m()\u001b[0m\n\u001b[0;32m----> 1\u001b[0;31m \u001b[0mgeoplot\u001b[0m\u001b[0;34m.\u001b[0m\u001b[0mpolyplot\u001b[0m\u001b[0;34m(\u001b[0m\u001b[0mworld\u001b[0m\u001b[0;34m,\u001b[0m \u001b[0mfigsize\u001b[0m\u001b[0;34m=\u001b[0m\u001b[0;34m(\u001b[0m\u001b[0;36m8\u001b[0m\u001b[0;34m,\u001b[0m \u001b[0;36m4\u001b[0m\u001b[0;34m)\u001b[0m\u001b[0;34m)\u001b[0m\u001b[0;34m\u001b[0m\u001b[0;34m\u001b[0m\u001b[0m\n\u001b[0m",
            "\u001b[0;31mNameError\u001b[0m: name 'geoplot' is not defined"
          ]
        }
      ]
    },
    {
      "cell_type": "code",
      "metadata": {
        "id": "OSRihT8is5TL",
        "colab": {
          "base_uri": "https://localhost:8080/"
        },
        "outputId": "a5bbd331-103e-4d93-c750-5ee6d5fbaea4"
      },
      "source": [
        "pip install basemap"
      ],
      "execution_count": null,
      "outputs": [
        {
          "output_type": "stream",
          "text": [
            "\u001b[31mERROR: Could not find a version that satisfies the requirement basemap (from versions: none)\u001b[0m\n",
            "\u001b[31mERROR: No matching distribution found for basemap\u001b[0m\n"
          ],
          "name": "stdout"
        }
      ]
    },
    {
      "cell_type": "code",
      "metadata": {
        "id": "F_IVRcBzv4PF"
      },
      "source": [
        ""
      ],
      "execution_count": null,
      "outputs": []
    }
  ]
}