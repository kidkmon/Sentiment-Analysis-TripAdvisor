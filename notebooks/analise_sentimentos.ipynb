{
  "nbformat": 4,
  "nbformat_minor": 0,
  "metadata": {
    "colab": {
      "name": "analise-sentimentos.ipynb",
      "provenance": [],
      "collapsed_sections": [],
      "include_colab_link": true
    },
    "kernelspec": {
      "name": "python3",
      "display_name": "Python 3"
    }
  },
  "cells": [
    {
      "cell_type": "markdown",
      "metadata": {
        "id": "view-in-github",
        "colab_type": "text"
      },
      "source": [
        "<a href=\"https://colab.research.google.com/github/kidkmon/Sentiment-Analysis-TripAdvisor/blob/main/analise_sentimentos.ipynb\" target=\"_parent\"><img src=\"https://colab.research.google.com/assets/colab-badge.svg\" alt=\"Open In Colab\"/></a>"
      ]
    },
    {
      "cell_type": "markdown",
      "metadata": {
        "id": "IPGLkah7pT6C"
      },
      "source": [
        "#Instalação de pacotes"
      ]
    },
    {
      "cell_type": "code",
      "metadata": {
        "id": "n3sSrSa4pPWR",
        "colab": {
          "base_uri": "https://localhost:8080/"
        },
        "outputId": "d1a48749-d3b6-44a7-b711-fe49dc036f3f"
      },
      "source": [
        "!python -m textblob.download_corpora"
      ],
      "execution_count": null,
      "outputs": [
        {
          "output_type": "stream",
          "text": [
            "[nltk_data] Downloading package brown to /root/nltk_data...\n",
            "[nltk_data]   Package brown is already up-to-date!\n",
            "[nltk_data] Downloading package punkt to /root/nltk_data...\n",
            "[nltk_data]   Package punkt is already up-to-date!\n",
            "[nltk_data] Downloading package wordnet to /root/nltk_data...\n",
            "[nltk_data]   Package wordnet is already up-to-date!\n",
            "[nltk_data] Downloading package averaged_perceptron_tagger to\n",
            "[nltk_data]     /root/nltk_data...\n",
            "[nltk_data]   Package averaged_perceptron_tagger is already up-to-\n",
            "[nltk_data]       date!\n",
            "[nltk_data] Downloading package conll2000 to /root/nltk_data...\n",
            "[nltk_data]   Package conll2000 is already up-to-date!\n",
            "[nltk_data] Downloading package movie_reviews to /root/nltk_data...\n",
            "[nltk_data]   Package movie_reviews is already up-to-date!\n",
            "Finished.\n"
          ],
          "name": "stdout"
        }
      ]
    },
    {
      "cell_type": "markdown",
      "metadata": {
        "id": "L674wxxDpcWg"
      },
      "source": [
        "#Importar pacotes"
      ]
    },
    {
      "cell_type": "code",
      "metadata": {
        "id": "fHtSnenypdzJ"
      },
      "source": [
        "from textblob import TextBlob\n",
        "import pandas as pd # biblioteca para processamento dos dados\n",
        "from pandas import json_normalize # realiza a normalização de campos do tipo json no dataframe\n",
        "import numpy as np # biblioteca de algebra linear\n",
        "\n",
        "import urllib.request # biblioteca que trabalha com requisições HTTP\n",
        "import json # biblioteca para processamento de dados do tipo JSON\n"
      ],
      "execution_count": null,
      "outputs": []
    },
    {
      "cell_type": "markdown",
      "metadata": {
        "id": "GB9RpZ2cq9Iw"
      },
      "source": [
        "#Análise de Sentimentos - Tradução TextBlob"
      ]
    },
    {
      "cell_type": "markdown",
      "metadata": {
        "id": "-4jRMuKBq-_I"
      },
      "source": [
        "Importação do dataset"
      ]
    },
    {
      "cell_type": "code",
      "metadata": {
        "id": "zEmlgRrMpoUn"
      },
      "source": [
        "def load_data(url, encoding=\"utf-8\"):\n",
        "  dat_file = urllib.request.urlopen(url)\n",
        "\n",
        "  json_format_file = [json.loads(line) for line in dat_file]\n",
        "\n",
        "  df = pd.DataFrame(json_format_file)\n",
        "  \n",
        "  return df"
      ],
      "execution_count": null,
      "outputs": []
    },
    {
      "cell_type": "code",
      "metadata": {
        "id": "OhKYt3BMgbS5"
      },
      "source": [
        "df = load_data(url=\"http://tiagodemelo.info/datasets/dataset-v2.dat\")\n"
      ],
      "execution_count": null,
      "outputs": []
    },
    {
      "cell_type": "markdown",
      "metadata": {
        "id": "SGzzYdRhrBYq"
      },
      "source": [
        "Aplicação da tradução com Texblob"
      ]
    },
    {
      "cell_type": "code",
      "metadata": {
        "id": "YoeFbIBQ1c6G"
      },
      "source": [
        "#fatiamento do dataset\n",
        "df = df.loc[0:10]\n",
        "\n",
        "#dicionário que armazena os comentários traduzidos\n",
        "dicio = {'comment_us': []}\n",
        "\n",
        "#lista que guarda o comentário original no formato do Textblob\n",
        "list_blob = []\n"
      ],
      "execution_count": null,
      "outputs": []
    },
    {
      "cell_type": "code",
      "metadata": {
        "id": "ICj1Nb2Vpyt-"
      },
      "source": [
        "for comment in df['reviewBody']:\n",
        "\n",
        "  comentario_blob = TextBlob(comment.replace(\"\\n\",''))\n",
        "  comentario_blob_us = comentario_blob.translate(to='us')\n",
        "\n",
        "  list_blob.append(comentario_blob)\n",
        "  dicio['comment_us'].append(comentario_blob_us)\n",
        "\n"
      ],
      "execution_count": null,
      "outputs": []
    },
    {
      "cell_type": "markdown",
      "metadata": {
        "id": "_LTUYDNzBnxG"
      },
      "source": [
        "- Criação do dataframe a partir do dict\n",
        "- Expotação para arqv csv"
      ]
    },
    {
      "cell_type": "code",
      "metadata": {
        "id": "eDw5dDerucaR"
      },
      "source": [
        "df_us1 = pd.DataFrame(dicio)\n",
        "df_us1.to_csv('dataset_us1.csv',sep=\"³\", encoding='utf-8', index=False)"
      ],
      "execution_count": null,
      "outputs": []
    },
    {
      "cell_type": "markdown",
      "metadata": {
        "id": "v7ctt37aB424"
      },
      "source": [
        "Importação do csv traduzido"
      ]
    },
    {
      "cell_type": "code",
      "metadata": {
        "colab": {
          "base_uri": "https://localhost:8080/",
          "height": 255
        },
        "id": "IiO0I81UlBcS",
        "outputId": "9de64736-ed0b-4b93-93ed-d45de7080236"
      },
      "source": [
        "df_us_a = pd.read_csv('dataset_us_a.csv', encoding='utf-8',sep=\"³\", )\n",
        "df_us_b = pd.read_csv('dataset_us_a.csv', encoding='utf-8',sep=\"³\", )\n",
        "df_us_c = pd.read_csv('dataset_us_a.csv', encoding='utf-8',sep=\"³\", )\n"
      ],
      "execution_count": null,
      "outputs": [
        {
          "output_type": "stream",
          "text": [
            "/usr/local/lib/python3.6/dist-packages/ipykernel_launcher.py:1: ParserWarning: Falling back to the 'python' engine because the separator encoded in utf-8 is > 1 char long, and the 'c' engine does not support such separators; you can avoid this warning by specifying engine='python'.\n",
            "  \"\"\"Entry point for launching an IPython kernel.\n"
          ],
          "name": "stderr"
        },
        {
          "output_type": "execute_result",
          "data": {
            "text/html": [
              "<div>\n",
              "<style scoped>\n",
              "    .dataframe tbody tr th:only-of-type {\n",
              "        vertical-align: middle;\n",
              "    }\n",
              "\n",
              "    .dataframe tbody tr th {\n",
              "        vertical-align: top;\n",
              "    }\n",
              "\n",
              "    .dataframe thead th {\n",
              "        text-align: right;\n",
              "    }\n",
              "</style>\n",
              "<table border=\"1\" class=\"dataframe\">\n",
              "  <thead>\n",
              "    <tr style=\"text-align: right;\">\n",
              "      <th></th>\n",
              "      <th>comment_us</th>\n",
              "    </tr>\n",
              "  </thead>\n",
              "  <tbody>\n",
              "    <tr>\n",
              "      <th>0</th>\n",
              "      <td>Wonderful food, the place for real shrimp gum....</td>\n",
              "    </tr>\n",
              "    <tr>\n",
              "      <th>1</th>\n",
              "      <td>Good food, nice drinks and a very cozy atmosph...</td>\n",
              "    </tr>\n",
              "    <tr>\n",
              "      <th>2</th>\n",
              "      <td>Excellent to go with the family! Great food, p...</td>\n",
              "    </tr>\n",
              "    <tr>\n",
              "      <th>3</th>\n",
              "      <td>I have had ice cream at Visabor for over 30 ye...</td>\n",
              "    </tr>\n",
              "    <tr>\n",
              "      <th>4</th>\n",
              "      <td>The best hamburger I've ever eaten! Excellent ...</td>\n",
              "    </tr>\n",
              "  </tbody>\n",
              "</table>\n",
              "</div>"
            ],
            "text/plain": [
              "                                          comment_us\n",
              "0  Wonderful food, the place for real shrimp gum....\n",
              "1  Good food, nice drinks and a very cozy atmosph...\n",
              "2  Excellent to go with the family! Great food, p...\n",
              "3  I have had ice cream at Visabor for over 30 ye...\n",
              "4  The best hamburger I've ever eaten! Excellent ..."
            ]
          },
          "metadata": {
            "tags": []
          },
          "execution_count": 152
        }
      ]
    },
    {
      "cell_type": "code",
      "metadata": {
        "id": "5xtSiOmSdzcx"
      },
      "source": [
        "df_union= pd.concat([df_us_a, df_us_b, df_us_c]) ,ignore_index=True)"
      ],
      "execution_count": null,
      "outputs": []
    },
    {
      "cell_type": "markdown",
      "metadata": {
        "id": "-_ixhn2ZB9MH"
      },
      "source": [
        "Informações sobre o dataframe"
      ]
    },
    {
      "cell_type": "code",
      "metadata": {
        "id": "qkp2RVbv355e",
        "colab": {
          "base_uri": "https://localhost:8080/"
        },
        "outputId": "1651d90b-ebb6-4191-d8c7-cfaa929b0b1e"
      },
      "source": [
        "df_us.info()"
      ],
      "execution_count": null,
      "outputs": [
        {
          "output_type": "stream",
          "text": [
            "<class 'pandas.core.frame.DataFrame'>\n",
            "RangeIndex: 101 entries, 0 to 100\n",
            "Data columns (total 1 columns):\n",
            " #   Column      Non-Null Count  Dtype \n",
            "---  ------      --------------  ----- \n",
            " 0   comment_us  101 non-null    object\n",
            "dtypes: object(1)\n",
            "memory usage: 936.0+ bytes\n"
          ],
          "name": "stdout"
        }
      ]
    },
    {
      "cell_type": "markdown",
      "metadata": {
        "id": "SHii6r-7rO_M"
      },
      "source": [
        "##Cálculo da subjetividade"
      ]
    },
    {
      "cell_type": "markdown",
      "metadata": {
        "id": "zOcwg2oJrTNo"
      },
      "source": [
        "O valor da subjetividade é um número real entre [0.0, 1.0], onde 0.0 o texto é indicado como muito objetivo e 1.0 o texto é indicado como muito subjetivo."
      ]
    },
    {
      "cell_type": "code",
      "metadata": {
        "id": "SX8bHfhWp3SA",
        "colab": {
          "base_uri": "https://localhost:8080/"
        },
        "outputId": "ee2d51d9-7cac-4e13-ed20-4425d0d80008"
      },
      "source": [
        "for com_us in df_us['comment_us']:\n",
        "  comment = TextBlob(com_us.replace(\"\\n\",''))\n",
        "  for sentence_br, sentence in zip(comment.sentences, comment.sentences):\n",
        "    print(sentence_br, ':', sentence.sentiment.subjectivity)"
      ],
      "execution_count": null,
      "outputs": [
        {
          "output_type": "stream",
          "text": [
            "Wonderful food, the place for real shrimp gum. : 0.65\n",
            "The waiter Éric Lima served us very well, we intend to return as soon as possible. : 0.65\n",
            "Good food, nice drinks and a very cozy atmosphere. : 0.8583333333333334\n",
            "We tried many things and everything pleased us. : 0.75\n",
            "Especially a duck served in one of the house dishes, sensational! : 0.8333333333333333\n",
            "Excellent to go with the family! : 1.0\n",
            "Great food, pleasant atmosphere, good service and parking. : 0.7722222222222223\n",
            "worth knowing : 0.1\n",
            "I have had ice cream at Visabor for over 30 years. : 0.0\n",
            "Fruit or artificial flavors. : 1.0\n",
            "Crunchy cone and simple atmosphere. : 0.35714285714285715\n",
            "Very good prices. : 0.7800000000000001\n",
            "I recommend : 0.0\n",
            "The best hamburger I've ever eaten! : 0.3\n",
            "Excellent service, the food was great. : 0.875\n",
            "The restaurant is quite small, but nice and fun. : 0.5333333333333333\n",
            "The restaurant is new, super cozy and charming with great service. : 0.7242424242424242\n",
            "The portions are generous, very tasty and at a fair price. : 0.6\n",
            "Good selection of wines. : 0.6000000000000001\n",
            "I highly recommend the seafood spaghetti, bolognese, carbonara and risotto. : 0.5399999999999999\n",
            "The tiramisu is also fantastic. : 0.9\n",
            "Every time I went with my boyfriend, but it is an excellent environment to take family or friends. : 1.0\n",
            "We went on a Saturday, elegant atmosphere, kind and friendly staff. : 0.7999999999999999\n",
            "We ate a very tasty curry, but the filet was not filet. : 0.3\n",
            "The dessert (pineapple wonton with pepper jelly and ice cream) was great. : 0.75\n",
            "Great food with good attendance and a lot of good things to take your wife and girlfriend and family because the food portions are good! : 0.6375000000000001\n",
            "Thank you very much : 0.26\n",
            "Nice atmosphere, totally affordable price, and I love the menu there! : 0.7833333333333333\n",
            "Not to mention the wonderful service! : 1.0\n",
            "I will always come back 😘 : 0.0\n",
            "The pizzeria is the most traditional in Belo Horizonte. : 0.625\n",
            "There are several options. : 0.0\n",
            "In addition to the pizzas there is also an exceptional parmeggiana, delicious and juicy : 1.0\n",
            "I was with my family this afternoon for the first time I came across a beautiful and cozy setting. : 0.6944444444444443\n",
            "I bought 1 kg of BIG shrimp, I looked at the boy weighing and choosing my shrimp. : 0.1\n",
            "The disappointment came when I sat at the stall and asked to fry it (I don't want to mention the name) The shrimp arrived very tasty but the big prawns (it came on top) When we went to eat the inside there were only tiny shriveled shrimp (old ones) ) As if they exchanged a good part. : 0.45\n",
            "So far so good, when the shrimp ended I realized that it had about 20 heads without the body as if it were leftovers ... : 0.8\n",
            "I called the waiter in disguise and he just made sure he did not listen and went to another table. : 0.8888888888888888\n",
            "I really felt like a muggle. : 0.2\n",
            "Anyway, I ask you to pay attention, the place is great. : 0.75\n",
            "I loved it, I will be back, but to eat a fish, because shrimp I only buy to take and fry at my house. : 0.6\n"
          ],
          "name": "stdout"
        }
      ]
    },
    {
      "cell_type": "markdown",
      "metadata": {
        "id": "YpHkeYDSr-J-"
      },
      "source": [
        "##Cálculo da polaridade"
      ]
    },
    {
      "cell_type": "markdown",
      "metadata": {
        "id": "6P_dvtOssBBj"
      },
      "source": [
        "O valor da polaridade é um número real entre os valores [-1.0, 1.0]."
      ]
    },
    {
      "cell_type": "code",
      "metadata": {
        "id": "VtsOZWS0sL74",
        "colab": {
          "base_uri": "https://localhost:8080/"
        },
        "outputId": "669e9d1f-1fc9-4682-e56a-1b5349487f4c"
      },
      "source": [
        "for com_us in df_us['comment_us']:\n",
        "  comment = TextBlob(com_us.replace(\"\\n\",''))\n",
        "  for sentence in comment.sentences:\n",
        "    print(sentence, ':', sentence.sentiment.polarity)"
      ],
      "execution_count": null,
      "outputs": [
        {
          "output_type": "stream",
          "text": [
            "Wonderful food, the place for real shrimp gum. : 0.6\n",
            "The waiter Éric Lima served us very well, we intend to return as soon as possible. : 0.1\n",
            "Good food, nice drinks and a very cozy atmosphere. : 0.3466666666666666\n",
            "We tried many things and everything pleased us. : 0.5\n",
            "Especially a duck served in one of the house dishes, sensational! : 0.41666666666666663\n",
            "Excellent to go with the family! : 1.0\n",
            "Great food, pleasant atmosphere, good service and parking. : 0.7444444444444445\n",
            "worth knowing : 0.3\n",
            "I have had ice cream at Visabor for over 30 years. : 0.0\n",
            "Fruit or artificial flavors. : -0.6\n",
            "Crunchy cone and simple atmosphere. : 0.0\n",
            "Very good prices. : 0.9099999999999999\n",
            "I recommend : 0.0\n",
            "The best hamburger I've ever eaten! : 1.0\n",
            "Excellent service, the food was great. : 0.9\n",
            "The restaurant is quite small, but nice and fun. : 0.21666666666666665\n",
            "The restaurant is new, super cozy and charming with great service. : 0.3539393939393939\n",
            "The portions are generous, very tasty and at a fair price. : 0.44999999999999996\n",
            "Good selection of wines. : 0.7\n",
            "I highly recommend the seafood spaghetti, bolognese, carbonara and risotto. : 0.16\n",
            "The tiramisu is also fantastic. : 0.4\n",
            "Every time I went with my boyfriend, but it is an excellent environment to take family or friends. : 1.0\n",
            "We went on a Saturday, elegant atmosphere, kind and friendly staff. : 0.4916666666666667\n",
            "We ate a very tasty curry, but the filet was not filet. : 0.2\n",
            "The dessert (pineapple wonton with pepper jelly and ice cream) was great. : 0.8\n",
            "Great food with good attendance and a lot of good things to take your wife and girlfriend and family because the food portions are good! : 0.76875\n",
            "Thank you very much : 0.26\n",
            "Nice atmosphere, totally affordable price, and I love the menu there! : 0.4083333333333334\n",
            "Not to mention the wonderful service! : 1.0\n",
            "I will always come back 😘 : 0.0\n",
            "The pizzeria is the most traditional in Belo Horizonte. : 0.25\n",
            "There are several options. : 0.0\n",
            "In addition to the pizzas there is also an exceptional parmeggiana, delicious and juicy : 0.8333333333333333\n",
            "I was with my family this afternoon for the first time I came across a beautiful and cozy setting. : 0.30000000000000004\n",
            "I bought 1 kg of BIG shrimp, I looked at the boy weighing and choosing my shrimp. : 0.0\n",
            "The disappointment came when I sat at the stall and asked to fry it (I don't want to mention the name) The shrimp arrived very tasty but the big prawns (it came on top) When we went to eat the inside there were only tiny shriveled shrimp (old ones) ) As if they exchanged a good part. : 0.1125\n",
            "So far so good, when the shrimp ended I realized that it had about 20 heads without the body as if it were leftovers ... : 0.39999999999999997\n",
            "I called the waiter in disguise and he just made sure he did not listen and went to another table. : 0.5\n",
            "I really felt like a muggle. : 0.2\n",
            "Anyway, I ask you to pay attention, the place is great. : 0.8\n",
            "I loved it, I will be back, but to eat a fish, because shrimp I only buy to take and fry at my house. : 0.2333333333333333\n"
          ],
          "name": "stdout"
        }
      ]
    },
    {
      "cell_type": "markdown",
      "metadata": {
        "id": "c_venVBtg5uf"
      },
      "source": [
        "#Análise de Sentimentos - Tradução Google Trans"
      ]
    },
    {
      "cell_type": "code",
      "metadata": {
        "id": "8FG6IOxp1ONb"
      },
      "source": [
        "df_trans = pd.read_csv('dataset_trans.csv', encoding='utf-8',sep=\";\", )"
      ],
      "execution_count": null,
      "outputs": []
    },
    {
      "cell_type": "code",
      "metadata": {
        "id": "1Wp5rlwIhFcR"
      },
      "source": [
        "df_trans.info()"
      ],
      "execution_count": null,
      "outputs": []
    },
    {
      "cell_type": "markdown",
      "metadata": {
        "id": "sOdsNn2whW-P"
      },
      "source": [
        "##Cálculo da subjetividade"
      ]
    },
    {
      "cell_type": "markdown",
      "metadata": {
        "id": "0vft7dCZha_q"
      },
      "source": [
        "O valor da subjetividade é um número real entre [0.0, 1.0], onde 0.0 o texto é indicado como muito objetivo e 1.0 o texto é indicado como muito subjetivo."
      ]
    },
    {
      "cell_type": "code",
      "metadata": {
        "id": "8yJadkTshXaz"
      },
      "source": [
        "for com_us in df_trans['comment_us']:\n",
        "  comment = TextBlob(com_us.replace(\"\\n\",''))\n",
        "  for sentence_br, sentence in zip(comment.sentences, comment.sentences):\n",
        "    print(sentence_br, ':', sentence.sentiment.subjectivity)"
      ],
      "execution_count": null,
      "outputs": []
    },
    {
      "cell_type": "markdown",
      "metadata": {
        "id": "c8G35-ZKhhHa"
      },
      "source": [
        "##Cálculo da polaridade"
      ]
    },
    {
      "cell_type": "markdown",
      "metadata": {
        "id": "UZLDh1tPhjh0"
      },
      "source": [
        "O valor da polaridade é um número real entre os valores [-1.0, 1.0]."
      ]
    },
    {
      "cell_type": "code",
      "metadata": {
        "id": "fF4rj82Jhhbo"
      },
      "source": [
        "for com_us in df_trans['comment_us']:\n",
        "  comment = TextBlob(com_us.replace(\"\\n\",''))\n",
        "  for sentence in comment.sentences:\n",
        "    print(sentence, ':', sentence.sentiment.polarity)"
      ],
      "execution_count": null,
      "outputs": []
    },
    {
      "cell_type": "markdown",
      "metadata": {
        "id": "eL9DYzuYh8rl"
      },
      "source": [
        "#Resumo"
      ]
    },
    {
      "cell_type": "markdown",
      "metadata": {
        "id": "3JbtrYiHh_ZQ"
      },
      "source": [
        ""
      ]
    }
  ]
}